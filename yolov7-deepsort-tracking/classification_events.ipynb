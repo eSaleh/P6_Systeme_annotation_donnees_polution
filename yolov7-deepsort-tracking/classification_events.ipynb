{
 "cells": [
  {
   "cell_type": "markdown",
   "metadata": {},
   "source": [
    "On extrait les jsons qui indique le nombre d'objet en mouvement et immobile d'après l'algorithme de détection et de suivi"
   ]
  },
  {
   "cell_type": "code",
   "execution_count": 1,
   "metadata": {},
   "outputs": [],
   "source": [
    "from mouvement_label.preprocess import read_jsons,preprocess\n",
    "from mouvement_label.detection_mouvement import detect_moving_frame,frame_by_frame\n",
    "from mouvement_label.affichage import graph,graphe_capteurs,correlation_pm25\n",
    "from mouvement_label.annotation import detection_mouvement,annotate,add_labels_to_df\n",
    "from tqdm import tqdm\n",
    "import json"
   ]
  },
  {
   "cell_type": "code",
   "execution_count": 2,
   "metadata": {},
   "outputs": [],
   "source": [
    "data_json_dict,frame_json_dict=read_jsons(PATH=\"./json/\",num_cam=\"cam1\",date=\"20240328\")"
   ]
  },
  {
   "cell_type": "markdown",
   "metadata": {},
   "source": [
    "un exemple"
   ]
  },
  {
   "cell_type": "code",
   "execution_count": 3,
   "metadata": {},
   "outputs": [],
   "source": [
    "#data_exp=detection_mouvement(data_json_dict,frame_json_dict)"
   ]
  },
  {
   "cell_type": "code",
   "execution_count": 4,
   "metadata": {},
   "outputs": [],
   "source": [
    "#with open(\"./20240328.json\",\"w\") as f:\n",
    "#    json.dump(data_exp,f)"
   ]
  },
  {
   "cell_type": "markdown",
   "metadata": {},
   "source": [
    "Annotation des vidéos"
   ]
  },
  {
   "cell_type": "code",
   "execution_count": 5,
   "metadata": {},
   "outputs": [],
   "source": [
    "with open(\"./20240328.json\",'r') as f:\n",
    "    data_exp = json.load(f)"
   ]
  },
  {
   "cell_type": "code",
   "execution_count": 6,
   "metadata": {},
   "outputs": [],
   "source": [
    "annotation=annotate(data_exp)"
   ]
  },
  {
   "cell_type": "code",
   "execution_count": 7,
   "metadata": {},
   "outputs": [
    {
     "data": {
      "text/plain": [
       "{'20240328135129': 'aucun passage',\n",
       " '20240328135329': '2 passage(s)',\n",
       " '20240328105223': 'aucun passage',\n",
       " '20240328112839': '1 passage(s)',\n",
       " '20240328113640': 'aucun passage',\n",
       " '20240328115042': '3 passage(s)',\n",
       " '20240328115242': '1 passage(s)',\n",
       " '20240328115442': 'aucun passage',\n",
       " '20240328121925': '1 passage(s)',\n",
       " '20240328122125': '1 passage(s)',\n",
       " '20240328122525': '1 passage(s)',\n",
       " '20240328123525': '2 passage(s)',\n",
       " '20240328123725': '1 passage(s)',\n",
       " '20240328123925': '2 passage(s)',\n",
       " '20240328125128': '1 passage(s)',\n",
       " '20240328125328': '1 passage(s)',\n",
       " '20240328131528': '2 passage(s)',\n",
       " '20240328131928': '2 passage(s)',\n",
       " '20240328132328': '1 passage(s)',\n",
       " '20240328132528': 'aucun passage',\n",
       " '20240328133129': '1 passage(s)',\n",
       " '20240328133329': 'aucun passage',\n",
       " '20240328133929': '1 passage(s)'}"
      ]
     },
     "execution_count": 7,
     "metadata": {},
     "output_type": "execute_result"
    }
   ],
   "source": [
    "annotation"
   ]
  },
  {
   "cell_type": "code",
   "execution_count": 8,
   "metadata": {},
   "outputs": [],
   "source": [
    "import pandas as pd\n",
    "\n",
    "df=pd.read_csv(\"D:/IMT Nord Europe/2eme annee/P6/P6 - Système automatique d'annotation de données de pollution/P6_Systeme_annotation_donnees_polution/data/output_2024-03-29_10_24.csv\",index_col=None)"
   ]
  },
  {
   "cell_type": "code",
   "execution_count": 9,
   "metadata": {},
   "outputs": [
    {
     "name": "stdout",
     "output_type": "stream",
     "text": [
      "20240328135129\n",
      "Index([ 309,  310,  311,  312,  313,  634,  635,  636,  637,  638,  869,  870,\n",
      "        871,  872,  873, 1110, 1111, 1112, 1113, 1114],\n",
      "      dtype='int64')\n",
      "20240328135329\n",
      "Index([ 311,  312,  313,  314,  315,  636,  637,  638,  639,  640,  871,  872,\n",
      "        873,  874,  875, 1112, 1113, 1114, 1115, 1116],\n",
      "      dtype='int64')\n",
      "20240328105223\n",
      "Index([ 46,  47, 130, 131, 132, 133, 134, 370, 371, 455, 456, 457, 458, 459,\n",
      "       690, 691, 692, 693, 694, 931, 932, 933, 934, 935],\n",
      "      dtype='int64')\n",
      "20240328112839\n",
      "Index([ 79,  80,  81,  82,  83, 166, 167, 168, 169, 170, 401, 402, 403, 491,\n",
      "       492, 493, 494, 495, 726, 727, 728, 729, 730, 967, 968, 969, 970, 971],\n",
      "      dtype='int64')\n",
      "20240328113640\n",
      "Index([174, 175, 176, 177, 178, 499, 500, 501, 502, 503, 734, 735, 736, 737,\n",
      "       738, 975, 976, 977, 978, 979],\n",
      "      dtype='int64')\n",
      "20240328115042\n",
      "Index([188, 189, 190, 191, 192, 513, 514, 515, 516, 517, 748, 749, 750, 751,\n",
      "       752, 989, 990, 991, 992, 993],\n",
      "      dtype='int64')\n",
      "20240328115242\n",
      "Index([190, 191, 192, 193, 194, 515, 516, 517, 518, 519, 750, 751, 752, 753,\n",
      "       754, 991, 992, 993, 994, 995],\n",
      "      dtype='int64')\n",
      "20240328115442\n",
      "Index([192, 193, 194, 195, 196, 517, 518, 519, 520, 521, 752, 753, 754, 755,\n",
      "       756, 993, 994, 995, 996, 997],\n",
      "      dtype='int64')\n",
      "20240328121925\n",
      "Index([ 217,  218,  219,  220,  221,  542,  543,  544,  545,  546,  777,  778,\n",
      "        779,  780,  781, 1018, 1019, 1020, 1021, 1022],\n",
      "      dtype='int64')\n",
      "20240328122125\n",
      "Index([ 219,  220,  221,  222,  223,  544,  545,  546,  547,  548,  779,  780,\n",
      "        781,  782,  783, 1020, 1021, 1022, 1023, 1024],\n",
      "      dtype='int64')\n",
      "20240328122525\n",
      "Index([ 223,  224,  225,  226,  227,  548,  549,  550,  551,  552,  783,  784,\n",
      "        785,  786,  787, 1024, 1025, 1026, 1027, 1028],\n",
      "      dtype='int64')\n",
      "20240328123525\n",
      "Index([ 233,  234,  235,  236,  237,  558,  559,  560,  561,  562,  793,  794,\n",
      "        795,  796,  797, 1034, 1035, 1036, 1037, 1038],\n",
      "      dtype='int64')\n",
      "20240328123725\n",
      "Index([ 235,  236,  237,  238,  239,  560,  561,  562,  563,  564,  795,  796,\n",
      "        797,  798,  799, 1036, 1037, 1038, 1039, 1040],\n",
      "      dtype='int64')\n",
      "20240328123925\n",
      "Index([ 237,  238,  239,  240,  241,  562,  563,  564,  565,  566,  797,  798,\n",
      "        799,  800,  801, 1038, 1039, 1040, 1041, 1042],\n",
      "      dtype='int64')\n",
      "20240328125128\n",
      "Index([ 249,  250,  251,  252,  253,  574,  575,  576,  577,  578,  809,  810,\n",
      "        811,  812,  813, 1050, 1051, 1052, 1053, 1054],\n",
      "      dtype='int64')\n",
      "20240328125328\n",
      "Index([ 251,  252,  253,  254,  255,  576,  577,  578,  579,  580,  811,  812,\n",
      "        813,  814,  815, 1052, 1053, 1054, 1055, 1056],\n",
      "      dtype='int64')\n",
      "20240328131528\n",
      "Index([ 273,  274,  275,  276,  277,  598,  599,  600,  601,  602,  833,  834,\n",
      "        835,  836,  837, 1074, 1075, 1076, 1077, 1078],\n",
      "      dtype='int64')\n",
      "20240328131928\n",
      "Index([ 277,  278,  279,  280,  281,  602,  603,  604,  605,  606,  837,  838,\n",
      "        839,  840,  841, 1078, 1079, 1080, 1081, 1082],\n",
      "      dtype='int64')\n",
      "20240328132328\n",
      "Index([ 281,  282,  283,  284,  285,  606,  607,  608,  609,  610,  841,  842,\n",
      "        843,  844,  845, 1082, 1083, 1084, 1085, 1086],\n",
      "      dtype='int64')\n",
      "20240328132528\n",
      "Index([ 283,  284,  285,  286,  287,  608,  609,  610,  611,  612,  843,  844,\n",
      "        845,  846,  847, 1084, 1085, 1086, 1087, 1088],\n",
      "      dtype='int64')\n",
      "20240328133129\n",
      "Index([ 289,  290,  291,  292,  293,  614,  615,  616,  617,  618,  849,  850,\n",
      "        851,  852,  853, 1090, 1091, 1092, 1093, 1094],\n",
      "      dtype='int64')\n",
      "20240328133329\n",
      "Index([ 291,  292,  293,  294,  295,  616,  617,  618,  619,  620,  851,  852,\n",
      "        853,  854,  855, 1092, 1093, 1094, 1095, 1096],\n",
      "      dtype='int64')\n",
      "20240328133929\n",
      "Index([ 297,  298,  299,  300,  301,  622,  623,  624,  625,  626,  857,  858,\n",
      "        859,  860,  861, 1098, 1099, 1100, 1101, 1102],\n",
      "      dtype='int64')\n"
     ]
    },
    {
     "name": "stderr",
     "output_type": "stream",
     "text": [
      "d:\\IMT Nord Europe\\2eme annee\\P6\\P6 - Système automatique d'annotation de données de pollution\\P6_Systeme_annotation_donnees_polution\\yolov7-deepsort-tracking\\mouvement_label\\annotation.py:75: FutureWarning: ChainedAssignmentError: behaviour will change in pandas 3.0!\n",
      "You are setting values through chained assignment. Currently this works in certain cases, but when using Copy-on-Write (which will become the default behaviour in pandas 3.0) this will never work to update the original DataFrame or Series, because the intermediate object on which we are setting values will behave as a copy.\n",
      "A typical example is when you are setting values in a column of a DataFrame, like:\n",
      "\n",
      "df[\"col\"][row_indexer] = value\n",
      "\n",
      "Use `df.loc[row_indexer, \"col\"] = values` instead, to perform the assignment in a single step and ensure this keeps updating the original `df`.\n",
      "\n",
      "See the caveats in the documentation: https://pandas.pydata.org/pandas-docs/stable/user_guide/indexing.html#returning-a-view-versus-a-copy\n",
      "\n",
      "  df[annotation[date]].iloc[mesure_index]=1\n",
      "d:\\IMT Nord Europe\\2eme annee\\P6\\P6 - Système automatique d'annotation de données de pollution\\P6_Systeme_annotation_donnees_polution\\yolov7-deepsort-tracking\\mouvement_label\\annotation.py:75: SettingWithCopyWarning: \n",
      "A value is trying to be set on a copy of a slice from a DataFrame\n",
      "\n",
      "See the caveats in the documentation: https://pandas.pydata.org/pandas-docs/stable/user_guide/indexing.html#returning-a-view-versus-a-copy\n",
      "  df[annotation[date]].iloc[mesure_index]=1\n",
      "d:\\IMT Nord Europe\\2eme annee\\P6\\P6 - Système automatique d'annotation de données de pollution\\P6_Systeme_annotation_donnees_polution\\yolov7-deepsort-tracking\\mouvement_label\\annotation.py:75: FutureWarning: ChainedAssignmentError: behaviour will change in pandas 3.0!\n",
      "You are setting values through chained assignment. Currently this works in certain cases, but when using Copy-on-Write (which will become the default behaviour in pandas 3.0) this will never work to update the original DataFrame or Series, because the intermediate object on which we are setting values will behave as a copy.\n",
      "A typical example is when you are setting values in a column of a DataFrame, like:\n",
      "\n",
      "df[\"col\"][row_indexer] = value\n",
      "\n",
      "Use `df.loc[row_indexer, \"col\"] = values` instead, to perform the assignment in a single step and ensure this keeps updating the original `df`.\n",
      "\n",
      "See the caveats in the documentation: https://pandas.pydata.org/pandas-docs/stable/user_guide/indexing.html#returning-a-view-versus-a-copy\n",
      "\n",
      "  df[annotation[date]].iloc[mesure_index]=1\n",
      "d:\\IMT Nord Europe\\2eme annee\\P6\\P6 - Système automatique d'annotation de données de pollution\\P6_Systeme_annotation_donnees_polution\\yolov7-deepsort-tracking\\mouvement_label\\annotation.py:75: SettingWithCopyWarning: \n",
      "A value is trying to be set on a copy of a slice from a DataFrame\n",
      "\n",
      "See the caveats in the documentation: https://pandas.pydata.org/pandas-docs/stable/user_guide/indexing.html#returning-a-view-versus-a-copy\n",
      "  df[annotation[date]].iloc[mesure_index]=1\n",
      "d:\\IMT Nord Europe\\2eme annee\\P6\\P6 - Système automatique d'annotation de données de pollution\\P6_Systeme_annotation_donnees_polution\\yolov7-deepsort-tracking\\mouvement_label\\annotation.py:75: FutureWarning: ChainedAssignmentError: behaviour will change in pandas 3.0!\n",
      "You are setting values through chained assignment. Currently this works in certain cases, but when using Copy-on-Write (which will become the default behaviour in pandas 3.0) this will never work to update the original DataFrame or Series, because the intermediate object on which we are setting values will behave as a copy.\n",
      "A typical example is when you are setting values in a column of a DataFrame, like:\n",
      "\n",
      "df[\"col\"][row_indexer] = value\n",
      "\n",
      "Use `df.loc[row_indexer, \"col\"] = values` instead, to perform the assignment in a single step and ensure this keeps updating the original `df`.\n",
      "\n",
      "See the caveats in the documentation: https://pandas.pydata.org/pandas-docs/stable/user_guide/indexing.html#returning-a-view-versus-a-copy\n",
      "\n",
      "  df[annotation[date]].iloc[mesure_index]=1\n",
      "d:\\IMT Nord Europe\\2eme annee\\P6\\P6 - Système automatique d'annotation de données de pollution\\P6_Systeme_annotation_donnees_polution\\yolov7-deepsort-tracking\\mouvement_label\\annotation.py:75: SettingWithCopyWarning: \n",
      "A value is trying to be set on a copy of a slice from a DataFrame\n",
      "\n",
      "See the caveats in the documentation: https://pandas.pydata.org/pandas-docs/stable/user_guide/indexing.html#returning-a-view-versus-a-copy\n",
      "  df[annotation[date]].iloc[mesure_index]=1\n",
      "d:\\IMT Nord Europe\\2eme annee\\P6\\P6 - Système automatique d'annotation de données de pollution\\P6_Systeme_annotation_donnees_polution\\yolov7-deepsort-tracking\\mouvement_label\\annotation.py:75: FutureWarning: ChainedAssignmentError: behaviour will change in pandas 3.0!\n",
      "You are setting values through chained assignment. Currently this works in certain cases, but when using Copy-on-Write (which will become the default behaviour in pandas 3.0) this will never work to update the original DataFrame or Series, because the intermediate object on which we are setting values will behave as a copy.\n",
      "A typical example is when you are setting values in a column of a DataFrame, like:\n",
      "\n",
      "df[\"col\"][row_indexer] = value\n",
      "\n",
      "Use `df.loc[row_indexer, \"col\"] = values` instead, to perform the assignment in a single step and ensure this keeps updating the original `df`.\n",
      "\n",
      "See the caveats in the documentation: https://pandas.pydata.org/pandas-docs/stable/user_guide/indexing.html#returning-a-view-versus-a-copy\n",
      "\n",
      "  df[annotation[date]].iloc[mesure_index]=1\n",
      "d:\\IMT Nord Europe\\2eme annee\\P6\\P6 - Système automatique d'annotation de données de pollution\\P6_Systeme_annotation_donnees_polution\\yolov7-deepsort-tracking\\mouvement_label\\annotation.py:75: SettingWithCopyWarning: \n",
      "A value is trying to be set on a copy of a slice from a DataFrame\n",
      "\n",
      "See the caveats in the documentation: https://pandas.pydata.org/pandas-docs/stable/user_guide/indexing.html#returning-a-view-versus-a-copy\n",
      "  df[annotation[date]].iloc[mesure_index]=1\n",
      "d:\\IMT Nord Europe\\2eme annee\\P6\\P6 - Système automatique d'annotation de données de pollution\\P6_Systeme_annotation_donnees_polution\\yolov7-deepsort-tracking\\mouvement_label\\annotation.py:75: FutureWarning: ChainedAssignmentError: behaviour will change in pandas 3.0!\n",
      "You are setting values through chained assignment. Currently this works in certain cases, but when using Copy-on-Write (which will become the default behaviour in pandas 3.0) this will never work to update the original DataFrame or Series, because the intermediate object on which we are setting values will behave as a copy.\n",
      "A typical example is when you are setting values in a column of a DataFrame, like:\n",
      "\n",
      "df[\"col\"][row_indexer] = value\n",
      "\n",
      "Use `df.loc[row_indexer, \"col\"] = values` instead, to perform the assignment in a single step and ensure this keeps updating the original `df`.\n",
      "\n",
      "See the caveats in the documentation: https://pandas.pydata.org/pandas-docs/stable/user_guide/indexing.html#returning-a-view-versus-a-copy\n",
      "\n",
      "  df[annotation[date]].iloc[mesure_index]=1\n",
      "d:\\IMT Nord Europe\\2eme annee\\P6\\P6 - Système automatique d'annotation de données de pollution\\P6_Systeme_annotation_donnees_polution\\yolov7-deepsort-tracking\\mouvement_label\\annotation.py:75: SettingWithCopyWarning: \n",
      "A value is trying to be set on a copy of a slice from a DataFrame\n",
      "\n",
      "See the caveats in the documentation: https://pandas.pydata.org/pandas-docs/stable/user_guide/indexing.html#returning-a-view-versus-a-copy\n",
      "  df[annotation[date]].iloc[mesure_index]=1\n",
      "d:\\IMT Nord Europe\\2eme annee\\P6\\P6 - Système automatique d'annotation de données de pollution\\P6_Systeme_annotation_donnees_polution\\yolov7-deepsort-tracking\\mouvement_label\\annotation.py:75: FutureWarning: ChainedAssignmentError: behaviour will change in pandas 3.0!\n",
      "You are setting values through chained assignment. Currently this works in certain cases, but when using Copy-on-Write (which will become the default behaviour in pandas 3.0) this will never work to update the original DataFrame or Series, because the intermediate object on which we are setting values will behave as a copy.\n",
      "A typical example is when you are setting values in a column of a DataFrame, like:\n",
      "\n",
      "df[\"col\"][row_indexer] = value\n",
      "\n",
      "Use `df.loc[row_indexer, \"col\"] = values` instead, to perform the assignment in a single step and ensure this keeps updating the original `df`.\n",
      "\n",
      "See the caveats in the documentation: https://pandas.pydata.org/pandas-docs/stable/user_guide/indexing.html#returning-a-view-versus-a-copy\n",
      "\n",
      "  df[annotation[date]].iloc[mesure_index]=1\n",
      "d:\\IMT Nord Europe\\2eme annee\\P6\\P6 - Système automatique d'annotation de données de pollution\\P6_Systeme_annotation_donnees_polution\\yolov7-deepsort-tracking\\mouvement_label\\annotation.py:75: SettingWithCopyWarning: \n",
      "A value is trying to be set on a copy of a slice from a DataFrame\n",
      "\n",
      "See the caveats in the documentation: https://pandas.pydata.org/pandas-docs/stable/user_guide/indexing.html#returning-a-view-versus-a-copy\n",
      "  df[annotation[date]].iloc[mesure_index]=1\n",
      "d:\\IMT Nord Europe\\2eme annee\\P6\\P6 - Système automatique d'annotation de données de pollution\\P6_Systeme_annotation_donnees_polution\\yolov7-deepsort-tracking\\mouvement_label\\annotation.py:75: FutureWarning: ChainedAssignmentError: behaviour will change in pandas 3.0!\n",
      "You are setting values through chained assignment. Currently this works in certain cases, but when using Copy-on-Write (which will become the default behaviour in pandas 3.0) this will never work to update the original DataFrame or Series, because the intermediate object on which we are setting values will behave as a copy.\n",
      "A typical example is when you are setting values in a column of a DataFrame, like:\n",
      "\n",
      "df[\"col\"][row_indexer] = value\n",
      "\n",
      "Use `df.loc[row_indexer, \"col\"] = values` instead, to perform the assignment in a single step and ensure this keeps updating the original `df`.\n",
      "\n",
      "See the caveats in the documentation: https://pandas.pydata.org/pandas-docs/stable/user_guide/indexing.html#returning-a-view-versus-a-copy\n",
      "\n",
      "  df[annotation[date]].iloc[mesure_index]=1\n",
      "d:\\IMT Nord Europe\\2eme annee\\P6\\P6 - Système automatique d'annotation de données de pollution\\P6_Systeme_annotation_donnees_polution\\yolov7-deepsort-tracking\\mouvement_label\\annotation.py:75: SettingWithCopyWarning: \n",
      "A value is trying to be set on a copy of a slice from a DataFrame\n",
      "\n",
      "See the caveats in the documentation: https://pandas.pydata.org/pandas-docs/stable/user_guide/indexing.html#returning-a-view-versus-a-copy\n",
      "  df[annotation[date]].iloc[mesure_index]=1\n",
      "d:\\IMT Nord Europe\\2eme annee\\P6\\P6 - Système automatique d'annotation de données de pollution\\P6_Systeme_annotation_donnees_polution\\yolov7-deepsort-tracking\\mouvement_label\\annotation.py:75: FutureWarning: ChainedAssignmentError: behaviour will change in pandas 3.0!\n",
      "You are setting values through chained assignment. Currently this works in certain cases, but when using Copy-on-Write (which will become the default behaviour in pandas 3.0) this will never work to update the original DataFrame or Series, because the intermediate object on which we are setting values will behave as a copy.\n",
      "A typical example is when you are setting values in a column of a DataFrame, like:\n",
      "\n",
      "df[\"col\"][row_indexer] = value\n",
      "\n",
      "Use `df.loc[row_indexer, \"col\"] = values` instead, to perform the assignment in a single step and ensure this keeps updating the original `df`.\n",
      "\n",
      "See the caveats in the documentation: https://pandas.pydata.org/pandas-docs/stable/user_guide/indexing.html#returning-a-view-versus-a-copy\n",
      "\n",
      "  df[annotation[date]].iloc[mesure_index]=1\n",
      "d:\\IMT Nord Europe\\2eme annee\\P6\\P6 - Système automatique d'annotation de données de pollution\\P6_Systeme_annotation_donnees_polution\\yolov7-deepsort-tracking\\mouvement_label\\annotation.py:75: SettingWithCopyWarning: \n",
      "A value is trying to be set on a copy of a slice from a DataFrame\n",
      "\n",
      "See the caveats in the documentation: https://pandas.pydata.org/pandas-docs/stable/user_guide/indexing.html#returning-a-view-versus-a-copy\n",
      "  df[annotation[date]].iloc[mesure_index]=1\n",
      "d:\\IMT Nord Europe\\2eme annee\\P6\\P6 - Système automatique d'annotation de données de pollution\\P6_Systeme_annotation_donnees_polution\\yolov7-deepsort-tracking\\mouvement_label\\annotation.py:75: FutureWarning: ChainedAssignmentError: behaviour will change in pandas 3.0!\n",
      "You are setting values through chained assignment. Currently this works in certain cases, but when using Copy-on-Write (which will become the default behaviour in pandas 3.0) this will never work to update the original DataFrame or Series, because the intermediate object on which we are setting values will behave as a copy.\n",
      "A typical example is when you are setting values in a column of a DataFrame, like:\n",
      "\n",
      "df[\"col\"][row_indexer] = value\n",
      "\n",
      "Use `df.loc[row_indexer, \"col\"] = values` instead, to perform the assignment in a single step and ensure this keeps updating the original `df`.\n",
      "\n",
      "See the caveats in the documentation: https://pandas.pydata.org/pandas-docs/stable/user_guide/indexing.html#returning-a-view-versus-a-copy\n",
      "\n",
      "  df[annotation[date]].iloc[mesure_index]=1\n",
      "d:\\IMT Nord Europe\\2eme annee\\P6\\P6 - Système automatique d'annotation de données de pollution\\P6_Systeme_annotation_donnees_polution\\yolov7-deepsort-tracking\\mouvement_label\\annotation.py:75: SettingWithCopyWarning: \n",
      "A value is trying to be set on a copy of a slice from a DataFrame\n",
      "\n",
      "See the caveats in the documentation: https://pandas.pydata.org/pandas-docs/stable/user_guide/indexing.html#returning-a-view-versus-a-copy\n",
      "  df[annotation[date]].iloc[mesure_index]=1\n",
      "d:\\IMT Nord Europe\\2eme annee\\P6\\P6 - Système automatique d'annotation de données de pollution\\P6_Systeme_annotation_donnees_polution\\yolov7-deepsort-tracking\\mouvement_label\\annotation.py:75: FutureWarning: ChainedAssignmentError: behaviour will change in pandas 3.0!\n",
      "You are setting values through chained assignment. Currently this works in certain cases, but when using Copy-on-Write (which will become the default behaviour in pandas 3.0) this will never work to update the original DataFrame or Series, because the intermediate object on which we are setting values will behave as a copy.\n",
      "A typical example is when you are setting values in a column of a DataFrame, like:\n",
      "\n",
      "df[\"col\"][row_indexer] = value\n",
      "\n",
      "Use `df.loc[row_indexer, \"col\"] = values` instead, to perform the assignment in a single step and ensure this keeps updating the original `df`.\n",
      "\n",
      "See the caveats in the documentation: https://pandas.pydata.org/pandas-docs/stable/user_guide/indexing.html#returning-a-view-versus-a-copy\n",
      "\n",
      "  df[annotation[date]].iloc[mesure_index]=1\n",
      "d:\\IMT Nord Europe\\2eme annee\\P6\\P6 - Système automatique d'annotation de données de pollution\\P6_Systeme_annotation_donnees_polution\\yolov7-deepsort-tracking\\mouvement_label\\annotation.py:75: SettingWithCopyWarning: \n",
      "A value is trying to be set on a copy of a slice from a DataFrame\n",
      "\n",
      "See the caveats in the documentation: https://pandas.pydata.org/pandas-docs/stable/user_guide/indexing.html#returning-a-view-versus-a-copy\n",
      "  df[annotation[date]].iloc[mesure_index]=1\n",
      "d:\\IMT Nord Europe\\2eme annee\\P6\\P6 - Système automatique d'annotation de données de pollution\\P6_Systeme_annotation_donnees_polution\\yolov7-deepsort-tracking\\mouvement_label\\annotation.py:75: FutureWarning: ChainedAssignmentError: behaviour will change in pandas 3.0!\n",
      "You are setting values through chained assignment. Currently this works in certain cases, but when using Copy-on-Write (which will become the default behaviour in pandas 3.0) this will never work to update the original DataFrame or Series, because the intermediate object on which we are setting values will behave as a copy.\n",
      "A typical example is when you are setting values in a column of a DataFrame, like:\n",
      "\n",
      "df[\"col\"][row_indexer] = value\n",
      "\n",
      "Use `df.loc[row_indexer, \"col\"] = values` instead, to perform the assignment in a single step and ensure this keeps updating the original `df`.\n",
      "\n",
      "See the caveats in the documentation: https://pandas.pydata.org/pandas-docs/stable/user_guide/indexing.html#returning-a-view-versus-a-copy\n",
      "\n",
      "  df[annotation[date]].iloc[mesure_index]=1\n",
      "d:\\IMT Nord Europe\\2eme annee\\P6\\P6 - Système automatique d'annotation de données de pollution\\P6_Systeme_annotation_donnees_polution\\yolov7-deepsort-tracking\\mouvement_label\\annotation.py:75: SettingWithCopyWarning: \n",
      "A value is trying to be set on a copy of a slice from a DataFrame\n",
      "\n",
      "See the caveats in the documentation: https://pandas.pydata.org/pandas-docs/stable/user_guide/indexing.html#returning-a-view-versus-a-copy\n",
      "  df[annotation[date]].iloc[mesure_index]=1\n",
      "d:\\IMT Nord Europe\\2eme annee\\P6\\P6 - Système automatique d'annotation de données de pollution\\P6_Systeme_annotation_donnees_polution\\yolov7-deepsort-tracking\\mouvement_label\\annotation.py:75: FutureWarning: ChainedAssignmentError: behaviour will change in pandas 3.0!\n",
      "You are setting values through chained assignment. Currently this works in certain cases, but when using Copy-on-Write (which will become the default behaviour in pandas 3.0) this will never work to update the original DataFrame or Series, because the intermediate object on which we are setting values will behave as a copy.\n",
      "A typical example is when you are setting values in a column of a DataFrame, like:\n",
      "\n",
      "df[\"col\"][row_indexer] = value\n",
      "\n",
      "Use `df.loc[row_indexer, \"col\"] = values` instead, to perform the assignment in a single step and ensure this keeps updating the original `df`.\n",
      "\n",
      "See the caveats in the documentation: https://pandas.pydata.org/pandas-docs/stable/user_guide/indexing.html#returning-a-view-versus-a-copy\n",
      "\n",
      "  df[annotation[date]].iloc[mesure_index]=1\n",
      "d:\\IMT Nord Europe\\2eme annee\\P6\\P6 - Système automatique d'annotation de données de pollution\\P6_Systeme_annotation_donnees_polution\\yolov7-deepsort-tracking\\mouvement_label\\annotation.py:75: SettingWithCopyWarning: \n",
      "A value is trying to be set on a copy of a slice from a DataFrame\n",
      "\n",
      "See the caveats in the documentation: https://pandas.pydata.org/pandas-docs/stable/user_guide/indexing.html#returning-a-view-versus-a-copy\n",
      "  df[annotation[date]].iloc[mesure_index]=1\n",
      "d:\\IMT Nord Europe\\2eme annee\\P6\\P6 - Système automatique d'annotation de données de pollution\\P6_Systeme_annotation_donnees_polution\\yolov7-deepsort-tracking\\mouvement_label\\annotation.py:75: FutureWarning: ChainedAssignmentError: behaviour will change in pandas 3.0!\n",
      "You are setting values through chained assignment. Currently this works in certain cases, but when using Copy-on-Write (which will become the default behaviour in pandas 3.0) this will never work to update the original DataFrame or Series, because the intermediate object on which we are setting values will behave as a copy.\n",
      "A typical example is when you are setting values in a column of a DataFrame, like:\n",
      "\n",
      "df[\"col\"][row_indexer] = value\n",
      "\n",
      "Use `df.loc[row_indexer, \"col\"] = values` instead, to perform the assignment in a single step and ensure this keeps updating the original `df`.\n",
      "\n",
      "See the caveats in the documentation: https://pandas.pydata.org/pandas-docs/stable/user_guide/indexing.html#returning-a-view-versus-a-copy\n",
      "\n",
      "  df[annotation[date]].iloc[mesure_index]=1\n",
      "d:\\IMT Nord Europe\\2eme annee\\P6\\P6 - Système automatique d'annotation de données de pollution\\P6_Systeme_annotation_donnees_polution\\yolov7-deepsort-tracking\\mouvement_label\\annotation.py:75: SettingWithCopyWarning: \n",
      "A value is trying to be set on a copy of a slice from a DataFrame\n",
      "\n",
      "See the caveats in the documentation: https://pandas.pydata.org/pandas-docs/stable/user_guide/indexing.html#returning-a-view-versus-a-copy\n",
      "  df[annotation[date]].iloc[mesure_index]=1\n",
      "d:\\IMT Nord Europe\\2eme annee\\P6\\P6 - Système automatique d'annotation de données de pollution\\P6_Systeme_annotation_donnees_polution\\yolov7-deepsort-tracking\\mouvement_label\\annotation.py:75: FutureWarning: ChainedAssignmentError: behaviour will change in pandas 3.0!\n",
      "You are setting values through chained assignment. Currently this works in certain cases, but when using Copy-on-Write (which will become the default behaviour in pandas 3.0) this will never work to update the original DataFrame or Series, because the intermediate object on which we are setting values will behave as a copy.\n",
      "A typical example is when you are setting values in a column of a DataFrame, like:\n",
      "\n",
      "df[\"col\"][row_indexer] = value\n",
      "\n",
      "Use `df.loc[row_indexer, \"col\"] = values` instead, to perform the assignment in a single step and ensure this keeps updating the original `df`.\n",
      "\n",
      "See the caveats in the documentation: https://pandas.pydata.org/pandas-docs/stable/user_guide/indexing.html#returning-a-view-versus-a-copy\n",
      "\n",
      "  df[annotation[date]].iloc[mesure_index]=1\n",
      "d:\\IMT Nord Europe\\2eme annee\\P6\\P6 - Système automatique d'annotation de données de pollution\\P6_Systeme_annotation_donnees_polution\\yolov7-deepsort-tracking\\mouvement_label\\annotation.py:75: SettingWithCopyWarning: \n",
      "A value is trying to be set on a copy of a slice from a DataFrame\n",
      "\n",
      "See the caveats in the documentation: https://pandas.pydata.org/pandas-docs/stable/user_guide/indexing.html#returning-a-view-versus-a-copy\n",
      "  df[annotation[date]].iloc[mesure_index]=1\n",
      "d:\\IMT Nord Europe\\2eme annee\\P6\\P6 - Système automatique d'annotation de données de pollution\\P6_Systeme_annotation_donnees_polution\\yolov7-deepsort-tracking\\mouvement_label\\annotation.py:75: FutureWarning: ChainedAssignmentError: behaviour will change in pandas 3.0!\n",
      "You are setting values through chained assignment. Currently this works in certain cases, but when using Copy-on-Write (which will become the default behaviour in pandas 3.0) this will never work to update the original DataFrame or Series, because the intermediate object on which we are setting values will behave as a copy.\n",
      "A typical example is when you are setting values in a column of a DataFrame, like:\n",
      "\n",
      "df[\"col\"][row_indexer] = value\n",
      "\n",
      "Use `df.loc[row_indexer, \"col\"] = values` instead, to perform the assignment in a single step and ensure this keeps updating the original `df`.\n",
      "\n",
      "See the caveats in the documentation: https://pandas.pydata.org/pandas-docs/stable/user_guide/indexing.html#returning-a-view-versus-a-copy\n",
      "\n",
      "  df[annotation[date]].iloc[mesure_index]=1\n",
      "d:\\IMT Nord Europe\\2eme annee\\P6\\P6 - Système automatique d'annotation de données de pollution\\P6_Systeme_annotation_donnees_polution\\yolov7-deepsort-tracking\\mouvement_label\\annotation.py:75: SettingWithCopyWarning: \n",
      "A value is trying to be set on a copy of a slice from a DataFrame\n",
      "\n",
      "See the caveats in the documentation: https://pandas.pydata.org/pandas-docs/stable/user_guide/indexing.html#returning-a-view-versus-a-copy\n",
      "  df[annotation[date]].iloc[mesure_index]=1\n",
      "d:\\IMT Nord Europe\\2eme annee\\P6\\P6 - Système automatique d'annotation de données de pollution\\P6_Systeme_annotation_donnees_polution\\yolov7-deepsort-tracking\\mouvement_label\\annotation.py:75: FutureWarning: ChainedAssignmentError: behaviour will change in pandas 3.0!\n",
      "You are setting values through chained assignment. Currently this works in certain cases, but when using Copy-on-Write (which will become the default behaviour in pandas 3.0) this will never work to update the original DataFrame or Series, because the intermediate object on which we are setting values will behave as a copy.\n",
      "A typical example is when you are setting values in a column of a DataFrame, like:\n",
      "\n",
      "df[\"col\"][row_indexer] = value\n",
      "\n",
      "Use `df.loc[row_indexer, \"col\"] = values` instead, to perform the assignment in a single step and ensure this keeps updating the original `df`.\n",
      "\n",
      "See the caveats in the documentation: https://pandas.pydata.org/pandas-docs/stable/user_guide/indexing.html#returning-a-view-versus-a-copy\n",
      "\n",
      "  df[annotation[date]].iloc[mesure_index]=1\n",
      "d:\\IMT Nord Europe\\2eme annee\\P6\\P6 - Système automatique d'annotation de données de pollution\\P6_Systeme_annotation_donnees_polution\\yolov7-deepsort-tracking\\mouvement_label\\annotation.py:75: SettingWithCopyWarning: \n",
      "A value is trying to be set on a copy of a slice from a DataFrame\n",
      "\n",
      "See the caveats in the documentation: https://pandas.pydata.org/pandas-docs/stable/user_guide/indexing.html#returning-a-view-versus-a-copy\n",
      "  df[annotation[date]].iloc[mesure_index]=1\n",
      "d:\\IMT Nord Europe\\2eme annee\\P6\\P6 - Système automatique d'annotation de données de pollution\\P6_Systeme_annotation_donnees_polution\\yolov7-deepsort-tracking\\mouvement_label\\annotation.py:75: FutureWarning: ChainedAssignmentError: behaviour will change in pandas 3.0!\n",
      "You are setting values through chained assignment. Currently this works in certain cases, but when using Copy-on-Write (which will become the default behaviour in pandas 3.0) this will never work to update the original DataFrame or Series, because the intermediate object on which we are setting values will behave as a copy.\n",
      "A typical example is when you are setting values in a column of a DataFrame, like:\n",
      "\n",
      "df[\"col\"][row_indexer] = value\n",
      "\n",
      "Use `df.loc[row_indexer, \"col\"] = values` instead, to perform the assignment in a single step and ensure this keeps updating the original `df`.\n",
      "\n",
      "See the caveats in the documentation: https://pandas.pydata.org/pandas-docs/stable/user_guide/indexing.html#returning-a-view-versus-a-copy\n",
      "\n",
      "  df[annotation[date]].iloc[mesure_index]=1\n",
      "d:\\IMT Nord Europe\\2eme annee\\P6\\P6 - Système automatique d'annotation de données de pollution\\P6_Systeme_annotation_donnees_polution\\yolov7-deepsort-tracking\\mouvement_label\\annotation.py:75: SettingWithCopyWarning: \n",
      "A value is trying to be set on a copy of a slice from a DataFrame\n",
      "\n",
      "See the caveats in the documentation: https://pandas.pydata.org/pandas-docs/stable/user_guide/indexing.html#returning-a-view-versus-a-copy\n",
      "  df[annotation[date]].iloc[mesure_index]=1\n",
      "d:\\IMT Nord Europe\\2eme annee\\P6\\P6 - Système automatique d'annotation de données de pollution\\P6_Systeme_annotation_donnees_polution\\yolov7-deepsort-tracking\\mouvement_label\\annotation.py:75: FutureWarning: ChainedAssignmentError: behaviour will change in pandas 3.0!\n",
      "You are setting values through chained assignment. Currently this works in certain cases, but when using Copy-on-Write (which will become the default behaviour in pandas 3.0) this will never work to update the original DataFrame or Series, because the intermediate object on which we are setting values will behave as a copy.\n",
      "A typical example is when you are setting values in a column of a DataFrame, like:\n",
      "\n",
      "df[\"col\"][row_indexer] = value\n",
      "\n",
      "Use `df.loc[row_indexer, \"col\"] = values` instead, to perform the assignment in a single step and ensure this keeps updating the original `df`.\n",
      "\n",
      "See the caveats in the documentation: https://pandas.pydata.org/pandas-docs/stable/user_guide/indexing.html#returning-a-view-versus-a-copy\n",
      "\n",
      "  df[annotation[date]].iloc[mesure_index]=1\n",
      "d:\\IMT Nord Europe\\2eme annee\\P6\\P6 - Système automatique d'annotation de données de pollution\\P6_Systeme_annotation_donnees_polution\\yolov7-deepsort-tracking\\mouvement_label\\annotation.py:75: SettingWithCopyWarning: \n",
      "A value is trying to be set on a copy of a slice from a DataFrame\n",
      "\n",
      "See the caveats in the documentation: https://pandas.pydata.org/pandas-docs/stable/user_guide/indexing.html#returning-a-view-versus-a-copy\n",
      "  df[annotation[date]].iloc[mesure_index]=1\n",
      "d:\\IMT Nord Europe\\2eme annee\\P6\\P6 - Système automatique d'annotation de données de pollution\\P6_Systeme_annotation_donnees_polution\\yolov7-deepsort-tracking\\mouvement_label\\annotation.py:75: FutureWarning: ChainedAssignmentError: behaviour will change in pandas 3.0!\n",
      "You are setting values through chained assignment. Currently this works in certain cases, but when using Copy-on-Write (which will become the default behaviour in pandas 3.0) this will never work to update the original DataFrame or Series, because the intermediate object on which we are setting values will behave as a copy.\n",
      "A typical example is when you are setting values in a column of a DataFrame, like:\n",
      "\n",
      "df[\"col\"][row_indexer] = value\n",
      "\n",
      "Use `df.loc[row_indexer, \"col\"] = values` instead, to perform the assignment in a single step and ensure this keeps updating the original `df`.\n",
      "\n",
      "See the caveats in the documentation: https://pandas.pydata.org/pandas-docs/stable/user_guide/indexing.html#returning-a-view-versus-a-copy\n",
      "\n",
      "  df[annotation[date]].iloc[mesure_index]=1\n",
      "d:\\IMT Nord Europe\\2eme annee\\P6\\P6 - Système automatique d'annotation de données de pollution\\P6_Systeme_annotation_donnees_polution\\yolov7-deepsort-tracking\\mouvement_label\\annotation.py:75: SettingWithCopyWarning: \n",
      "A value is trying to be set on a copy of a slice from a DataFrame\n",
      "\n",
      "See the caveats in the documentation: https://pandas.pydata.org/pandas-docs/stable/user_guide/indexing.html#returning-a-view-versus-a-copy\n",
      "  df[annotation[date]].iloc[mesure_index]=1\n",
      "d:\\IMT Nord Europe\\2eme annee\\P6\\P6 - Système automatique d'annotation de données de pollution\\P6_Systeme_annotation_donnees_polution\\yolov7-deepsort-tracking\\mouvement_label\\annotation.py:75: FutureWarning: ChainedAssignmentError: behaviour will change in pandas 3.0!\n",
      "You are setting values through chained assignment. Currently this works in certain cases, but when using Copy-on-Write (which will become the default behaviour in pandas 3.0) this will never work to update the original DataFrame or Series, because the intermediate object on which we are setting values will behave as a copy.\n",
      "A typical example is when you are setting values in a column of a DataFrame, like:\n",
      "\n",
      "df[\"col\"][row_indexer] = value\n",
      "\n",
      "Use `df.loc[row_indexer, \"col\"] = values` instead, to perform the assignment in a single step and ensure this keeps updating the original `df`.\n",
      "\n",
      "See the caveats in the documentation: https://pandas.pydata.org/pandas-docs/stable/user_guide/indexing.html#returning-a-view-versus-a-copy\n",
      "\n",
      "  df[annotation[date]].iloc[mesure_index]=1\n",
      "d:\\IMT Nord Europe\\2eme annee\\P6\\P6 - Système automatique d'annotation de données de pollution\\P6_Systeme_annotation_donnees_polution\\yolov7-deepsort-tracking\\mouvement_label\\annotation.py:75: SettingWithCopyWarning: \n",
      "A value is trying to be set on a copy of a slice from a DataFrame\n",
      "\n",
      "See the caveats in the documentation: https://pandas.pydata.org/pandas-docs/stable/user_guide/indexing.html#returning-a-view-versus-a-copy\n",
      "  df[annotation[date]].iloc[mesure_index]=1\n",
      "d:\\IMT Nord Europe\\2eme annee\\P6\\P6 - Système automatique d'annotation de données de pollution\\P6_Systeme_annotation_donnees_polution\\yolov7-deepsort-tracking\\mouvement_label\\annotation.py:75: FutureWarning: ChainedAssignmentError: behaviour will change in pandas 3.0!\n",
      "You are setting values through chained assignment. Currently this works in certain cases, but when using Copy-on-Write (which will become the default behaviour in pandas 3.0) this will never work to update the original DataFrame or Series, because the intermediate object on which we are setting values will behave as a copy.\n",
      "A typical example is when you are setting values in a column of a DataFrame, like:\n",
      "\n",
      "df[\"col\"][row_indexer] = value\n",
      "\n",
      "Use `df.loc[row_indexer, \"col\"] = values` instead, to perform the assignment in a single step and ensure this keeps updating the original `df`.\n",
      "\n",
      "See the caveats in the documentation: https://pandas.pydata.org/pandas-docs/stable/user_guide/indexing.html#returning-a-view-versus-a-copy\n",
      "\n",
      "  df[annotation[date]].iloc[mesure_index]=1\n",
      "d:\\IMT Nord Europe\\2eme annee\\P6\\P6 - Système automatique d'annotation de données de pollution\\P6_Systeme_annotation_donnees_polution\\yolov7-deepsort-tracking\\mouvement_label\\annotation.py:75: SettingWithCopyWarning: \n",
      "A value is trying to be set on a copy of a slice from a DataFrame\n",
      "\n",
      "See the caveats in the documentation: https://pandas.pydata.org/pandas-docs/stable/user_guide/indexing.html#returning-a-view-versus-a-copy\n",
      "  df[annotation[date]].iloc[mesure_index]=1\n",
      "d:\\IMT Nord Europe\\2eme annee\\P6\\P6 - Système automatique d'annotation de données de pollution\\P6_Systeme_annotation_donnees_polution\\yolov7-deepsort-tracking\\mouvement_label\\annotation.py:75: FutureWarning: ChainedAssignmentError: behaviour will change in pandas 3.0!\n",
      "You are setting values through chained assignment. Currently this works in certain cases, but when using Copy-on-Write (which will become the default behaviour in pandas 3.0) this will never work to update the original DataFrame or Series, because the intermediate object on which we are setting values will behave as a copy.\n",
      "A typical example is when you are setting values in a column of a DataFrame, like:\n",
      "\n",
      "df[\"col\"][row_indexer] = value\n",
      "\n",
      "Use `df.loc[row_indexer, \"col\"] = values` instead, to perform the assignment in a single step and ensure this keeps updating the original `df`.\n",
      "\n",
      "See the caveats in the documentation: https://pandas.pydata.org/pandas-docs/stable/user_guide/indexing.html#returning-a-view-versus-a-copy\n",
      "\n",
      "  df[annotation[date]].iloc[mesure_index]=1\n",
      "d:\\IMT Nord Europe\\2eme annee\\P6\\P6 - Système automatique d'annotation de données de pollution\\P6_Systeme_annotation_donnees_polution\\yolov7-deepsort-tracking\\mouvement_label\\annotation.py:75: SettingWithCopyWarning: \n",
      "A value is trying to be set on a copy of a slice from a DataFrame\n",
      "\n",
      "See the caveats in the documentation: https://pandas.pydata.org/pandas-docs/stable/user_guide/indexing.html#returning-a-view-versus-a-copy\n",
      "  df[annotation[date]].iloc[mesure_index]=1\n",
      "d:\\IMT Nord Europe\\2eme annee\\P6\\P6 - Système automatique d'annotation de données de pollution\\P6_Systeme_annotation_donnees_polution\\yolov7-deepsort-tracking\\mouvement_label\\annotation.py:75: FutureWarning: ChainedAssignmentError: behaviour will change in pandas 3.0!\n",
      "You are setting values through chained assignment. Currently this works in certain cases, but when using Copy-on-Write (which will become the default behaviour in pandas 3.0) this will never work to update the original DataFrame or Series, because the intermediate object on which we are setting values will behave as a copy.\n",
      "A typical example is when you are setting values in a column of a DataFrame, like:\n",
      "\n",
      "df[\"col\"][row_indexer] = value\n",
      "\n",
      "Use `df.loc[row_indexer, \"col\"] = values` instead, to perform the assignment in a single step and ensure this keeps updating the original `df`.\n",
      "\n",
      "See the caveats in the documentation: https://pandas.pydata.org/pandas-docs/stable/user_guide/indexing.html#returning-a-view-versus-a-copy\n",
      "\n",
      "  df[annotation[date]].iloc[mesure_index]=1\n",
      "d:\\IMT Nord Europe\\2eme annee\\P6\\P6 - Système automatique d'annotation de données de pollution\\P6_Systeme_annotation_donnees_polution\\yolov7-deepsort-tracking\\mouvement_label\\annotation.py:75: SettingWithCopyWarning: \n",
      "A value is trying to be set on a copy of a slice from a DataFrame\n",
      "\n",
      "See the caveats in the documentation: https://pandas.pydata.org/pandas-docs/stable/user_guide/indexing.html#returning-a-view-versus-a-copy\n",
      "  df[annotation[date]].iloc[mesure_index]=1\n",
      "d:\\IMT Nord Europe\\2eme annee\\P6\\P6 - Système automatique d'annotation de données de pollution\\P6_Systeme_annotation_donnees_polution\\yolov7-deepsort-tracking\\mouvement_label\\annotation.py:77: FutureWarning: ChainedAssignmentError: behaviour will change in pandas 3.0!\n",
      "You are setting values through chained assignment. Currently this works in certain cases, but when using Copy-on-Write (which will become the default behaviour in pandas 3.0) this will never work to update the original DataFrame or Series, because the intermediate object on which we are setting values will behave as a copy.\n",
      "A typical example is when you are setting values in a column of a DataFrame, like:\n",
      "\n",
      "df[\"col\"][row_indexer] = value\n",
      "\n",
      "Use `df.loc[row_indexer, \"col\"] = values` instead, to perform the assignment in a single step and ensure this keeps updating the original `df`.\n",
      "\n",
      "See the caveats in the documentation: https://pandas.pydata.org/pandas-docs/stable/user_guide/indexing.html#returning-a-view-versus-a-copy\n",
      "\n",
      "  df[\"aucun passage\"].iloc[index] = int(not(df[\"1 passage(s)\"].iloc[index].item() or df[\"2 passage(s)\"].iloc[index].item() or df[\"3 passage(s)\"].iloc[index].item()))\n",
      "d:\\IMT Nord Europe\\2eme annee\\P6\\P6 - Système automatique d'annotation de données de pollution\\P6_Systeme_annotation_donnees_polution\\yolov7-deepsort-tracking\\mouvement_label\\annotation.py:77: SettingWithCopyWarning: \n",
      "A value is trying to be set on a copy of a slice from a DataFrame\n",
      "\n",
      "See the caveats in the documentation: https://pandas.pydata.org/pandas-docs/stable/user_guide/indexing.html#returning-a-view-versus-a-copy\n",
      "  df[\"aucun passage\"].iloc[index] = int(not(df[\"1 passage(s)\"].iloc[index].item() or df[\"2 passage(s)\"].iloc[index].item() or df[\"3 passage(s)\"].iloc[index].item()))\n"
     ]
    }
   ],
   "source": [
    "df_capteur_entreprise = add_labels_to_df(annotation=annotation,df_capteurs=df)"
   ]
  },
  {
   "cell_type": "code",
   "execution_count": 10,
   "metadata": {},
   "outputs": [
    {
     "data": {
      "text/html": [
       "<div>\n",
       "<style scoped>\n",
       "    .dataframe tbody tr th:only-of-type {\n",
       "        vertical-align: middle;\n",
       "    }\n",
       "\n",
       "    .dataframe tbody tr th {\n",
       "        vertical-align: top;\n",
       "    }\n",
       "\n",
       "    .dataframe thead th {\n",
       "        text-align: right;\n",
       "    }\n",
       "</style>\n",
       "<table border=\"1\" class=\"dataframe\">\n",
       "  <thead>\n",
       "    <tr style=\"text-align: right;\">\n",
       "      <th></th>\n",
       "      <th>Unnamed: 0</th>\n",
       "      <th>Date</th>\n",
       "      <th>parkName</th>\n",
       "      <th>sensorId</th>\n",
       "      <th>temperature</th>\n",
       "      <th>humidity</th>\n",
       "      <th>pressure</th>\n",
       "      <th>noise</th>\n",
       "      <th>noise_max</th>\n",
       "      <th>pm1</th>\n",
       "      <th>pm2_5</th>\n",
       "      <th>pm10</th>\n",
       "      <th>aucun passage</th>\n",
       "      <th>1 passage(s)</th>\n",
       "      <th>2 passage(s)</th>\n",
       "      <th>3 passage(s)</th>\n",
       "    </tr>\n",
       "  </thead>\n",
       "  <tbody>\n",
       "    <tr>\n",
       "      <th>0</th>\n",
       "      <td>0</td>\n",
       "      <td>2024-03-28 09:56:33+01:00</td>\n",
       "      <td>FR-19997</td>\n",
       "      <td>866356067365675</td>\n",
       "      <td>22.0</td>\n",
       "      <td>39.0</td>\n",
       "      <td>9799.0</td>\n",
       "      <td>55.0</td>\n",
       "      <td>109.0</td>\n",
       "      <td>413.0</td>\n",
       "      <td>825.0</td>\n",
       "      <td>1318.0</td>\n",
       "      <td>1.0</td>\n",
       "      <td>0.0</td>\n",
       "      <td>0.0</td>\n",
       "      <td>0.0</td>\n",
       "    </tr>\n",
       "    <tr>\n",
       "      <th>1</th>\n",
       "      <td>2</td>\n",
       "      <td>2024-03-28 09:58:33+01:00</td>\n",
       "      <td>FR-19997</td>\n",
       "      <td>866356067365675</td>\n",
       "      <td>22.0</td>\n",
       "      <td>40.0</td>\n",
       "      <td>9799.0</td>\n",
       "      <td>54.0</td>\n",
       "      <td>116.0</td>\n",
       "      <td>413.0</td>\n",
       "      <td>825.0</td>\n",
       "      <td>1318.0</td>\n",
       "      <td>1.0</td>\n",
       "      <td>0.0</td>\n",
       "      <td>0.0</td>\n",
       "      <td>0.0</td>\n",
       "    </tr>\n",
       "    <tr>\n",
       "      <th>2</th>\n",
       "      <td>4</td>\n",
       "      <td>2024-03-28 10:00:33+01:00</td>\n",
       "      <td>FR-19997</td>\n",
       "      <td>866356067365675</td>\n",
       "      <td>22.0</td>\n",
       "      <td>40.0</td>\n",
       "      <td>9799.0</td>\n",
       "      <td>51.0</td>\n",
       "      <td>109.0</td>\n",
       "      <td>413.0</td>\n",
       "      <td>825.0</td>\n",
       "      <td>1318.0</td>\n",
       "      <td>1.0</td>\n",
       "      <td>0.0</td>\n",
       "      <td>0.0</td>\n",
       "      <td>0.0</td>\n",
       "    </tr>\n",
       "    <tr>\n",
       "      <th>3</th>\n",
       "      <td>6</td>\n",
       "      <td>2024-03-28 10:02:33+01:00</td>\n",
       "      <td>FR-19997</td>\n",
       "      <td>866356067365675</td>\n",
       "      <td>22.0</td>\n",
       "      <td>38.0</td>\n",
       "      <td>9798.0</td>\n",
       "      <td>52.0</td>\n",
       "      <td>90.0</td>\n",
       "      <td>445.0</td>\n",
       "      <td>651.0</td>\n",
       "      <td>898.0</td>\n",
       "      <td>1.0</td>\n",
       "      <td>0.0</td>\n",
       "      <td>0.0</td>\n",
       "      <td>0.0</td>\n",
       "    </tr>\n",
       "    <tr>\n",
       "      <th>4</th>\n",
       "      <td>8</td>\n",
       "      <td>2024-03-28 10:06:40+01:00</td>\n",
       "      <td>FR-19997</td>\n",
       "      <td>866356067365675</td>\n",
       "      <td>22.0</td>\n",
       "      <td>37.0</td>\n",
       "      <td>9800.0</td>\n",
       "      <td>52.0</td>\n",
       "      <td>101.0</td>\n",
       "      <td>514.0</td>\n",
       "      <td>514.0</td>\n",
       "      <td>1006.0</td>\n",
       "      <td>1.0</td>\n",
       "      <td>0.0</td>\n",
       "      <td>0.0</td>\n",
       "      <td>0.0</td>\n",
       "    </tr>\n",
       "    <tr>\n",
       "      <th>...</th>\n",
       "      <td>...</td>\n",
       "      <td>...</td>\n",
       "      <td>...</td>\n",
       "      <td>...</td>\n",
       "      <td>...</td>\n",
       "      <td>...</td>\n",
       "      <td>...</td>\n",
       "      <td>...</td>\n",
       "      <td>...</td>\n",
       "      <td>...</td>\n",
       "      <td>...</td>\n",
       "      <td>...</td>\n",
       "      <td>...</td>\n",
       "      <td>...</td>\n",
       "      <td>...</td>\n",
       "      <td>...</td>\n",
       "    </tr>\n",
       "    <tr>\n",
       "      <th>555</th>\n",
       "      <td>230</td>\n",
       "      <td>2024-03-28 13:52:04+01:00</td>\n",
       "      <td>FR-19997</td>\n",
       "      <td>866833046798499</td>\n",
       "      <td>16.0</td>\n",
       "      <td>40.0</td>\n",
       "      <td>9825.0</td>\n",
       "      <td>76.0</td>\n",
       "      <td>108.0</td>\n",
       "      <td>2144.0</td>\n",
       "      <td>3380.0</td>\n",
       "      <td>7934.0</td>\n",
       "      <td>1.0</td>\n",
       "      <td>0.0</td>\n",
       "      <td>0.0</td>\n",
       "      <td>0.0</td>\n",
       "    </tr>\n",
       "    <tr>\n",
       "      <th>556</th>\n",
       "      <td>232</td>\n",
       "      <td>2024-03-28 13:54:04+01:00</td>\n",
       "      <td>FR-19997</td>\n",
       "      <td>866833046798499</td>\n",
       "      <td>16.0</td>\n",
       "      <td>41.0</td>\n",
       "      <td>9825.0</td>\n",
       "      <td>68.0</td>\n",
       "      <td>101.0</td>\n",
       "      <td>2154.0</td>\n",
       "      <td>2840.0</td>\n",
       "      <td>7230.0</td>\n",
       "      <td>0.0</td>\n",
       "      <td>0.0</td>\n",
       "      <td>1.0</td>\n",
       "      <td>0.0</td>\n",
       "    </tr>\n",
       "    <tr>\n",
       "      <th>557</th>\n",
       "      <td>234</td>\n",
       "      <td>2024-03-28 13:56:04+01:00</td>\n",
       "      <td>FR-19997</td>\n",
       "      <td>866833046798499</td>\n",
       "      <td>16.0</td>\n",
       "      <td>40.0</td>\n",
       "      <td>9825.0</td>\n",
       "      <td>63.0</td>\n",
       "      <td>102.0</td>\n",
       "      <td>2154.0</td>\n",
       "      <td>2840.0</td>\n",
       "      <td>7230.0</td>\n",
       "      <td>0.0</td>\n",
       "      <td>0.0</td>\n",
       "      <td>1.0</td>\n",
       "      <td>0.0</td>\n",
       "    </tr>\n",
       "    <tr>\n",
       "      <th>558</th>\n",
       "      <td>236</td>\n",
       "      <td>2024-03-28 13:58:04+01:00</td>\n",
       "      <td>FR-19997</td>\n",
       "      <td>866833046798499</td>\n",
       "      <td>17.0</td>\n",
       "      <td>40.0</td>\n",
       "      <td>9825.0</td>\n",
       "      <td>64.0</td>\n",
       "      <td>110.0</td>\n",
       "      <td>2062.0</td>\n",
       "      <td>3572.0</td>\n",
       "      <td>9168.0</td>\n",
       "      <td>0.0</td>\n",
       "      <td>0.0</td>\n",
       "      <td>1.0</td>\n",
       "      <td>0.0</td>\n",
       "    </tr>\n",
       "    <tr>\n",
       "      <th>559</th>\n",
       "      <td>238</td>\n",
       "      <td>2024-03-28 14:00:04+01:00</td>\n",
       "      <td>FR-19997</td>\n",
       "      <td>866833046798499</td>\n",
       "      <td>17.0</td>\n",
       "      <td>39.0</td>\n",
       "      <td>9824.0</td>\n",
       "      <td>66.0</td>\n",
       "      <td>104.0</td>\n",
       "      <td>2062.0</td>\n",
       "      <td>3572.0</td>\n",
       "      <td>9168.0</td>\n",
       "      <td>1.0</td>\n",
       "      <td>0.0</td>\n",
       "      <td>0.0</td>\n",
       "      <td>0.0</td>\n",
       "    </tr>\n",
       "  </tbody>\n",
       "</table>\n",
       "<p>560 rows × 16 columns</p>\n",
       "</div>"
      ],
      "text/plain": [
       "     Unnamed: 0                      Date  parkName         sensorId  \\\n",
       "0             0 2024-03-28 09:56:33+01:00  FR-19997  866356067365675   \n",
       "1             2 2024-03-28 09:58:33+01:00  FR-19997  866356067365675   \n",
       "2             4 2024-03-28 10:00:33+01:00  FR-19997  866356067365675   \n",
       "3             6 2024-03-28 10:02:33+01:00  FR-19997  866356067365675   \n",
       "4             8 2024-03-28 10:06:40+01:00  FR-19997  866356067365675   \n",
       "..          ...                       ...       ...              ...   \n",
       "555         230 2024-03-28 13:52:04+01:00  FR-19997  866833046798499   \n",
       "556         232 2024-03-28 13:54:04+01:00  FR-19997  866833046798499   \n",
       "557         234 2024-03-28 13:56:04+01:00  FR-19997  866833046798499   \n",
       "558         236 2024-03-28 13:58:04+01:00  FR-19997  866833046798499   \n",
       "559         238 2024-03-28 14:00:04+01:00  FR-19997  866833046798499   \n",
       "\n",
       "     temperature  humidity  pressure  noise  noise_max     pm1   pm2_5  \\\n",
       "0           22.0      39.0    9799.0   55.0      109.0   413.0   825.0   \n",
       "1           22.0      40.0    9799.0   54.0      116.0   413.0   825.0   \n",
       "2           22.0      40.0    9799.0   51.0      109.0   413.0   825.0   \n",
       "3           22.0      38.0    9798.0   52.0       90.0   445.0   651.0   \n",
       "4           22.0      37.0    9800.0   52.0      101.0   514.0   514.0   \n",
       "..           ...       ...       ...    ...        ...     ...     ...   \n",
       "555         16.0      40.0    9825.0   76.0      108.0  2144.0  3380.0   \n",
       "556         16.0      41.0    9825.0   68.0      101.0  2154.0  2840.0   \n",
       "557         16.0      40.0    9825.0   63.0      102.0  2154.0  2840.0   \n",
       "558         17.0      40.0    9825.0   64.0      110.0  2062.0  3572.0   \n",
       "559         17.0      39.0    9824.0   66.0      104.0  2062.0  3572.0   \n",
       "\n",
       "       pm10  aucun passage  1 passage(s)  2 passage(s)  3 passage(s)  \n",
       "0    1318.0            1.0           0.0           0.0           0.0  \n",
       "1    1318.0            1.0           0.0           0.0           0.0  \n",
       "2    1318.0            1.0           0.0           0.0           0.0  \n",
       "3     898.0            1.0           0.0           0.0           0.0  \n",
       "4    1006.0            1.0           0.0           0.0           0.0  \n",
       "..      ...            ...           ...           ...           ...  \n",
       "555  7934.0            1.0           0.0           0.0           0.0  \n",
       "556  7230.0            0.0           0.0           1.0           0.0  \n",
       "557  7230.0            0.0           0.0           1.0           0.0  \n",
       "558  9168.0            0.0           0.0           1.0           0.0  \n",
       "559  9168.0            1.0           0.0           0.0           0.0  \n",
       "\n",
       "[560 rows x 16 columns]"
      ]
     },
     "execution_count": 10,
     "metadata": {},
     "output_type": "execute_result"
    }
   ],
   "source": [
    "df_capteur_entreprise"
   ]
  },
  {
   "cell_type": "code",
   "execution_count": 11,
   "metadata": {},
   "outputs": [
    {
     "data": {
      "application/vnd.plotly.v1+json": {
       "config": {
        "plotlyServerURL": "https://plot.ly"
       },
       "data": [
        {
         "mode": "lines",
         "name": "866356067393040",
         "type": "scatter",
         "x": [
          "2024-03-28T09:55:52+01:00",
          "2024-03-28T09:57:53+01:00",
          "2024-03-28T09:59:52+01:00",
          "2024-03-28T10:01:53+01:00",
          "2024-03-28T10:03:52+01:00",
          "2024-03-28T10:05:53+01:00",
          "2024-03-28T10:07:53+01:00",
          "2024-03-28T10:09:53+01:00",
          "2024-03-28T10:11:52+01:00",
          "2024-03-28T10:13:52+01:00",
          "2024-03-28T10:15:53+01:00",
          "2024-03-28T10:17:53+01:00",
          "2024-03-28T10:19:52+01:00",
          "2024-03-28T10:21:53+01:00",
          "2024-03-28T10:23:52+01:00",
          "2024-03-28T10:25:52+01:00",
          "2024-03-28T10:27:53+01:00",
          "2024-03-28T10:29:53+01:00",
          "2024-03-28T10:31:52+01:00",
          "2024-03-28T10:33:52+01:00",
          "2024-03-28T10:35:52+01:00",
          "2024-03-28T10:37:52+01:00",
          "2024-03-28T10:39:52+01:00",
          "2024-03-28T10:52:50+01:00",
          "2024-03-28T10:54:56+01:00",
          "2024-03-28T10:56:50+01:00",
          "2024-03-28T10:58:50+01:00",
          "2024-03-28T11:00:50+01:00",
          "2024-03-28T11:02:50+01:00",
          "2024-03-28T11:04:50+01:00",
          "2024-03-28T11:06:50+01:00",
          "2024-03-28T11:08:50+01:00",
          "2024-03-28T11:10:50+01:00",
          "2024-03-28T11:12:50+01:00",
          "2024-03-28T11:14:50+01:00",
          "2024-03-28T11:16:50+01:00",
          "2024-03-28T11:18:53+01:00",
          "2024-03-28T11:20:50+01:00",
          "2024-03-28T11:22:50+01:00",
          "2024-03-28T11:24:50+01:00",
          "2024-03-28T11:26:50+01:00",
          "2024-03-28T11:28:50+01:00",
          "2024-03-28T11:30:50+01:00",
          "2024-03-28T11:32:50+01:00",
          "2024-03-28T11:34:50+01:00",
          "2024-03-28T11:36:50+01:00",
          "2024-03-28T11:38:50+01:00",
          "2024-03-28T11:40:50+01:00",
          "2024-03-28T11:42:50+01:00",
          "2024-03-28T11:44:50+01:00",
          "2024-03-28T11:46:50+01:00",
          "2024-03-28T11:48:50+01:00",
          "2024-03-28T11:50:50+01:00",
          "2024-03-28T11:52:50+01:00",
          "2024-03-28T11:54:50+01:00",
          "2024-03-28T11:56:50+01:00",
          "2024-03-28T11:58:50+01:00",
          "2024-03-28T12:00:50+01:00",
          "2024-03-28T12:02:50+01:00",
          "2024-03-28T12:04:50+01:00",
          "2024-03-28T12:06:50+01:00",
          "2024-03-28T12:08:50+01:00",
          "2024-03-28T12:10:50+01:00",
          "2024-03-28T12:12:50+01:00",
          "2024-03-28T12:14:50+01:00",
          "2024-03-28T12:16:51+01:00",
          "2024-03-28T12:18:50+01:00",
          "2024-03-28T12:20:50+01:00",
          "2024-03-28T12:22:50+01:00",
          "2024-03-28T12:24:53+01:00",
          "2024-03-28T12:26:50+01:00",
          "2024-03-28T12:28:50+01:00",
          "2024-03-28T12:30:50+01:00",
          "2024-03-28T12:32:50+01:00",
          "2024-03-28T12:34:50+01:00",
          "2024-03-28T12:36:50+01:00",
          "2024-03-28T12:38:50+01:00",
          "2024-03-28T12:40:50+01:00",
          "2024-03-28T12:42:50+01:00",
          "2024-03-28T12:44:50+01:00",
          "2024-03-28T12:46:51+01:00",
          "2024-03-28T12:48:50+01:00",
          "2024-03-28T12:50:50+01:00",
          "2024-03-28T12:52:50+01:00",
          "2024-03-28T12:54:50+01:00",
          "2024-03-28T12:56:50+01:00",
          "2024-03-28T12:58:50+01:00",
          "2024-03-28T13:00:51+01:00",
          "2024-03-28T13:02:50+01:00",
          "2024-03-28T13:04:50+01:00",
          "2024-03-28T13:06:50+01:00",
          "2024-03-28T13:08:50+01:00",
          "2024-03-28T13:10:50+01:00",
          "2024-03-28T13:12:50+01:00",
          "2024-03-28T13:14:50+01:00",
          "2024-03-28T13:16:50+01:00",
          "2024-03-28T13:18:50+01:00",
          "2024-03-28T13:20:50+01:00",
          "2024-03-28T13:22:51+01:00",
          "2024-03-28T13:24:50+01:00",
          "2024-03-28T13:26:50+01:00",
          "2024-03-28T13:28:50+01:00",
          "2024-03-28T13:30:50+01:00",
          "2024-03-28T13:32:51+01:00",
          "2024-03-28T13:34:50+01:00",
          "2024-03-28T13:36:50+01:00",
          "2024-03-28T13:38:53+01:00",
          "2024-03-28T13:40:50+01:00",
          "2024-03-28T13:42:50+01:00",
          "2024-03-28T13:44:50+01:00",
          "2024-03-28T13:46:50+01:00",
          "2024-03-28T13:48:50+01:00",
          "2024-03-28T13:50:50+01:00",
          "2024-03-28T13:52:50+01:00",
          "2024-03-28T13:54:50+01:00",
          "2024-03-28T13:56:51+01:00",
          "2024-03-28T13:58:50+01:00",
          "2024-03-28T14:00:50+01:00"
         ],
         "y": [
          1810,
          1810,
          1810,
          1523,
          1523,
          1379,
          1379,
          1379,
          1256,
          1256,
          1056,
          1056,
          1056,
          959,
          959,
          961,
          961,
          961,
          1224,
          1224,
          1293,
          1293,
          1293,
          543,
          543,
          543,
          1009,
          1009,
          1052,
          1052,
          1052,
          1675,
          1675,
          1872,
          1872,
          1872,
          2831,
          2831,
          2715,
          2715,
          2715,
          4241,
          4241,
          3720,
          3720,
          3720,
          3890,
          3890,
          2215,
          2215,
          2215,
          2101,
          2101,
          1543,
          1543,
          1543,
          1515,
          1515,
          2142,
          2142,
          2142,
          2825,
          2825,
          3404,
          3404,
          3404,
          2408,
          2408,
          2209,
          2209,
          2209,
          1858,
          1858,
          2521,
          2521,
          2521,
          2347,
          2347,
          2612,
          2612,
          2612,
          2399,
          2399,
          2245,
          2245,
          2245,
          2290,
          2290,
          2359,
          2359,
          2359,
          2654,
          2654,
          2552,
          2552,
          2552,
          2683,
          2683,
          2757,
          2757,
          2757,
          2477,
          2477,
          1972,
          1972,
          1972,
          1826,
          1826,
          1736,
          1736,
          1736,
          2403,
          2403,
          2600,
          2600,
          2600,
          2827,
          2827
         ]
        },
        {
         "mode": "lines",
         "name": "866833046777873",
         "type": "scatter",
         "x": [
          "2024-03-28T09:57:16+01:00",
          "2024-03-28T09:59:16+01:00",
          "2024-03-28T10:01:15+01:00",
          "2024-03-28T10:03:16+01:00",
          "2024-03-28T10:05:16+01:00",
          "2024-03-28T10:07:16+01:00",
          "2024-03-28T10:09:16+01:00",
          "2024-03-28T10:11:15+01:00",
          "2024-03-28T10:13:16+01:00",
          "2024-03-28T10:15:16+01:00",
          "2024-03-28T10:17:16+01:00",
          "2024-03-28T10:19:15+01:00",
          "2024-03-28T10:21:16+01:00",
          "2024-03-28T10:23:15+01:00",
          "2024-03-28T10:25:15+01:00",
          "2024-03-28T10:27:15+01:00",
          "2024-03-28T10:29:15+01:00",
          "2024-03-28T10:31:15+01:00",
          "2024-03-28T10:33:15+01:00",
          "2024-03-28T10:35:16+01:00",
          "2024-03-28T10:37:16+01:00",
          "2024-03-28T10:39:16+01:00",
          "2024-03-28T10:41:15+01:00",
          "2024-03-28T10:47:57+01:00",
          "2024-03-28T10:49:57+01:00",
          "2024-03-28T10:51:57+01:00",
          "2024-03-28T10:53:57+01:00",
          "2024-03-28T10:55:57+01:00",
          "2024-03-28T10:57:57+01:00",
          "2024-03-28T10:59:57+01:00",
          "2024-03-28T11:01:57+01:00",
          "2024-03-28T11:03:57+01:00",
          "2024-03-28T11:05:57+01:00",
          "2024-03-28T11:07:57+01:00",
          "2024-03-28T11:09:57+01:00",
          "2024-03-28T11:11:57+01:00",
          "2024-03-28T11:13:57+01:00",
          "2024-03-28T11:15:57+01:00",
          "2024-03-28T11:17:57+01:00",
          "2024-03-28T11:19:57+01:00",
          "2024-03-28T11:21:57+01:00",
          "2024-03-28T11:23:57+01:00",
          "2024-03-28T11:25:57+01:00",
          "2024-03-28T11:27:57+01:00",
          "2024-03-28T11:29:57+01:00",
          "2024-03-28T11:31:57+01:00",
          "2024-03-28T11:33:57+01:00",
          "2024-03-28T11:35:57+01:00",
          "2024-03-28T11:37:57+01:00",
          "2024-03-28T11:39:57+01:00",
          "2024-03-28T11:41:57+01:00",
          "2024-03-28T11:43:57+01:00",
          "2024-03-28T11:45:57+01:00",
          "2024-03-28T11:47:57+01:00",
          "2024-03-28T11:49:57+01:00",
          "2024-03-28T11:51:57+01:00",
          "2024-03-28T11:53:57+01:00",
          "2024-03-28T11:55:57+01:00",
          "2024-03-28T11:57:57+01:00",
          "2024-03-28T11:59:57+01:00",
          "2024-03-28T12:01:57+01:00",
          "2024-03-28T12:03:57+01:00",
          "2024-03-28T12:05:57+01:00",
          "2024-03-28T12:07:57+01:00",
          "2024-03-28T12:09:57+01:00",
          "2024-03-28T12:11:57+01:00",
          "2024-03-28T12:13:57+01:00",
          "2024-03-28T12:15:57+01:00",
          "2024-03-28T12:17:57+01:00",
          "2024-03-28T12:19:57+01:00",
          "2024-03-28T12:21:57+01:00",
          "2024-03-28T12:23:57+01:00",
          "2024-03-28T12:25:57+01:00",
          "2024-03-28T12:27:57+01:00",
          "2024-03-28T12:29:57+01:00",
          "2024-03-28T12:31:57+01:00",
          "2024-03-28T12:33:57+01:00",
          "2024-03-28T12:35:57+01:00",
          "2024-03-28T12:37:57+01:00",
          "2024-03-28T12:39:57+01:00",
          "2024-03-28T12:41:57+01:00",
          "2024-03-28T12:43:57+01:00",
          "2024-03-28T12:45:57+01:00",
          "2024-03-28T12:47:57+01:00",
          "2024-03-28T12:49:57+01:00",
          "2024-03-28T12:51:57+01:00",
          "2024-03-28T12:53:57+01:00",
          "2024-03-28T12:55:57+01:00",
          "2024-03-28T12:57:57+01:00",
          "2024-03-28T12:59:57+01:00",
          "2024-03-28T13:01:57+01:00",
          "2024-03-28T13:03:57+01:00",
          "2024-03-28T13:05:57+01:00",
          "2024-03-28T13:07:57+01:00",
          "2024-03-28T13:09:57+01:00",
          "2024-03-28T13:11:57+01:00",
          "2024-03-28T13:13:57+01:00",
          "2024-03-28T13:15:57+01:00",
          "2024-03-28T13:17:57+01:00",
          "2024-03-28T13:19:57+01:00",
          "2024-03-28T13:21:56+01:00",
          "2024-03-28T13:23:57+01:00",
          "2024-03-28T13:25:57+01:00",
          "2024-03-28T13:27:56+01:00",
          "2024-03-28T13:29:57+01:00",
          "2024-03-28T13:31:57+01:00",
          "2024-03-28T13:33:56+01:00",
          "2024-03-28T13:36:01+01:00",
          "2024-03-28T13:37:57+01:00",
          "2024-03-28T13:39:57+01:00",
          "2024-03-28T13:41:57+01:00",
          "2024-03-28T13:43:56+01:00",
          "2024-03-28T13:45:57+01:00",
          "2024-03-28T13:47:56+01:00",
          "2024-03-28T13:49:56+01:00",
          "2024-03-28T13:51:57+01:00",
          "2024-03-28T13:53:57+01:00",
          "2024-03-28T13:55:56+01:00",
          "2024-03-28T13:57:56+01:00",
          "2024-03-28T13:59:56+01:00"
         ],
         "y": [
          347,
          347,
          347,
          616,
          616,
          693,
          693,
          693,
          904,
          904,
          1126,
          1126,
          1126,
          1199,
          1199,
          1106,
          1106,
          1106,
          963,
          963,
          1095,
          1095,
          1095,
          807,
          807,
          807,
          897,
          897,
          1169,
          1169,
          1169,
          1096,
          1096,
          1414,
          1414,
          1414,
          1378,
          1378,
          2005,
          2005,
          2005,
          1965,
          1965,
          2798,
          2798,
          2798,
          2777,
          2777,
          3072,
          3072,
          3072,
          2069,
          2069,
          1451,
          1451,
          1451,
          933,
          933,
          1449,
          1449,
          1449,
          2206,
          2206,
          2577,
          2577,
          2577,
          2318,
          2318,
          1781,
          1781,
          1781,
          1997,
          1997,
          1744,
          1744,
          1744,
          1812,
          1812,
          1404,
          1404,
          1404,
          1966,
          1966,
          1941,
          1941,
          1941,
          1952,
          1952,
          2077,
          2077,
          2077,
          2046,
          2046,
          2080,
          2080,
          2080,
          1848,
          1848,
          2280,
          2280,
          2280,
          3052,
          3052,
          2775,
          2775,
          2775,
          2570,
          2570,
          1649,
          1649,
          1649,
          1451,
          1451,
          2184,
          2184,
          2184,
          2455,
          2455,
          2608,
          2608
         ]
        },
        {
         "mode": "lines",
         "name": "866833046778889",
         "type": "scatter",
         "x": [
          "2024-03-28T09:55:15+01:00",
          "2024-03-28T09:57:15+01:00",
          "2024-03-28T09:59:15+01:00",
          "2024-03-28T10:01:15+01:00",
          "2024-03-28T10:03:15+01:00",
          "2024-03-28T10:05:19+01:00",
          "2024-03-28T10:07:15+01:00",
          "2024-03-28T10:09:15+01:00",
          "2024-03-28T10:11:15+01:00",
          "2024-03-28T10:13:15+01:00",
          "2024-03-28T10:15:15+01:00",
          "2024-03-28T10:17:15+01:00",
          "2024-03-28T10:19:15+01:00",
          "2024-03-28T10:21:15+01:00",
          "2024-03-28T10:23:15+01:00",
          "2024-03-28T10:25:15+01:00",
          "2024-03-28T10:27:15+01:00",
          "2024-03-28T10:29:15+01:00",
          "2024-03-28T10:31:15+01:00",
          "2024-03-28T10:33:15+01:00",
          "2024-03-28T10:35:15+01:00",
          "2024-03-28T10:37:19+01:00",
          "2024-03-28T10:39:15+01:00",
          "2024-03-28T10:52:45+01:00",
          "2024-03-28T10:54:45+01:00",
          "2024-03-28T10:56:45+01:00",
          "2024-03-28T10:58:45+01:00",
          "2024-03-28T11:00:45+01:00",
          "2024-03-28T11:02:45+01:00",
          "2024-03-28T11:04:45+01:00",
          "2024-03-28T11:06:45+01:00",
          "2024-03-28T11:08:45+01:00",
          "2024-03-28T11:10:45+01:00",
          "2024-03-28T11:12:45+01:00",
          "2024-03-28T11:14:45+01:00",
          "2024-03-28T11:16:45+01:00",
          "2024-03-28T11:18:45+01:00",
          "2024-03-28T11:20:45+01:00",
          "2024-03-28T11:22:45+01:00",
          "2024-03-28T11:24:45+01:00",
          "2024-03-28T11:26:45+01:00",
          "2024-03-28T11:28:45+01:00",
          "2024-03-28T11:30:45+01:00",
          "2024-03-28T11:32:45+01:00",
          "2024-03-28T11:34:45+01:00",
          "2024-03-28T11:36:45+01:00",
          "2024-03-28T11:38:45+01:00",
          "2024-03-28T11:40:45+01:00",
          "2024-03-28T11:42:46+01:00",
          "2024-03-28T11:44:45+01:00",
          "2024-03-28T11:46:45+01:00",
          "2024-03-28T11:48:45+01:00",
          "2024-03-28T11:50:45+01:00",
          "2024-03-28T11:52:45+01:00",
          "2024-03-28T11:54:45+01:00",
          "2024-03-28T11:56:45+01:00",
          "2024-03-28T11:58:45+01:00",
          "2024-03-28T12:00:45+01:00",
          "2024-03-28T12:02:45+01:00",
          "2024-03-28T12:04:45+01:00",
          "2024-03-28T12:06:45+01:00",
          "2024-03-28T12:08:45+01:00",
          "2024-03-28T12:10:45+01:00",
          "2024-03-28T12:12:45+01:00",
          "2024-03-28T12:14:45+01:00",
          "2024-03-28T12:16:45+01:00",
          "2024-03-28T12:18:46+01:00",
          "2024-03-28T12:20:45+01:00",
          "2024-03-28T12:22:45+01:00",
          "2024-03-28T12:24:48+01:00",
          "2024-03-28T12:26:45+01:00",
          "2024-03-28T12:28:45+01:00",
          "2024-03-28T12:30:45+01:00",
          "2024-03-28T12:32:45+01:00",
          "2024-03-28T12:34:45+01:00",
          "2024-03-28T12:36:45+01:00",
          "2024-03-28T12:38:45+01:00",
          "2024-03-28T12:40:45+01:00",
          "2024-03-28T12:42:45+01:00",
          "2024-03-28T12:44:45+01:00",
          "2024-03-28T12:46:45+01:00",
          "2024-03-28T12:48:45+01:00",
          "2024-03-28T12:50:45+01:00",
          "2024-03-28T12:52:45+01:00",
          "2024-03-28T12:54:45+01:00",
          "2024-03-28T12:56:45+01:00",
          "2024-03-28T12:58:45+01:00",
          "2024-03-28T13:00:44+01:00",
          "2024-03-28T13:02:44+01:00",
          "2024-03-28T13:04:44+01:00",
          "2024-03-28T13:06:45+01:00",
          "2024-03-28T13:08:45+01:00",
          "2024-03-28T13:10:45+01:00",
          "2024-03-28T13:12:44+01:00",
          "2024-03-28T13:14:44+01:00",
          "2024-03-28T13:16:44+01:00",
          "2024-03-28T13:18:45+01:00",
          "2024-03-28T13:20:44+01:00",
          "2024-03-28T13:22:45+01:00",
          "2024-03-28T13:24:45+01:00",
          "2024-03-28T13:26:45+01:00",
          "2024-03-28T13:28:44+01:00",
          "2024-03-28T13:30:44+01:00",
          "2024-03-28T13:32:45+01:00",
          "2024-03-28T13:34:44+01:00",
          "2024-03-28T13:36:45+01:00",
          "2024-03-28T13:38:45+01:00",
          "2024-03-28T13:40:45+01:00",
          "2024-03-28T13:42:45+01:00",
          "2024-03-28T13:44:45+01:00",
          "2024-03-28T13:46:44+01:00",
          "2024-03-28T13:48:44+01:00",
          "2024-03-28T13:50:45+01:00",
          "2024-03-28T13:52:44+01:00",
          "2024-03-28T13:54:44+01:00",
          "2024-03-28T13:56:44+01:00",
          "2024-03-28T13:58:45+01:00",
          "2024-03-28T14:00:44+01:00"
         ],
         "y": [
          1997,
          1997,
          1997,
          1579,
          1579,
          1219,
          1219,
          1219,
          1031,
          1031,
          1017,
          1017,
          1017,
          1044,
          1044,
          864,
          864,
          864,
          770,
          770,
          1008,
          1008,
          1008,
          1372,
          1372,
          1372,
          1044,
          1044,
          1200,
          1200,
          1200,
          1313,
          1313,
          1481,
          1481,
          1481,
          2304,
          2304,
          2360,
          2360,
          2360,
          3054,
          3054,
          1941,
          1941,
          1941,
          2183,
          2183,
          1658,
          1658,
          1658,
          1934,
          1934,
          1407,
          1407,
          1407,
          1228,
          1228,
          2044,
          2044,
          2044,
          2209,
          2209,
          2635,
          2635,
          2635,
          1948,
          1948,
          2187,
          2187,
          2187,
          1809,
          1809,
          1880,
          1880,
          1880,
          1737,
          1737,
          2388,
          2388,
          2388,
          2000,
          2000,
          2515,
          2515,
          2515,
          2202,
          2202,
          2525,
          2525,
          2525,
          2279,
          2279,
          2139,
          2139,
          2139,
          2044,
          2044,
          1895,
          1895,
          1895,
          1761,
          1761,
          2136,
          2136,
          2136,
          2179,
          2179,
          2289,
          2289,
          2289,
          2852,
          2852,
          2880,
          2880,
          2880,
          2631,
          2631
         ]
        },
        {
         "mode": "lines",
         "name": "866833046798499",
         "type": "scatter",
         "x": [
          "2024-03-28T09:55:18+01:00",
          "2024-03-28T09:57:18+01:00",
          "2024-03-28T09:59:19+01:00",
          "2024-03-28T10:01:19+01:00",
          "2024-03-28T10:03:18+01:00",
          "2024-03-28T10:06:30+01:00",
          "2024-03-28T10:08:31+01:00",
          "2024-03-28T10:10:34+01:00",
          "2024-03-28T10:12:31+01:00",
          "2024-03-28T10:14:31+01:00",
          "2024-03-28T10:16:31+01:00",
          "2024-03-28T10:18:31+01:00",
          "2024-03-28T10:20:31+01:00",
          "2024-03-28T10:22:31+01:00",
          "2024-03-28T10:24:31+01:00",
          "2024-03-28T10:26:31+01:00",
          "2024-03-28T10:28:31+01:00",
          "2024-03-28T10:30:31+01:00",
          "2024-03-28T10:32:32+01:00",
          "2024-03-28T10:34:31+01:00",
          "2024-03-28T10:36:31+01:00",
          "2024-03-28T10:38:30+01:00",
          "2024-03-28T10:40:30+01:00",
          "2024-03-28T10:48:04+01:00",
          "2024-03-28T10:50:04+01:00",
          "2024-03-28T10:52:04+01:00",
          "2024-03-28T10:54:04+01:00",
          "2024-03-28T10:56:04+01:00",
          "2024-03-28T10:58:04+01:00",
          "2024-03-28T11:00:04+01:00",
          "2024-03-28T11:02:04+01:00",
          "2024-03-28T11:04:04+01:00",
          "2024-03-28T11:06:04+01:00",
          "2024-03-28T11:08:04+01:00",
          "2024-03-28T11:10:04+01:00",
          "2024-03-28T11:12:04+01:00",
          "2024-03-28T11:14:04+01:00",
          "2024-03-28T11:16:04+01:00",
          "2024-03-28T11:18:04+01:00",
          "2024-03-28T11:20:04+01:00",
          "2024-03-28T11:22:04+01:00",
          "2024-03-28T11:24:04+01:00",
          "2024-03-28T11:26:04+01:00",
          "2024-03-28T11:28:05+01:00",
          "2024-03-28T11:30:04+01:00",
          "2024-03-28T11:32:04+01:00",
          "2024-03-28T11:34:04+01:00",
          "2024-03-28T11:36:04+01:00",
          "2024-03-28T11:38:04+01:00",
          "2024-03-28T11:40:04+01:00",
          "2024-03-28T11:42:04+01:00",
          "2024-03-28T11:44:04+01:00",
          "2024-03-28T11:46:04+01:00",
          "2024-03-28T11:48:04+01:00",
          "2024-03-28T11:50:04+01:00",
          "2024-03-28T11:52:07+01:00",
          "2024-03-28T11:54:04+01:00",
          "2024-03-28T11:56:04+01:00",
          "2024-03-28T11:58:04+01:00",
          "2024-03-28T12:00:04+01:00",
          "2024-03-28T12:02:04+01:00",
          "2024-03-28T12:04:04+01:00",
          "2024-03-28T12:06:04+01:00",
          "2024-03-28T12:08:04+01:00",
          "2024-03-28T12:10:04+01:00",
          "2024-03-28T12:12:04+01:00",
          "2024-03-28T12:14:04+01:00",
          "2024-03-28T12:16:04+01:00",
          "2024-03-28T12:18:04+01:00",
          "2024-03-28T12:20:04+01:00",
          "2024-03-28T12:22:04+01:00",
          "2024-03-28T12:24:04+01:00",
          "2024-03-28T12:26:04+01:00",
          "2024-03-28T12:28:04+01:00",
          "2024-03-28T12:30:04+01:00",
          "2024-03-28T12:32:04+01:00",
          "2024-03-28T12:34:04+01:00",
          "2024-03-28T12:36:04+01:00",
          "2024-03-28T12:38:04+01:00",
          "2024-03-28T12:40:04+01:00",
          "2024-03-28T12:42:04+01:00",
          "2024-03-28T12:44:04+01:00",
          "2024-03-28T12:46:04+01:00",
          "2024-03-28T12:48:04+01:00",
          "2024-03-28T12:50:04+01:00",
          "2024-03-28T12:52:07+01:00",
          "2024-03-28T12:54:04+01:00",
          "2024-03-28T12:56:07+01:00",
          "2024-03-28T12:58:04+01:00",
          "2024-03-28T13:00:04+01:00",
          "2024-03-28T13:02:04+01:00",
          "2024-03-28T13:04:04+01:00",
          "2024-03-28T13:06:04+01:00",
          "2024-03-28T13:08:04+01:00",
          "2024-03-28T13:10:04+01:00",
          "2024-03-28T13:12:04+01:00",
          "2024-03-28T13:14:04+01:00",
          "2024-03-28T13:16:04+01:00",
          "2024-03-28T13:18:04+01:00",
          "2024-03-28T13:20:04+01:00",
          "2024-03-28T13:22:04+01:00",
          "2024-03-28T13:24:04+01:00",
          "2024-03-28T13:26:04+01:00",
          "2024-03-28T13:28:04+01:00",
          "2024-03-28T13:30:04+01:00",
          "2024-03-28T13:32:04+01:00",
          "2024-03-28T13:34:04+01:00",
          "2024-03-28T13:36:04+01:00",
          "2024-03-28T13:38:04+01:00",
          "2024-03-28T13:40:04+01:00",
          "2024-03-28T13:42:04+01:00",
          "2024-03-28T13:44:04+01:00",
          "2024-03-28T13:46:04+01:00",
          "2024-03-28T13:48:04+01:00",
          "2024-03-28T13:50:04+01:00",
          "2024-03-28T13:52:04+01:00",
          "2024-03-28T13:54:04+01:00",
          "2024-03-28T13:56:04+01:00",
          "2024-03-28T13:58:04+01:00",
          "2024-03-28T14:00:04+01:00"
         ],
         "y": [
          1348,
          1348,
          1348,
          1017,
          1017,
          1106,
          1106,
          1106,
          1086,
          1086,
          1052,
          1052,
          1052,
          1092,
          1092,
          1034,
          1034,
          1034,
          975,
          975,
          1009,
          1009,
          1009,
          2386,
          2386,
          2386,
          1822,
          1822,
          1509,
          1509,
          1509,
          1430,
          1430,
          1749,
          1749,
          1749,
          2215,
          2215,
          2408,
          2408,
          2408,
          2290,
          2290,
          3744,
          3744,
          3744,
          3550,
          3550,
          3964,
          3964,
          3964,
          2593,
          2593,
          2784,
          2784,
          2784,
          2272,
          2272,
          1815,
          1815,
          1815,
          1842,
          1842,
          2098,
          2098,
          2098,
          2712,
          2712,
          2436,
          2436,
          2436,
          2714,
          2714,
          2528,
          2528,
          2528,
          2736,
          2736,
          2185,
          2185,
          2185,
          2110,
          2110,
          2071,
          2071,
          2071,
          2068,
          2068,
          2330,
          2330,
          2330,
          2158,
          2158,
          2436,
          2436,
          2436,
          2741,
          2741,
          2707,
          2707,
          2707,
          3426,
          3426,
          2840,
          2840,
          2840,
          3076,
          3076,
          2801,
          2801,
          2801,
          2636,
          2636,
          3380,
          3380,
          3380,
          2840,
          2840,
          3572,
          3572
         ]
        }
       ],
       "layout": {
        "legend": {
         "title": {
          "text": "pm2_5 vs time "
         }
        },
        "template": {
         "data": {
          "bar": [
           {
            "error_x": {
             "color": "#2a3f5f"
            },
            "error_y": {
             "color": "#2a3f5f"
            },
            "marker": {
             "line": {
              "color": "#E5ECF6",
              "width": 0.5
             },
             "pattern": {
              "fillmode": "overlay",
              "size": 10,
              "solidity": 0.2
             }
            },
            "type": "bar"
           }
          ],
          "barpolar": [
           {
            "marker": {
             "line": {
              "color": "#E5ECF6",
              "width": 0.5
             },
             "pattern": {
              "fillmode": "overlay",
              "size": 10,
              "solidity": 0.2
             }
            },
            "type": "barpolar"
           }
          ],
          "carpet": [
           {
            "aaxis": {
             "endlinecolor": "#2a3f5f",
             "gridcolor": "white",
             "linecolor": "white",
             "minorgridcolor": "white",
             "startlinecolor": "#2a3f5f"
            },
            "baxis": {
             "endlinecolor": "#2a3f5f",
             "gridcolor": "white",
             "linecolor": "white",
             "minorgridcolor": "white",
             "startlinecolor": "#2a3f5f"
            },
            "type": "carpet"
           }
          ],
          "choropleth": [
           {
            "colorbar": {
             "outlinewidth": 0,
             "ticks": ""
            },
            "type": "choropleth"
           }
          ],
          "contour": [
           {
            "colorbar": {
             "outlinewidth": 0,
             "ticks": ""
            },
            "colorscale": [
             [
              0,
              "#0d0887"
             ],
             [
              0.1111111111111111,
              "#46039f"
             ],
             [
              0.2222222222222222,
              "#7201a8"
             ],
             [
              0.3333333333333333,
              "#9c179e"
             ],
             [
              0.4444444444444444,
              "#bd3786"
             ],
             [
              0.5555555555555556,
              "#d8576b"
             ],
             [
              0.6666666666666666,
              "#ed7953"
             ],
             [
              0.7777777777777778,
              "#fb9f3a"
             ],
             [
              0.8888888888888888,
              "#fdca26"
             ],
             [
              1,
              "#f0f921"
             ]
            ],
            "type": "contour"
           }
          ],
          "contourcarpet": [
           {
            "colorbar": {
             "outlinewidth": 0,
             "ticks": ""
            },
            "type": "contourcarpet"
           }
          ],
          "heatmap": [
           {
            "colorbar": {
             "outlinewidth": 0,
             "ticks": ""
            },
            "colorscale": [
             [
              0,
              "#0d0887"
             ],
             [
              0.1111111111111111,
              "#46039f"
             ],
             [
              0.2222222222222222,
              "#7201a8"
             ],
             [
              0.3333333333333333,
              "#9c179e"
             ],
             [
              0.4444444444444444,
              "#bd3786"
             ],
             [
              0.5555555555555556,
              "#d8576b"
             ],
             [
              0.6666666666666666,
              "#ed7953"
             ],
             [
              0.7777777777777778,
              "#fb9f3a"
             ],
             [
              0.8888888888888888,
              "#fdca26"
             ],
             [
              1,
              "#f0f921"
             ]
            ],
            "type": "heatmap"
           }
          ],
          "heatmapgl": [
           {
            "colorbar": {
             "outlinewidth": 0,
             "ticks": ""
            },
            "colorscale": [
             [
              0,
              "#0d0887"
             ],
             [
              0.1111111111111111,
              "#46039f"
             ],
             [
              0.2222222222222222,
              "#7201a8"
             ],
             [
              0.3333333333333333,
              "#9c179e"
             ],
             [
              0.4444444444444444,
              "#bd3786"
             ],
             [
              0.5555555555555556,
              "#d8576b"
             ],
             [
              0.6666666666666666,
              "#ed7953"
             ],
             [
              0.7777777777777778,
              "#fb9f3a"
             ],
             [
              0.8888888888888888,
              "#fdca26"
             ],
             [
              1,
              "#f0f921"
             ]
            ],
            "type": "heatmapgl"
           }
          ],
          "histogram": [
           {
            "marker": {
             "pattern": {
              "fillmode": "overlay",
              "size": 10,
              "solidity": 0.2
             }
            },
            "type": "histogram"
           }
          ],
          "histogram2d": [
           {
            "colorbar": {
             "outlinewidth": 0,
             "ticks": ""
            },
            "colorscale": [
             [
              0,
              "#0d0887"
             ],
             [
              0.1111111111111111,
              "#46039f"
             ],
             [
              0.2222222222222222,
              "#7201a8"
             ],
             [
              0.3333333333333333,
              "#9c179e"
             ],
             [
              0.4444444444444444,
              "#bd3786"
             ],
             [
              0.5555555555555556,
              "#d8576b"
             ],
             [
              0.6666666666666666,
              "#ed7953"
             ],
             [
              0.7777777777777778,
              "#fb9f3a"
             ],
             [
              0.8888888888888888,
              "#fdca26"
             ],
             [
              1,
              "#f0f921"
             ]
            ],
            "type": "histogram2d"
           }
          ],
          "histogram2dcontour": [
           {
            "colorbar": {
             "outlinewidth": 0,
             "ticks": ""
            },
            "colorscale": [
             [
              0,
              "#0d0887"
             ],
             [
              0.1111111111111111,
              "#46039f"
             ],
             [
              0.2222222222222222,
              "#7201a8"
             ],
             [
              0.3333333333333333,
              "#9c179e"
             ],
             [
              0.4444444444444444,
              "#bd3786"
             ],
             [
              0.5555555555555556,
              "#d8576b"
             ],
             [
              0.6666666666666666,
              "#ed7953"
             ],
             [
              0.7777777777777778,
              "#fb9f3a"
             ],
             [
              0.8888888888888888,
              "#fdca26"
             ],
             [
              1,
              "#f0f921"
             ]
            ],
            "type": "histogram2dcontour"
           }
          ],
          "mesh3d": [
           {
            "colorbar": {
             "outlinewidth": 0,
             "ticks": ""
            },
            "type": "mesh3d"
           }
          ],
          "parcoords": [
           {
            "line": {
             "colorbar": {
              "outlinewidth": 0,
              "ticks": ""
             }
            },
            "type": "parcoords"
           }
          ],
          "pie": [
           {
            "automargin": true,
            "type": "pie"
           }
          ],
          "scatter": [
           {
            "fillpattern": {
             "fillmode": "overlay",
             "size": 10,
             "solidity": 0.2
            },
            "type": "scatter"
           }
          ],
          "scatter3d": [
           {
            "line": {
             "colorbar": {
              "outlinewidth": 0,
              "ticks": ""
             }
            },
            "marker": {
             "colorbar": {
              "outlinewidth": 0,
              "ticks": ""
             }
            },
            "type": "scatter3d"
           }
          ],
          "scattercarpet": [
           {
            "marker": {
             "colorbar": {
              "outlinewidth": 0,
              "ticks": ""
             }
            },
            "type": "scattercarpet"
           }
          ],
          "scattergeo": [
           {
            "marker": {
             "colorbar": {
              "outlinewidth": 0,
              "ticks": ""
             }
            },
            "type": "scattergeo"
           }
          ],
          "scattergl": [
           {
            "marker": {
             "colorbar": {
              "outlinewidth": 0,
              "ticks": ""
             }
            },
            "type": "scattergl"
           }
          ],
          "scattermapbox": [
           {
            "marker": {
             "colorbar": {
              "outlinewidth": 0,
              "ticks": ""
             }
            },
            "type": "scattermapbox"
           }
          ],
          "scatterpolar": [
           {
            "marker": {
             "colorbar": {
              "outlinewidth": 0,
              "ticks": ""
             }
            },
            "type": "scatterpolar"
           }
          ],
          "scatterpolargl": [
           {
            "marker": {
             "colorbar": {
              "outlinewidth": 0,
              "ticks": ""
             }
            },
            "type": "scatterpolargl"
           }
          ],
          "scatterternary": [
           {
            "marker": {
             "colorbar": {
              "outlinewidth": 0,
              "ticks": ""
             }
            },
            "type": "scatterternary"
           }
          ],
          "surface": [
           {
            "colorbar": {
             "outlinewidth": 0,
             "ticks": ""
            },
            "colorscale": [
             [
              0,
              "#0d0887"
             ],
             [
              0.1111111111111111,
              "#46039f"
             ],
             [
              0.2222222222222222,
              "#7201a8"
             ],
             [
              0.3333333333333333,
              "#9c179e"
             ],
             [
              0.4444444444444444,
              "#bd3786"
             ],
             [
              0.5555555555555556,
              "#d8576b"
             ],
             [
              0.6666666666666666,
              "#ed7953"
             ],
             [
              0.7777777777777778,
              "#fb9f3a"
             ],
             [
              0.8888888888888888,
              "#fdca26"
             ],
             [
              1,
              "#f0f921"
             ]
            ],
            "type": "surface"
           }
          ],
          "table": [
           {
            "cells": {
             "fill": {
              "color": "#EBF0F8"
             },
             "line": {
              "color": "white"
             }
            },
            "header": {
             "fill": {
              "color": "#C8D4E3"
             },
             "line": {
              "color": "white"
             }
            },
            "type": "table"
           }
          ]
         },
         "layout": {
          "annotationdefaults": {
           "arrowcolor": "#2a3f5f",
           "arrowhead": 0,
           "arrowwidth": 1
          },
          "autotypenumbers": "strict",
          "coloraxis": {
           "colorbar": {
            "outlinewidth": 0,
            "ticks": ""
           }
          },
          "colorscale": {
           "diverging": [
            [
             0,
             "#8e0152"
            ],
            [
             0.1,
             "#c51b7d"
            ],
            [
             0.2,
             "#de77ae"
            ],
            [
             0.3,
             "#f1b6da"
            ],
            [
             0.4,
             "#fde0ef"
            ],
            [
             0.5,
             "#f7f7f7"
            ],
            [
             0.6,
             "#e6f5d0"
            ],
            [
             0.7,
             "#b8e186"
            ],
            [
             0.8,
             "#7fbc41"
            ],
            [
             0.9,
             "#4d9221"
            ],
            [
             1,
             "#276419"
            ]
           ],
           "sequential": [
            [
             0,
             "#0d0887"
            ],
            [
             0.1111111111111111,
             "#46039f"
            ],
            [
             0.2222222222222222,
             "#7201a8"
            ],
            [
             0.3333333333333333,
             "#9c179e"
            ],
            [
             0.4444444444444444,
             "#bd3786"
            ],
            [
             0.5555555555555556,
             "#d8576b"
            ],
            [
             0.6666666666666666,
             "#ed7953"
            ],
            [
             0.7777777777777778,
             "#fb9f3a"
            ],
            [
             0.8888888888888888,
             "#fdca26"
            ],
            [
             1,
             "#f0f921"
            ]
           ],
           "sequentialminus": [
            [
             0,
             "#0d0887"
            ],
            [
             0.1111111111111111,
             "#46039f"
            ],
            [
             0.2222222222222222,
             "#7201a8"
            ],
            [
             0.3333333333333333,
             "#9c179e"
            ],
            [
             0.4444444444444444,
             "#bd3786"
            ],
            [
             0.5555555555555556,
             "#d8576b"
            ],
            [
             0.6666666666666666,
             "#ed7953"
            ],
            [
             0.7777777777777778,
             "#fb9f3a"
            ],
            [
             0.8888888888888888,
             "#fdca26"
            ],
            [
             1,
             "#f0f921"
            ]
           ]
          },
          "colorway": [
           "#636efa",
           "#EF553B",
           "#00cc96",
           "#ab63fa",
           "#FFA15A",
           "#19d3f3",
           "#FF6692",
           "#B6E880",
           "#FF97FF",
           "#FECB52"
          ],
          "font": {
           "color": "#2a3f5f"
          },
          "geo": {
           "bgcolor": "white",
           "lakecolor": "white",
           "landcolor": "#E5ECF6",
           "showlakes": true,
           "showland": true,
           "subunitcolor": "white"
          },
          "hoverlabel": {
           "align": "left"
          },
          "hovermode": "closest",
          "mapbox": {
           "style": "light"
          },
          "paper_bgcolor": "white",
          "plot_bgcolor": "#E5ECF6",
          "polar": {
           "angularaxis": {
            "gridcolor": "white",
            "linecolor": "white",
            "ticks": ""
           },
           "bgcolor": "#E5ECF6",
           "radialaxis": {
            "gridcolor": "white",
            "linecolor": "white",
            "ticks": ""
           }
          },
          "scene": {
           "xaxis": {
            "backgroundcolor": "#E5ECF6",
            "gridcolor": "white",
            "gridwidth": 2,
            "linecolor": "white",
            "showbackground": true,
            "ticks": "",
            "zerolinecolor": "white"
           },
           "yaxis": {
            "backgroundcolor": "#E5ECF6",
            "gridcolor": "white",
            "gridwidth": 2,
            "linecolor": "white",
            "showbackground": true,
            "ticks": "",
            "zerolinecolor": "white"
           },
           "zaxis": {
            "backgroundcolor": "#E5ECF6",
            "gridcolor": "white",
            "gridwidth": 2,
            "linecolor": "white",
            "showbackground": true,
            "ticks": "",
            "zerolinecolor": "white"
           }
          },
          "shapedefaults": {
           "line": {
            "color": "#2a3f5f"
           }
          },
          "ternary": {
           "aaxis": {
            "gridcolor": "white",
            "linecolor": "white",
            "ticks": ""
           },
           "baxis": {
            "gridcolor": "white",
            "linecolor": "white",
            "ticks": ""
           },
           "bgcolor": "#E5ECF6",
           "caxis": {
            "gridcolor": "white",
            "linecolor": "white",
            "ticks": ""
           }
          },
          "title": {
           "x": 0.05
          },
          "xaxis": {
           "automargin": true,
           "gridcolor": "white",
           "linecolor": "white",
           "ticks": "",
           "title": {
            "standoff": 15
           },
           "zerolinecolor": "white",
           "zerolinewidth": 2
          },
          "yaxis": {
           "automargin": true,
           "gridcolor": "white",
           "linecolor": "white",
           "ticks": "",
           "title": {
            "standoff": 15
           },
           "zerolinecolor": "white",
           "zerolinewidth": 2
          }
         }
        },
        "xaxis": {
         "title": {
          "text": "Time "
         }
        },
        "yaxis": {
         "title": {
          "text": "pm2_5"
         }
        }
       }
      }
     },
     "metadata": {},
     "output_type": "display_data"
    }
   ],
   "source": [
    "graphe_capteurs(df=df_capteur_entreprise)"
   ]
  },
  {
   "cell_type": "code",
   "execution_count": 12,
   "metadata": {},
   "outputs": [
    {
     "data": {
      "application/vnd.plotly.v1+json": {
       "config": {
        "plotlyServerURL": "https://plot.ly"
       },
       "data": [
        {
         "mode": "lines",
         "name": "866356067393040",
         "type": "scatter",
         "x": [
          "2024-03-28T09:55:52+01:00",
          "2024-03-28T09:57:53+01:00",
          "2024-03-28T09:59:52+01:00",
          "2024-03-28T10:01:53+01:00",
          "2024-03-28T10:03:52+01:00",
          "2024-03-28T10:05:53+01:00",
          "2024-03-28T10:07:53+01:00",
          "2024-03-28T10:09:53+01:00",
          "2024-03-28T10:11:52+01:00",
          "2024-03-28T10:13:52+01:00",
          "2024-03-28T10:15:53+01:00",
          "2024-03-28T10:17:53+01:00",
          "2024-03-28T10:19:52+01:00",
          "2024-03-28T10:21:53+01:00",
          "2024-03-28T10:23:52+01:00",
          "2024-03-28T10:25:52+01:00",
          "2024-03-28T10:27:53+01:00",
          "2024-03-28T10:29:53+01:00",
          "2024-03-28T10:31:52+01:00",
          "2024-03-28T10:33:52+01:00",
          "2024-03-28T10:35:52+01:00",
          "2024-03-28T10:37:52+01:00",
          "2024-03-28T10:39:52+01:00",
          "2024-03-28T10:52:50+01:00",
          "2024-03-28T10:54:56+01:00",
          "2024-03-28T10:56:50+01:00",
          "2024-03-28T10:58:50+01:00",
          "2024-03-28T11:00:50+01:00",
          "2024-03-28T11:02:50+01:00",
          "2024-03-28T11:04:50+01:00",
          "2024-03-28T11:06:50+01:00",
          "2024-03-28T11:08:50+01:00",
          "2024-03-28T11:10:50+01:00",
          "2024-03-28T11:12:50+01:00",
          "2024-03-28T11:14:50+01:00",
          "2024-03-28T11:16:50+01:00",
          "2024-03-28T11:18:53+01:00",
          "2024-03-28T11:20:50+01:00",
          "2024-03-28T11:22:50+01:00",
          "2024-03-28T11:24:50+01:00",
          "2024-03-28T11:26:50+01:00",
          "2024-03-28T11:28:50+01:00",
          "2024-03-28T11:30:50+01:00",
          "2024-03-28T11:32:50+01:00",
          "2024-03-28T11:34:50+01:00",
          "2024-03-28T11:36:50+01:00",
          "2024-03-28T11:38:50+01:00",
          "2024-03-28T11:40:50+01:00",
          "2024-03-28T11:42:50+01:00",
          "2024-03-28T11:44:50+01:00",
          "2024-03-28T11:46:50+01:00",
          "2024-03-28T11:48:50+01:00",
          "2024-03-28T11:50:50+01:00",
          "2024-03-28T11:52:50+01:00",
          "2024-03-28T11:54:50+01:00",
          "2024-03-28T11:56:50+01:00",
          "2024-03-28T11:58:50+01:00",
          "2024-03-28T12:00:50+01:00",
          "2024-03-28T12:02:50+01:00",
          "2024-03-28T12:04:50+01:00",
          "2024-03-28T12:06:50+01:00",
          "2024-03-28T12:08:50+01:00",
          "2024-03-28T12:10:50+01:00",
          "2024-03-28T12:12:50+01:00",
          "2024-03-28T12:14:50+01:00",
          "2024-03-28T12:16:51+01:00",
          "2024-03-28T12:18:50+01:00",
          "2024-03-28T12:20:50+01:00",
          "2024-03-28T12:22:50+01:00",
          "2024-03-28T12:24:53+01:00",
          "2024-03-28T12:26:50+01:00",
          "2024-03-28T12:28:50+01:00",
          "2024-03-28T12:30:50+01:00",
          "2024-03-28T12:32:50+01:00",
          "2024-03-28T12:34:50+01:00",
          "2024-03-28T12:36:50+01:00",
          "2024-03-28T12:38:50+01:00",
          "2024-03-28T12:40:50+01:00",
          "2024-03-28T12:42:50+01:00",
          "2024-03-28T12:44:50+01:00",
          "2024-03-28T12:46:51+01:00",
          "2024-03-28T12:48:50+01:00",
          "2024-03-28T12:50:50+01:00",
          "2024-03-28T12:52:50+01:00",
          "2024-03-28T12:54:50+01:00",
          "2024-03-28T12:56:50+01:00",
          "2024-03-28T12:58:50+01:00",
          "2024-03-28T13:00:51+01:00",
          "2024-03-28T13:02:50+01:00",
          "2024-03-28T13:04:50+01:00",
          "2024-03-28T13:06:50+01:00",
          "2024-03-28T13:08:50+01:00",
          "2024-03-28T13:10:50+01:00",
          "2024-03-28T13:12:50+01:00",
          "2024-03-28T13:14:50+01:00",
          "2024-03-28T13:16:50+01:00",
          "2024-03-28T13:18:50+01:00",
          "2024-03-28T13:20:50+01:00",
          "2024-03-28T13:22:51+01:00",
          "2024-03-28T13:24:50+01:00",
          "2024-03-28T13:26:50+01:00",
          "2024-03-28T13:28:50+01:00",
          "2024-03-28T13:30:50+01:00",
          "2024-03-28T13:32:51+01:00",
          "2024-03-28T13:34:50+01:00",
          "2024-03-28T13:36:50+01:00",
          "2024-03-28T13:38:53+01:00",
          "2024-03-28T13:40:50+01:00",
          "2024-03-28T13:42:50+01:00",
          "2024-03-28T13:44:50+01:00",
          "2024-03-28T13:46:50+01:00",
          "2024-03-28T13:48:50+01:00",
          "2024-03-28T13:50:50+01:00",
          "2024-03-28T13:52:50+01:00",
          "2024-03-28T13:54:50+01:00",
          "2024-03-28T13:56:51+01:00",
          "2024-03-28T13:58:50+01:00",
          "2024-03-28T14:00:50+01:00"
         ],
         "y": [
          0,
          0,
          0,
          0,
          0,
          0,
          0,
          0,
          0,
          0,
          0,
          0,
          0,
          0,
          0,
          0,
          0,
          0,
          0,
          0,
          0,
          0,
          0,
          0,
          0,
          0,
          0,
          0,
          0,
          0,
          0,
          0,
          0,
          0,
          0,
          0,
          0,
          0,
          0,
          0,
          0,
          1,
          1,
          1,
          0,
          0,
          0,
          0,
          0,
          0,
          0,
          0,
          0,
          1,
          1,
          1,
          0,
          0,
          0,
          0,
          0,
          0,
          0,
          0,
          0,
          0,
          0,
          1,
          1,
          1,
          1,
          1,
          0,
          0,
          0,
          0,
          1,
          1,
          0,
          0,
          0,
          0,
          0,
          1,
          1,
          1,
          0,
          0,
          0,
          0,
          0,
          0,
          0,
          0,
          0,
          0,
          0,
          0,
          0,
          1,
          1,
          0,
          0,
          1,
          1,
          0,
          0,
          1,
          1,
          0,
          0,
          0,
          0,
          0,
          0,
          0,
          0,
          0
         ]
        },
        {
         "mode": "lines",
         "name": "866833046777873",
         "type": "scatter",
         "x": [
          "2024-03-28T09:57:16+01:00",
          "2024-03-28T09:59:16+01:00",
          "2024-03-28T10:01:15+01:00",
          "2024-03-28T10:03:16+01:00",
          "2024-03-28T10:05:16+01:00",
          "2024-03-28T10:07:16+01:00",
          "2024-03-28T10:09:16+01:00",
          "2024-03-28T10:11:15+01:00",
          "2024-03-28T10:13:16+01:00",
          "2024-03-28T10:15:16+01:00",
          "2024-03-28T10:17:16+01:00",
          "2024-03-28T10:19:15+01:00",
          "2024-03-28T10:21:16+01:00",
          "2024-03-28T10:23:15+01:00",
          "2024-03-28T10:25:15+01:00",
          "2024-03-28T10:27:15+01:00",
          "2024-03-28T10:29:15+01:00",
          "2024-03-28T10:31:15+01:00",
          "2024-03-28T10:33:15+01:00",
          "2024-03-28T10:35:16+01:00",
          "2024-03-28T10:37:16+01:00",
          "2024-03-28T10:39:16+01:00",
          "2024-03-28T10:41:15+01:00",
          "2024-03-28T10:47:57+01:00",
          "2024-03-28T10:49:57+01:00",
          "2024-03-28T10:51:57+01:00",
          "2024-03-28T10:53:57+01:00",
          "2024-03-28T10:55:57+01:00",
          "2024-03-28T10:57:57+01:00",
          "2024-03-28T10:59:57+01:00",
          "2024-03-28T11:01:57+01:00",
          "2024-03-28T11:03:57+01:00",
          "2024-03-28T11:05:57+01:00",
          "2024-03-28T11:07:57+01:00",
          "2024-03-28T11:09:57+01:00",
          "2024-03-28T11:11:57+01:00",
          "2024-03-28T11:13:57+01:00",
          "2024-03-28T11:15:57+01:00",
          "2024-03-28T11:17:57+01:00",
          "2024-03-28T11:19:57+01:00",
          "2024-03-28T11:21:57+01:00",
          "2024-03-28T11:23:57+01:00",
          "2024-03-28T11:25:57+01:00",
          "2024-03-28T11:27:57+01:00",
          "2024-03-28T11:29:57+01:00",
          "2024-03-28T11:31:57+01:00",
          "2024-03-28T11:33:57+01:00",
          "2024-03-28T11:35:57+01:00",
          "2024-03-28T11:37:57+01:00",
          "2024-03-28T11:39:57+01:00",
          "2024-03-28T11:41:57+01:00",
          "2024-03-28T11:43:57+01:00",
          "2024-03-28T11:45:57+01:00",
          "2024-03-28T11:47:57+01:00",
          "2024-03-28T11:49:57+01:00",
          "2024-03-28T11:51:57+01:00",
          "2024-03-28T11:53:57+01:00",
          "2024-03-28T11:55:57+01:00",
          "2024-03-28T11:57:57+01:00",
          "2024-03-28T11:59:57+01:00",
          "2024-03-28T12:01:57+01:00",
          "2024-03-28T12:03:57+01:00",
          "2024-03-28T12:05:57+01:00",
          "2024-03-28T12:07:57+01:00",
          "2024-03-28T12:09:57+01:00",
          "2024-03-28T12:11:57+01:00",
          "2024-03-28T12:13:57+01:00",
          "2024-03-28T12:15:57+01:00",
          "2024-03-28T12:17:57+01:00",
          "2024-03-28T12:19:57+01:00",
          "2024-03-28T12:21:57+01:00",
          "2024-03-28T12:23:57+01:00",
          "2024-03-28T12:25:57+01:00",
          "2024-03-28T12:27:57+01:00",
          "2024-03-28T12:29:57+01:00",
          "2024-03-28T12:31:57+01:00",
          "2024-03-28T12:33:57+01:00",
          "2024-03-28T12:35:57+01:00",
          "2024-03-28T12:37:57+01:00",
          "2024-03-28T12:39:57+01:00",
          "2024-03-28T12:41:57+01:00",
          "2024-03-28T12:43:57+01:00",
          "2024-03-28T12:45:57+01:00",
          "2024-03-28T12:47:57+01:00",
          "2024-03-28T12:49:57+01:00",
          "2024-03-28T12:51:57+01:00",
          "2024-03-28T12:53:57+01:00",
          "2024-03-28T12:55:57+01:00",
          "2024-03-28T12:57:57+01:00",
          "2024-03-28T12:59:57+01:00",
          "2024-03-28T13:01:57+01:00",
          "2024-03-28T13:03:57+01:00",
          "2024-03-28T13:05:57+01:00",
          "2024-03-28T13:07:57+01:00",
          "2024-03-28T13:09:57+01:00",
          "2024-03-28T13:11:57+01:00",
          "2024-03-28T13:13:57+01:00",
          "2024-03-28T13:15:57+01:00",
          "2024-03-28T13:17:57+01:00",
          "2024-03-28T13:19:57+01:00",
          "2024-03-28T13:21:56+01:00",
          "2024-03-28T13:23:57+01:00",
          "2024-03-28T13:25:57+01:00",
          "2024-03-28T13:27:56+01:00",
          "2024-03-28T13:29:57+01:00",
          "2024-03-28T13:31:57+01:00",
          "2024-03-28T13:33:56+01:00",
          "2024-03-28T13:36:01+01:00",
          "2024-03-28T13:37:57+01:00",
          "2024-03-28T13:39:57+01:00",
          "2024-03-28T13:41:57+01:00",
          "2024-03-28T13:43:56+01:00",
          "2024-03-28T13:45:57+01:00",
          "2024-03-28T13:47:56+01:00",
          "2024-03-28T13:49:56+01:00",
          "2024-03-28T13:51:57+01:00",
          "2024-03-28T13:53:57+01:00",
          "2024-03-28T13:55:56+01:00",
          "2024-03-28T13:57:56+01:00",
          "2024-03-28T13:59:56+01:00"
         ],
         "y": [
          0,
          0,
          0,
          0,
          0,
          0,
          0,
          0,
          0,
          0,
          0,
          0,
          0,
          0,
          0,
          0,
          0,
          0,
          0,
          0,
          0,
          0,
          0,
          0,
          0,
          0,
          0,
          0,
          0,
          0,
          0,
          0,
          0,
          0,
          0,
          0,
          0,
          0,
          0,
          0,
          0,
          0,
          0,
          0,
          1,
          1,
          0,
          0,
          0,
          0,
          0,
          0,
          0,
          0,
          0,
          0,
          1,
          1,
          0,
          0,
          0,
          0,
          0,
          0,
          0,
          0,
          0,
          0,
          0,
          1,
          1,
          1,
          1,
          1,
          1,
          0,
          0,
          0,
          1,
          1,
          1,
          0,
          0,
          0,
          0,
          1,
          1,
          1,
          1,
          0,
          0,
          0,
          0,
          0,
          0,
          0,
          0,
          0,
          0,
          0,
          0,
          1,
          1,
          1,
          0,
          1,
          1,
          1,
          0,
          1,
          1,
          1,
          0,
          0,
          0,
          0,
          0,
          0,
          0,
          0
         ]
        },
        {
         "mode": "lines",
         "name": "866833046778889",
         "type": "scatter",
         "x": [
          "2024-03-28T09:55:15+01:00",
          "2024-03-28T09:57:15+01:00",
          "2024-03-28T09:59:15+01:00",
          "2024-03-28T10:01:15+01:00",
          "2024-03-28T10:03:15+01:00",
          "2024-03-28T10:05:19+01:00",
          "2024-03-28T10:07:15+01:00",
          "2024-03-28T10:09:15+01:00",
          "2024-03-28T10:11:15+01:00",
          "2024-03-28T10:13:15+01:00",
          "2024-03-28T10:15:15+01:00",
          "2024-03-28T10:17:15+01:00",
          "2024-03-28T10:19:15+01:00",
          "2024-03-28T10:21:15+01:00",
          "2024-03-28T10:23:15+01:00",
          "2024-03-28T10:25:15+01:00",
          "2024-03-28T10:27:15+01:00",
          "2024-03-28T10:29:15+01:00",
          "2024-03-28T10:31:15+01:00",
          "2024-03-28T10:33:15+01:00",
          "2024-03-28T10:35:15+01:00",
          "2024-03-28T10:37:19+01:00",
          "2024-03-28T10:39:15+01:00",
          "2024-03-28T10:52:45+01:00",
          "2024-03-28T10:54:45+01:00",
          "2024-03-28T10:56:45+01:00",
          "2024-03-28T10:58:45+01:00",
          "2024-03-28T11:00:45+01:00",
          "2024-03-28T11:02:45+01:00",
          "2024-03-28T11:04:45+01:00",
          "2024-03-28T11:06:45+01:00",
          "2024-03-28T11:08:45+01:00",
          "2024-03-28T11:10:45+01:00",
          "2024-03-28T11:12:45+01:00",
          "2024-03-28T11:14:45+01:00",
          "2024-03-28T11:16:45+01:00",
          "2024-03-28T11:18:45+01:00",
          "2024-03-28T11:20:45+01:00",
          "2024-03-28T11:22:45+01:00",
          "2024-03-28T11:24:45+01:00",
          "2024-03-28T11:26:45+01:00",
          "2024-03-28T11:28:45+01:00",
          "2024-03-28T11:30:45+01:00",
          "2024-03-28T11:32:45+01:00",
          "2024-03-28T11:34:45+01:00",
          "2024-03-28T11:36:45+01:00",
          "2024-03-28T11:38:45+01:00",
          "2024-03-28T11:40:45+01:00",
          "2024-03-28T11:42:46+01:00",
          "2024-03-28T11:44:45+01:00",
          "2024-03-28T11:46:45+01:00",
          "2024-03-28T11:48:45+01:00",
          "2024-03-28T11:50:45+01:00",
          "2024-03-28T11:52:45+01:00",
          "2024-03-28T11:54:45+01:00",
          "2024-03-28T11:56:45+01:00",
          "2024-03-28T11:58:45+01:00",
          "2024-03-28T12:00:45+01:00",
          "2024-03-28T12:02:45+01:00",
          "2024-03-28T12:04:45+01:00",
          "2024-03-28T12:06:45+01:00",
          "2024-03-28T12:08:45+01:00",
          "2024-03-28T12:10:45+01:00",
          "2024-03-28T12:12:45+01:00",
          "2024-03-28T12:14:45+01:00",
          "2024-03-28T12:16:45+01:00",
          "2024-03-28T12:18:46+01:00",
          "2024-03-28T12:20:45+01:00",
          "2024-03-28T12:22:45+01:00",
          "2024-03-28T12:24:48+01:00",
          "2024-03-28T12:26:45+01:00",
          "2024-03-28T12:28:45+01:00",
          "2024-03-28T12:30:45+01:00",
          "2024-03-28T12:32:45+01:00",
          "2024-03-28T12:34:45+01:00",
          "2024-03-28T12:36:45+01:00",
          "2024-03-28T12:38:45+01:00",
          "2024-03-28T12:40:45+01:00",
          "2024-03-28T12:42:45+01:00",
          "2024-03-28T12:44:45+01:00",
          "2024-03-28T12:46:45+01:00",
          "2024-03-28T12:48:45+01:00",
          "2024-03-28T12:50:45+01:00",
          "2024-03-28T12:52:45+01:00",
          "2024-03-28T12:54:45+01:00",
          "2024-03-28T12:56:45+01:00",
          "2024-03-28T12:58:45+01:00",
          "2024-03-28T13:00:44+01:00",
          "2024-03-28T13:02:44+01:00",
          "2024-03-28T13:04:44+01:00",
          "2024-03-28T13:06:45+01:00",
          "2024-03-28T13:08:45+01:00",
          "2024-03-28T13:10:45+01:00",
          "2024-03-28T13:12:44+01:00",
          "2024-03-28T13:14:44+01:00",
          "2024-03-28T13:16:44+01:00",
          "2024-03-28T13:18:45+01:00",
          "2024-03-28T13:20:44+01:00",
          "2024-03-28T13:22:45+01:00",
          "2024-03-28T13:24:45+01:00",
          "2024-03-28T13:26:45+01:00",
          "2024-03-28T13:28:44+01:00",
          "2024-03-28T13:30:44+01:00",
          "2024-03-28T13:32:45+01:00",
          "2024-03-28T13:34:44+01:00",
          "2024-03-28T13:36:45+01:00",
          "2024-03-28T13:38:45+01:00",
          "2024-03-28T13:40:45+01:00",
          "2024-03-28T13:42:45+01:00",
          "2024-03-28T13:44:45+01:00",
          "2024-03-28T13:46:44+01:00",
          "2024-03-28T13:48:44+01:00",
          "2024-03-28T13:50:45+01:00",
          "2024-03-28T13:52:44+01:00",
          "2024-03-28T13:54:44+01:00",
          "2024-03-28T13:56:44+01:00",
          "2024-03-28T13:58:45+01:00",
          "2024-03-28T14:00:44+01:00"
         ],
         "y": [
          0,
          0,
          0,
          0,
          0,
          0,
          0,
          0,
          0,
          0,
          0,
          0,
          0,
          0,
          0,
          0,
          0,
          0,
          0,
          0,
          0,
          0,
          0,
          0,
          0,
          0,
          0,
          0,
          0,
          0,
          0,
          0,
          0,
          0,
          0,
          0,
          0,
          0,
          0,
          0,
          0,
          1,
          1,
          1,
          0,
          0,
          0,
          0,
          0,
          0,
          0,
          0,
          0,
          1,
          1,
          1,
          0,
          0,
          0,
          0,
          0,
          0,
          0,
          0,
          0,
          0,
          0,
          1,
          1,
          1,
          1,
          1,
          0,
          0,
          0,
          0,
          1,
          1,
          0,
          0,
          0,
          0,
          0,
          1,
          1,
          1,
          0,
          0,
          0,
          0,
          0,
          0,
          0,
          0,
          0,
          0,
          0,
          0,
          0,
          1,
          1,
          0,
          0,
          1,
          1,
          0,
          0,
          1,
          1,
          0,
          0,
          0,
          0,
          0,
          0,
          0,
          0,
          0
         ]
        },
        {
         "mode": "lines",
         "name": "866833046798499",
         "type": "scatter",
         "x": [
          "2024-03-28T09:55:18+01:00",
          "2024-03-28T09:57:18+01:00",
          "2024-03-28T09:59:19+01:00",
          "2024-03-28T10:01:19+01:00",
          "2024-03-28T10:03:18+01:00",
          "2024-03-28T10:06:30+01:00",
          "2024-03-28T10:08:31+01:00",
          "2024-03-28T10:10:34+01:00",
          "2024-03-28T10:12:31+01:00",
          "2024-03-28T10:14:31+01:00",
          "2024-03-28T10:16:31+01:00",
          "2024-03-28T10:18:31+01:00",
          "2024-03-28T10:20:31+01:00",
          "2024-03-28T10:22:31+01:00",
          "2024-03-28T10:24:31+01:00",
          "2024-03-28T10:26:31+01:00",
          "2024-03-28T10:28:31+01:00",
          "2024-03-28T10:30:31+01:00",
          "2024-03-28T10:32:32+01:00",
          "2024-03-28T10:34:31+01:00",
          "2024-03-28T10:36:31+01:00",
          "2024-03-28T10:38:30+01:00",
          "2024-03-28T10:40:30+01:00",
          "2024-03-28T10:48:04+01:00",
          "2024-03-28T10:50:04+01:00",
          "2024-03-28T10:52:04+01:00",
          "2024-03-28T10:54:04+01:00",
          "2024-03-28T10:56:04+01:00",
          "2024-03-28T10:58:04+01:00",
          "2024-03-28T11:00:04+01:00",
          "2024-03-28T11:02:04+01:00",
          "2024-03-28T11:04:04+01:00",
          "2024-03-28T11:06:04+01:00",
          "2024-03-28T11:08:04+01:00",
          "2024-03-28T11:10:04+01:00",
          "2024-03-28T11:12:04+01:00",
          "2024-03-28T11:14:04+01:00",
          "2024-03-28T11:16:04+01:00",
          "2024-03-28T11:18:04+01:00",
          "2024-03-28T11:20:04+01:00",
          "2024-03-28T11:22:04+01:00",
          "2024-03-28T11:24:04+01:00",
          "2024-03-28T11:26:04+01:00",
          "2024-03-28T11:28:05+01:00",
          "2024-03-28T11:30:04+01:00",
          "2024-03-28T11:32:04+01:00",
          "2024-03-28T11:34:04+01:00",
          "2024-03-28T11:36:04+01:00",
          "2024-03-28T11:38:04+01:00",
          "2024-03-28T11:40:04+01:00",
          "2024-03-28T11:42:04+01:00",
          "2024-03-28T11:44:04+01:00",
          "2024-03-28T11:46:04+01:00",
          "2024-03-28T11:48:04+01:00",
          "2024-03-28T11:50:04+01:00",
          "2024-03-28T11:52:07+01:00",
          "2024-03-28T11:54:04+01:00",
          "2024-03-28T11:56:04+01:00",
          "2024-03-28T11:58:04+01:00",
          "2024-03-28T12:00:04+01:00",
          "2024-03-28T12:02:04+01:00",
          "2024-03-28T12:04:04+01:00",
          "2024-03-28T12:06:04+01:00",
          "2024-03-28T12:08:04+01:00",
          "2024-03-28T12:10:04+01:00",
          "2024-03-28T12:12:04+01:00",
          "2024-03-28T12:14:04+01:00",
          "2024-03-28T12:16:04+01:00",
          "2024-03-28T12:18:04+01:00",
          "2024-03-28T12:20:04+01:00",
          "2024-03-28T12:22:04+01:00",
          "2024-03-28T12:24:04+01:00",
          "2024-03-28T12:26:04+01:00",
          "2024-03-28T12:28:04+01:00",
          "2024-03-28T12:30:04+01:00",
          "2024-03-28T12:32:04+01:00",
          "2024-03-28T12:34:04+01:00",
          "2024-03-28T12:36:04+01:00",
          "2024-03-28T12:38:04+01:00",
          "2024-03-28T12:40:04+01:00",
          "2024-03-28T12:42:04+01:00",
          "2024-03-28T12:44:04+01:00",
          "2024-03-28T12:46:04+01:00",
          "2024-03-28T12:48:04+01:00",
          "2024-03-28T12:50:04+01:00",
          "2024-03-28T12:52:07+01:00",
          "2024-03-28T12:54:04+01:00",
          "2024-03-28T12:56:07+01:00",
          "2024-03-28T12:58:04+01:00",
          "2024-03-28T13:00:04+01:00",
          "2024-03-28T13:02:04+01:00",
          "2024-03-28T13:04:04+01:00",
          "2024-03-28T13:06:04+01:00",
          "2024-03-28T13:08:04+01:00",
          "2024-03-28T13:10:04+01:00",
          "2024-03-28T13:12:04+01:00",
          "2024-03-28T13:14:04+01:00",
          "2024-03-28T13:16:04+01:00",
          "2024-03-28T13:18:04+01:00",
          "2024-03-28T13:20:04+01:00",
          "2024-03-28T13:22:04+01:00",
          "2024-03-28T13:24:04+01:00",
          "2024-03-28T13:26:04+01:00",
          "2024-03-28T13:28:04+01:00",
          "2024-03-28T13:30:04+01:00",
          "2024-03-28T13:32:04+01:00",
          "2024-03-28T13:34:04+01:00",
          "2024-03-28T13:36:04+01:00",
          "2024-03-28T13:38:04+01:00",
          "2024-03-28T13:40:04+01:00",
          "2024-03-28T13:42:04+01:00",
          "2024-03-28T13:44:04+01:00",
          "2024-03-28T13:46:04+01:00",
          "2024-03-28T13:48:04+01:00",
          "2024-03-28T13:50:04+01:00",
          "2024-03-28T13:52:04+01:00",
          "2024-03-28T13:54:04+01:00",
          "2024-03-28T13:56:04+01:00",
          "2024-03-28T13:58:04+01:00",
          "2024-03-28T14:00:04+01:00"
         ],
         "y": [
          0,
          0,
          0,
          0,
          0,
          0,
          0,
          0,
          0,
          0,
          0,
          0,
          0,
          0,
          0,
          0,
          0,
          0,
          0,
          0,
          0,
          0,
          0,
          0,
          0,
          0,
          0,
          0,
          0,
          0,
          0,
          0,
          0,
          0,
          0,
          0,
          0,
          0,
          0,
          0,
          0,
          0,
          0,
          0,
          1,
          1,
          0,
          0,
          0,
          0,
          0,
          0,
          0,
          0,
          0,
          0,
          1,
          1,
          0,
          0,
          0,
          0,
          0,
          0,
          0,
          0,
          0,
          0,
          0,
          1,
          1,
          1,
          1,
          1,
          1,
          0,
          0,
          0,
          1,
          1,
          1,
          0,
          0,
          0,
          0,
          1,
          1,
          1,
          1,
          0,
          0,
          0,
          0,
          0,
          0,
          0,
          0,
          0,
          0,
          0,
          0,
          1,
          1,
          1,
          0,
          1,
          1,
          1,
          0,
          1,
          1,
          1,
          0,
          0,
          0,
          0,
          0,
          0,
          0,
          0
         ]
        }
       ],
       "layout": {
        "legend": {
         "title": {
          "text": "1 passage(s) vs time "
         }
        },
        "template": {
         "data": {
          "bar": [
           {
            "error_x": {
             "color": "#2a3f5f"
            },
            "error_y": {
             "color": "#2a3f5f"
            },
            "marker": {
             "line": {
              "color": "#E5ECF6",
              "width": 0.5
             },
             "pattern": {
              "fillmode": "overlay",
              "size": 10,
              "solidity": 0.2
             }
            },
            "type": "bar"
           }
          ],
          "barpolar": [
           {
            "marker": {
             "line": {
              "color": "#E5ECF6",
              "width": 0.5
             },
             "pattern": {
              "fillmode": "overlay",
              "size": 10,
              "solidity": 0.2
             }
            },
            "type": "barpolar"
           }
          ],
          "carpet": [
           {
            "aaxis": {
             "endlinecolor": "#2a3f5f",
             "gridcolor": "white",
             "linecolor": "white",
             "minorgridcolor": "white",
             "startlinecolor": "#2a3f5f"
            },
            "baxis": {
             "endlinecolor": "#2a3f5f",
             "gridcolor": "white",
             "linecolor": "white",
             "minorgridcolor": "white",
             "startlinecolor": "#2a3f5f"
            },
            "type": "carpet"
           }
          ],
          "choropleth": [
           {
            "colorbar": {
             "outlinewidth": 0,
             "ticks": ""
            },
            "type": "choropleth"
           }
          ],
          "contour": [
           {
            "colorbar": {
             "outlinewidth": 0,
             "ticks": ""
            },
            "colorscale": [
             [
              0,
              "#0d0887"
             ],
             [
              0.1111111111111111,
              "#46039f"
             ],
             [
              0.2222222222222222,
              "#7201a8"
             ],
             [
              0.3333333333333333,
              "#9c179e"
             ],
             [
              0.4444444444444444,
              "#bd3786"
             ],
             [
              0.5555555555555556,
              "#d8576b"
             ],
             [
              0.6666666666666666,
              "#ed7953"
             ],
             [
              0.7777777777777778,
              "#fb9f3a"
             ],
             [
              0.8888888888888888,
              "#fdca26"
             ],
             [
              1,
              "#f0f921"
             ]
            ],
            "type": "contour"
           }
          ],
          "contourcarpet": [
           {
            "colorbar": {
             "outlinewidth": 0,
             "ticks": ""
            },
            "type": "contourcarpet"
           }
          ],
          "heatmap": [
           {
            "colorbar": {
             "outlinewidth": 0,
             "ticks": ""
            },
            "colorscale": [
             [
              0,
              "#0d0887"
             ],
             [
              0.1111111111111111,
              "#46039f"
             ],
             [
              0.2222222222222222,
              "#7201a8"
             ],
             [
              0.3333333333333333,
              "#9c179e"
             ],
             [
              0.4444444444444444,
              "#bd3786"
             ],
             [
              0.5555555555555556,
              "#d8576b"
             ],
             [
              0.6666666666666666,
              "#ed7953"
             ],
             [
              0.7777777777777778,
              "#fb9f3a"
             ],
             [
              0.8888888888888888,
              "#fdca26"
             ],
             [
              1,
              "#f0f921"
             ]
            ],
            "type": "heatmap"
           }
          ],
          "heatmapgl": [
           {
            "colorbar": {
             "outlinewidth": 0,
             "ticks": ""
            },
            "colorscale": [
             [
              0,
              "#0d0887"
             ],
             [
              0.1111111111111111,
              "#46039f"
             ],
             [
              0.2222222222222222,
              "#7201a8"
             ],
             [
              0.3333333333333333,
              "#9c179e"
             ],
             [
              0.4444444444444444,
              "#bd3786"
             ],
             [
              0.5555555555555556,
              "#d8576b"
             ],
             [
              0.6666666666666666,
              "#ed7953"
             ],
             [
              0.7777777777777778,
              "#fb9f3a"
             ],
             [
              0.8888888888888888,
              "#fdca26"
             ],
             [
              1,
              "#f0f921"
             ]
            ],
            "type": "heatmapgl"
           }
          ],
          "histogram": [
           {
            "marker": {
             "pattern": {
              "fillmode": "overlay",
              "size": 10,
              "solidity": 0.2
             }
            },
            "type": "histogram"
           }
          ],
          "histogram2d": [
           {
            "colorbar": {
             "outlinewidth": 0,
             "ticks": ""
            },
            "colorscale": [
             [
              0,
              "#0d0887"
             ],
             [
              0.1111111111111111,
              "#46039f"
             ],
             [
              0.2222222222222222,
              "#7201a8"
             ],
             [
              0.3333333333333333,
              "#9c179e"
             ],
             [
              0.4444444444444444,
              "#bd3786"
             ],
             [
              0.5555555555555556,
              "#d8576b"
             ],
             [
              0.6666666666666666,
              "#ed7953"
             ],
             [
              0.7777777777777778,
              "#fb9f3a"
             ],
             [
              0.8888888888888888,
              "#fdca26"
             ],
             [
              1,
              "#f0f921"
             ]
            ],
            "type": "histogram2d"
           }
          ],
          "histogram2dcontour": [
           {
            "colorbar": {
             "outlinewidth": 0,
             "ticks": ""
            },
            "colorscale": [
             [
              0,
              "#0d0887"
             ],
             [
              0.1111111111111111,
              "#46039f"
             ],
             [
              0.2222222222222222,
              "#7201a8"
             ],
             [
              0.3333333333333333,
              "#9c179e"
             ],
             [
              0.4444444444444444,
              "#bd3786"
             ],
             [
              0.5555555555555556,
              "#d8576b"
             ],
             [
              0.6666666666666666,
              "#ed7953"
             ],
             [
              0.7777777777777778,
              "#fb9f3a"
             ],
             [
              0.8888888888888888,
              "#fdca26"
             ],
             [
              1,
              "#f0f921"
             ]
            ],
            "type": "histogram2dcontour"
           }
          ],
          "mesh3d": [
           {
            "colorbar": {
             "outlinewidth": 0,
             "ticks": ""
            },
            "type": "mesh3d"
           }
          ],
          "parcoords": [
           {
            "line": {
             "colorbar": {
              "outlinewidth": 0,
              "ticks": ""
             }
            },
            "type": "parcoords"
           }
          ],
          "pie": [
           {
            "automargin": true,
            "type": "pie"
           }
          ],
          "scatter": [
           {
            "fillpattern": {
             "fillmode": "overlay",
             "size": 10,
             "solidity": 0.2
            },
            "type": "scatter"
           }
          ],
          "scatter3d": [
           {
            "line": {
             "colorbar": {
              "outlinewidth": 0,
              "ticks": ""
             }
            },
            "marker": {
             "colorbar": {
              "outlinewidth": 0,
              "ticks": ""
             }
            },
            "type": "scatter3d"
           }
          ],
          "scattercarpet": [
           {
            "marker": {
             "colorbar": {
              "outlinewidth": 0,
              "ticks": ""
             }
            },
            "type": "scattercarpet"
           }
          ],
          "scattergeo": [
           {
            "marker": {
             "colorbar": {
              "outlinewidth": 0,
              "ticks": ""
             }
            },
            "type": "scattergeo"
           }
          ],
          "scattergl": [
           {
            "marker": {
             "colorbar": {
              "outlinewidth": 0,
              "ticks": ""
             }
            },
            "type": "scattergl"
           }
          ],
          "scattermapbox": [
           {
            "marker": {
             "colorbar": {
              "outlinewidth": 0,
              "ticks": ""
             }
            },
            "type": "scattermapbox"
           }
          ],
          "scatterpolar": [
           {
            "marker": {
             "colorbar": {
              "outlinewidth": 0,
              "ticks": ""
             }
            },
            "type": "scatterpolar"
           }
          ],
          "scatterpolargl": [
           {
            "marker": {
             "colorbar": {
              "outlinewidth": 0,
              "ticks": ""
             }
            },
            "type": "scatterpolargl"
           }
          ],
          "scatterternary": [
           {
            "marker": {
             "colorbar": {
              "outlinewidth": 0,
              "ticks": ""
             }
            },
            "type": "scatterternary"
           }
          ],
          "surface": [
           {
            "colorbar": {
             "outlinewidth": 0,
             "ticks": ""
            },
            "colorscale": [
             [
              0,
              "#0d0887"
             ],
             [
              0.1111111111111111,
              "#46039f"
             ],
             [
              0.2222222222222222,
              "#7201a8"
             ],
             [
              0.3333333333333333,
              "#9c179e"
             ],
             [
              0.4444444444444444,
              "#bd3786"
             ],
             [
              0.5555555555555556,
              "#d8576b"
             ],
             [
              0.6666666666666666,
              "#ed7953"
             ],
             [
              0.7777777777777778,
              "#fb9f3a"
             ],
             [
              0.8888888888888888,
              "#fdca26"
             ],
             [
              1,
              "#f0f921"
             ]
            ],
            "type": "surface"
           }
          ],
          "table": [
           {
            "cells": {
             "fill": {
              "color": "#EBF0F8"
             },
             "line": {
              "color": "white"
             }
            },
            "header": {
             "fill": {
              "color": "#C8D4E3"
             },
             "line": {
              "color": "white"
             }
            },
            "type": "table"
           }
          ]
         },
         "layout": {
          "annotationdefaults": {
           "arrowcolor": "#2a3f5f",
           "arrowhead": 0,
           "arrowwidth": 1
          },
          "autotypenumbers": "strict",
          "coloraxis": {
           "colorbar": {
            "outlinewidth": 0,
            "ticks": ""
           }
          },
          "colorscale": {
           "diverging": [
            [
             0,
             "#8e0152"
            ],
            [
             0.1,
             "#c51b7d"
            ],
            [
             0.2,
             "#de77ae"
            ],
            [
             0.3,
             "#f1b6da"
            ],
            [
             0.4,
             "#fde0ef"
            ],
            [
             0.5,
             "#f7f7f7"
            ],
            [
             0.6,
             "#e6f5d0"
            ],
            [
             0.7,
             "#b8e186"
            ],
            [
             0.8,
             "#7fbc41"
            ],
            [
             0.9,
             "#4d9221"
            ],
            [
             1,
             "#276419"
            ]
           ],
           "sequential": [
            [
             0,
             "#0d0887"
            ],
            [
             0.1111111111111111,
             "#46039f"
            ],
            [
             0.2222222222222222,
             "#7201a8"
            ],
            [
             0.3333333333333333,
             "#9c179e"
            ],
            [
             0.4444444444444444,
             "#bd3786"
            ],
            [
             0.5555555555555556,
             "#d8576b"
            ],
            [
             0.6666666666666666,
             "#ed7953"
            ],
            [
             0.7777777777777778,
             "#fb9f3a"
            ],
            [
             0.8888888888888888,
             "#fdca26"
            ],
            [
             1,
             "#f0f921"
            ]
           ],
           "sequentialminus": [
            [
             0,
             "#0d0887"
            ],
            [
             0.1111111111111111,
             "#46039f"
            ],
            [
             0.2222222222222222,
             "#7201a8"
            ],
            [
             0.3333333333333333,
             "#9c179e"
            ],
            [
             0.4444444444444444,
             "#bd3786"
            ],
            [
             0.5555555555555556,
             "#d8576b"
            ],
            [
             0.6666666666666666,
             "#ed7953"
            ],
            [
             0.7777777777777778,
             "#fb9f3a"
            ],
            [
             0.8888888888888888,
             "#fdca26"
            ],
            [
             1,
             "#f0f921"
            ]
           ]
          },
          "colorway": [
           "#636efa",
           "#EF553B",
           "#00cc96",
           "#ab63fa",
           "#FFA15A",
           "#19d3f3",
           "#FF6692",
           "#B6E880",
           "#FF97FF",
           "#FECB52"
          ],
          "font": {
           "color": "#2a3f5f"
          },
          "geo": {
           "bgcolor": "white",
           "lakecolor": "white",
           "landcolor": "#E5ECF6",
           "showlakes": true,
           "showland": true,
           "subunitcolor": "white"
          },
          "hoverlabel": {
           "align": "left"
          },
          "hovermode": "closest",
          "mapbox": {
           "style": "light"
          },
          "paper_bgcolor": "white",
          "plot_bgcolor": "#E5ECF6",
          "polar": {
           "angularaxis": {
            "gridcolor": "white",
            "linecolor": "white",
            "ticks": ""
           },
           "bgcolor": "#E5ECF6",
           "radialaxis": {
            "gridcolor": "white",
            "linecolor": "white",
            "ticks": ""
           }
          },
          "scene": {
           "xaxis": {
            "backgroundcolor": "#E5ECF6",
            "gridcolor": "white",
            "gridwidth": 2,
            "linecolor": "white",
            "showbackground": true,
            "ticks": "",
            "zerolinecolor": "white"
           },
           "yaxis": {
            "backgroundcolor": "#E5ECF6",
            "gridcolor": "white",
            "gridwidth": 2,
            "linecolor": "white",
            "showbackground": true,
            "ticks": "",
            "zerolinecolor": "white"
           },
           "zaxis": {
            "backgroundcolor": "#E5ECF6",
            "gridcolor": "white",
            "gridwidth": 2,
            "linecolor": "white",
            "showbackground": true,
            "ticks": "",
            "zerolinecolor": "white"
           }
          },
          "shapedefaults": {
           "line": {
            "color": "#2a3f5f"
           }
          },
          "ternary": {
           "aaxis": {
            "gridcolor": "white",
            "linecolor": "white",
            "ticks": ""
           },
           "baxis": {
            "gridcolor": "white",
            "linecolor": "white",
            "ticks": ""
           },
           "bgcolor": "#E5ECF6",
           "caxis": {
            "gridcolor": "white",
            "linecolor": "white",
            "ticks": ""
           }
          },
          "title": {
           "x": 0.05
          },
          "xaxis": {
           "automargin": true,
           "gridcolor": "white",
           "linecolor": "white",
           "ticks": "",
           "title": {
            "standoff": 15
           },
           "zerolinecolor": "white",
           "zerolinewidth": 2
          },
          "yaxis": {
           "automargin": true,
           "gridcolor": "white",
           "linecolor": "white",
           "ticks": "",
           "title": {
            "standoff": 15
           },
           "zerolinecolor": "white",
           "zerolinewidth": 2
          }
         }
        },
        "xaxis": {
         "title": {
          "text": "Time "
         }
        },
        "yaxis": {
         "title": {
          "text": "1 passage(s)"
         }
        }
       }
      }
     },
     "metadata": {},
     "output_type": "display_data"
    }
   ],
   "source": [
    "graphe_capteurs(indicateur=\"1 passage(s)\",df=df_capteur_entreprise)"
   ]
  },
  {
   "cell_type": "code",
   "execution_count": 13,
   "metadata": {},
   "outputs": [
    {
     "data": {
      "application/vnd.plotly.v1+json": {
       "config": {
        "plotlyServerURL": "https://plot.ly"
       },
       "data": [
        {
         "mode": "lines",
         "name": "866356067393040",
         "type": "scatter",
         "x": [
          "2024-03-28T09:55:52+01:00",
          "2024-03-28T09:57:53+01:00",
          "2024-03-28T09:59:52+01:00",
          "2024-03-28T10:01:53+01:00",
          "2024-03-28T10:03:52+01:00",
          "2024-03-28T10:05:53+01:00",
          "2024-03-28T10:07:53+01:00",
          "2024-03-28T10:09:53+01:00",
          "2024-03-28T10:11:52+01:00",
          "2024-03-28T10:13:52+01:00",
          "2024-03-28T10:15:53+01:00",
          "2024-03-28T10:17:53+01:00",
          "2024-03-28T10:19:52+01:00",
          "2024-03-28T10:21:53+01:00",
          "2024-03-28T10:23:52+01:00",
          "2024-03-28T10:25:52+01:00",
          "2024-03-28T10:27:53+01:00",
          "2024-03-28T10:29:53+01:00",
          "2024-03-28T10:31:52+01:00",
          "2024-03-28T10:33:52+01:00",
          "2024-03-28T10:35:52+01:00",
          "2024-03-28T10:37:52+01:00",
          "2024-03-28T10:39:52+01:00",
          "2024-03-28T10:52:50+01:00",
          "2024-03-28T10:54:56+01:00",
          "2024-03-28T10:56:50+01:00",
          "2024-03-28T10:58:50+01:00",
          "2024-03-28T11:00:50+01:00",
          "2024-03-28T11:02:50+01:00",
          "2024-03-28T11:04:50+01:00",
          "2024-03-28T11:06:50+01:00",
          "2024-03-28T11:08:50+01:00",
          "2024-03-28T11:10:50+01:00",
          "2024-03-28T11:12:50+01:00",
          "2024-03-28T11:14:50+01:00",
          "2024-03-28T11:16:50+01:00",
          "2024-03-28T11:18:53+01:00",
          "2024-03-28T11:20:50+01:00",
          "2024-03-28T11:22:50+01:00",
          "2024-03-28T11:24:50+01:00",
          "2024-03-28T11:26:50+01:00",
          "2024-03-28T11:28:50+01:00",
          "2024-03-28T11:30:50+01:00",
          "2024-03-28T11:32:50+01:00",
          "2024-03-28T11:34:50+01:00",
          "2024-03-28T11:36:50+01:00",
          "2024-03-28T11:38:50+01:00",
          "2024-03-28T11:40:50+01:00",
          "2024-03-28T11:42:50+01:00",
          "2024-03-28T11:44:50+01:00",
          "2024-03-28T11:46:50+01:00",
          "2024-03-28T11:48:50+01:00",
          "2024-03-28T11:50:50+01:00",
          "2024-03-28T11:52:50+01:00",
          "2024-03-28T11:54:50+01:00",
          "2024-03-28T11:56:50+01:00",
          "2024-03-28T11:58:50+01:00",
          "2024-03-28T12:00:50+01:00",
          "2024-03-28T12:02:50+01:00",
          "2024-03-28T12:04:50+01:00",
          "2024-03-28T12:06:50+01:00",
          "2024-03-28T12:08:50+01:00",
          "2024-03-28T12:10:50+01:00",
          "2024-03-28T12:12:50+01:00",
          "2024-03-28T12:14:50+01:00",
          "2024-03-28T12:16:51+01:00",
          "2024-03-28T12:18:50+01:00",
          "2024-03-28T12:20:50+01:00",
          "2024-03-28T12:22:50+01:00",
          "2024-03-28T12:24:53+01:00",
          "2024-03-28T12:26:50+01:00",
          "2024-03-28T12:28:50+01:00",
          "2024-03-28T12:30:50+01:00",
          "2024-03-28T12:32:50+01:00",
          "2024-03-28T12:34:50+01:00",
          "2024-03-28T12:36:50+01:00",
          "2024-03-28T12:38:50+01:00",
          "2024-03-28T12:40:50+01:00",
          "2024-03-28T12:42:50+01:00",
          "2024-03-28T12:44:50+01:00",
          "2024-03-28T12:46:51+01:00",
          "2024-03-28T12:48:50+01:00",
          "2024-03-28T12:50:50+01:00",
          "2024-03-28T12:52:50+01:00",
          "2024-03-28T12:54:50+01:00",
          "2024-03-28T12:56:50+01:00",
          "2024-03-28T12:58:50+01:00",
          "2024-03-28T13:00:51+01:00",
          "2024-03-28T13:02:50+01:00",
          "2024-03-28T13:04:50+01:00",
          "2024-03-28T13:06:50+01:00",
          "2024-03-28T13:08:50+01:00",
          "2024-03-28T13:10:50+01:00",
          "2024-03-28T13:12:50+01:00",
          "2024-03-28T13:14:50+01:00",
          "2024-03-28T13:16:50+01:00",
          "2024-03-28T13:18:50+01:00",
          "2024-03-28T13:20:50+01:00",
          "2024-03-28T13:22:51+01:00",
          "2024-03-28T13:24:50+01:00",
          "2024-03-28T13:26:50+01:00",
          "2024-03-28T13:28:50+01:00",
          "2024-03-28T13:30:50+01:00",
          "2024-03-28T13:32:51+01:00",
          "2024-03-28T13:34:50+01:00",
          "2024-03-28T13:36:50+01:00",
          "2024-03-28T13:38:53+01:00",
          "2024-03-28T13:40:50+01:00",
          "2024-03-28T13:42:50+01:00",
          "2024-03-28T13:44:50+01:00",
          "2024-03-28T13:46:50+01:00",
          "2024-03-28T13:48:50+01:00",
          "2024-03-28T13:50:50+01:00",
          "2024-03-28T13:52:50+01:00",
          "2024-03-28T13:54:50+01:00",
          "2024-03-28T13:56:51+01:00",
          "2024-03-28T13:58:50+01:00",
          "2024-03-28T14:00:50+01:00"
         ],
         "y": [
          0,
          0,
          0,
          0,
          0,
          0,
          0,
          0,
          0,
          0,
          0,
          0,
          0,
          0,
          0,
          0,
          0,
          0,
          0,
          0,
          0,
          0,
          0,
          0,
          0,
          0,
          0,
          0,
          0,
          0,
          0,
          0,
          0,
          0,
          0,
          0,
          0,
          0,
          0,
          0,
          0,
          0,
          0,
          0,
          0,
          0,
          0,
          0,
          0,
          0,
          0,
          0,
          0,
          0,
          0,
          0,
          0,
          0,
          0,
          0,
          0,
          0,
          0,
          0,
          0,
          0,
          0,
          0,
          0,
          0,
          0,
          0,
          0,
          0,
          0,
          1,
          1,
          1,
          1,
          0,
          0,
          0,
          0,
          0,
          0,
          0,
          0,
          0,
          0,
          0,
          0,
          0,
          0,
          0,
          0,
          1,
          1,
          1,
          1,
          0,
          0,
          0,
          0,
          0,
          0,
          0,
          0,
          0,
          0,
          0,
          0,
          0,
          0,
          0,
          1,
          1,
          0,
          0
         ]
        },
        {
         "mode": "lines",
         "name": "866833046777873",
         "type": "scatter",
         "x": [
          "2024-03-28T09:57:16+01:00",
          "2024-03-28T09:59:16+01:00",
          "2024-03-28T10:01:15+01:00",
          "2024-03-28T10:03:16+01:00",
          "2024-03-28T10:05:16+01:00",
          "2024-03-28T10:07:16+01:00",
          "2024-03-28T10:09:16+01:00",
          "2024-03-28T10:11:15+01:00",
          "2024-03-28T10:13:16+01:00",
          "2024-03-28T10:15:16+01:00",
          "2024-03-28T10:17:16+01:00",
          "2024-03-28T10:19:15+01:00",
          "2024-03-28T10:21:16+01:00",
          "2024-03-28T10:23:15+01:00",
          "2024-03-28T10:25:15+01:00",
          "2024-03-28T10:27:15+01:00",
          "2024-03-28T10:29:15+01:00",
          "2024-03-28T10:31:15+01:00",
          "2024-03-28T10:33:15+01:00",
          "2024-03-28T10:35:16+01:00",
          "2024-03-28T10:37:16+01:00",
          "2024-03-28T10:39:16+01:00",
          "2024-03-28T10:41:15+01:00",
          "2024-03-28T10:47:57+01:00",
          "2024-03-28T10:49:57+01:00",
          "2024-03-28T10:51:57+01:00",
          "2024-03-28T10:53:57+01:00",
          "2024-03-28T10:55:57+01:00",
          "2024-03-28T10:57:57+01:00",
          "2024-03-28T10:59:57+01:00",
          "2024-03-28T11:01:57+01:00",
          "2024-03-28T11:03:57+01:00",
          "2024-03-28T11:05:57+01:00",
          "2024-03-28T11:07:57+01:00",
          "2024-03-28T11:09:57+01:00",
          "2024-03-28T11:11:57+01:00",
          "2024-03-28T11:13:57+01:00",
          "2024-03-28T11:15:57+01:00",
          "2024-03-28T11:17:57+01:00",
          "2024-03-28T11:19:57+01:00",
          "2024-03-28T11:21:57+01:00",
          "2024-03-28T11:23:57+01:00",
          "2024-03-28T11:25:57+01:00",
          "2024-03-28T11:27:57+01:00",
          "2024-03-28T11:29:57+01:00",
          "2024-03-28T11:31:57+01:00",
          "2024-03-28T11:33:57+01:00",
          "2024-03-28T11:35:57+01:00",
          "2024-03-28T11:37:57+01:00",
          "2024-03-28T11:39:57+01:00",
          "2024-03-28T11:41:57+01:00",
          "2024-03-28T11:43:57+01:00",
          "2024-03-28T11:45:57+01:00",
          "2024-03-28T11:47:57+01:00",
          "2024-03-28T11:49:57+01:00",
          "2024-03-28T11:51:57+01:00",
          "2024-03-28T11:53:57+01:00",
          "2024-03-28T11:55:57+01:00",
          "2024-03-28T11:57:57+01:00",
          "2024-03-28T11:59:57+01:00",
          "2024-03-28T12:01:57+01:00",
          "2024-03-28T12:03:57+01:00",
          "2024-03-28T12:05:57+01:00",
          "2024-03-28T12:07:57+01:00",
          "2024-03-28T12:09:57+01:00",
          "2024-03-28T12:11:57+01:00",
          "2024-03-28T12:13:57+01:00",
          "2024-03-28T12:15:57+01:00",
          "2024-03-28T12:17:57+01:00",
          "2024-03-28T12:19:57+01:00",
          "2024-03-28T12:21:57+01:00",
          "2024-03-28T12:23:57+01:00",
          "2024-03-28T12:25:57+01:00",
          "2024-03-28T12:27:57+01:00",
          "2024-03-28T12:29:57+01:00",
          "2024-03-28T12:31:57+01:00",
          "2024-03-28T12:33:57+01:00",
          "2024-03-28T12:35:57+01:00",
          "2024-03-28T12:37:57+01:00",
          "2024-03-28T12:39:57+01:00",
          "2024-03-28T12:41:57+01:00",
          "2024-03-28T12:43:57+01:00",
          "2024-03-28T12:45:57+01:00",
          "2024-03-28T12:47:57+01:00",
          "2024-03-28T12:49:57+01:00",
          "2024-03-28T12:51:57+01:00",
          "2024-03-28T12:53:57+01:00",
          "2024-03-28T12:55:57+01:00",
          "2024-03-28T12:57:57+01:00",
          "2024-03-28T12:59:57+01:00",
          "2024-03-28T13:01:57+01:00",
          "2024-03-28T13:03:57+01:00",
          "2024-03-28T13:05:57+01:00",
          "2024-03-28T13:07:57+01:00",
          "2024-03-28T13:09:57+01:00",
          "2024-03-28T13:11:57+01:00",
          "2024-03-28T13:13:57+01:00",
          "2024-03-28T13:15:57+01:00",
          "2024-03-28T13:17:57+01:00",
          "2024-03-28T13:19:57+01:00",
          "2024-03-28T13:21:56+01:00",
          "2024-03-28T13:23:57+01:00",
          "2024-03-28T13:25:57+01:00",
          "2024-03-28T13:27:56+01:00",
          "2024-03-28T13:29:57+01:00",
          "2024-03-28T13:31:57+01:00",
          "2024-03-28T13:33:56+01:00",
          "2024-03-28T13:36:01+01:00",
          "2024-03-28T13:37:57+01:00",
          "2024-03-28T13:39:57+01:00",
          "2024-03-28T13:41:57+01:00",
          "2024-03-28T13:43:56+01:00",
          "2024-03-28T13:45:57+01:00",
          "2024-03-28T13:47:56+01:00",
          "2024-03-28T13:49:56+01:00",
          "2024-03-28T13:51:57+01:00",
          "2024-03-28T13:53:57+01:00",
          "2024-03-28T13:55:56+01:00",
          "2024-03-28T13:57:56+01:00",
          "2024-03-28T13:59:56+01:00"
         ],
         "y": [
          0,
          0,
          0,
          0,
          0,
          0,
          0,
          0,
          0,
          0,
          0,
          0,
          0,
          0,
          0,
          0,
          0,
          0,
          0,
          0,
          0,
          0,
          0,
          0,
          0,
          0,
          0,
          0,
          0,
          0,
          0,
          0,
          0,
          0,
          0,
          0,
          0,
          0,
          0,
          0,
          0,
          0,
          0,
          0,
          0,
          0,
          0,
          0,
          0,
          0,
          0,
          0,
          0,
          0,
          0,
          0,
          0,
          0,
          0,
          0,
          0,
          0,
          0,
          0,
          0,
          0,
          0,
          0,
          0,
          0,
          0,
          0,
          0,
          0,
          0,
          0,
          0,
          1,
          1,
          1,
          1,
          1,
          0,
          0,
          0,
          0,
          0,
          0,
          0,
          0,
          0,
          0,
          0,
          0,
          0,
          0,
          0,
          1,
          1,
          1,
          1,
          1,
          0,
          0,
          0,
          0,
          0,
          0,
          0,
          0,
          0,
          0,
          0,
          0,
          0,
          0,
          1,
          1,
          1,
          0
         ]
        },
        {
         "mode": "lines",
         "name": "866833046778889",
         "type": "scatter",
         "x": [
          "2024-03-28T09:55:15+01:00",
          "2024-03-28T09:57:15+01:00",
          "2024-03-28T09:59:15+01:00",
          "2024-03-28T10:01:15+01:00",
          "2024-03-28T10:03:15+01:00",
          "2024-03-28T10:05:19+01:00",
          "2024-03-28T10:07:15+01:00",
          "2024-03-28T10:09:15+01:00",
          "2024-03-28T10:11:15+01:00",
          "2024-03-28T10:13:15+01:00",
          "2024-03-28T10:15:15+01:00",
          "2024-03-28T10:17:15+01:00",
          "2024-03-28T10:19:15+01:00",
          "2024-03-28T10:21:15+01:00",
          "2024-03-28T10:23:15+01:00",
          "2024-03-28T10:25:15+01:00",
          "2024-03-28T10:27:15+01:00",
          "2024-03-28T10:29:15+01:00",
          "2024-03-28T10:31:15+01:00",
          "2024-03-28T10:33:15+01:00",
          "2024-03-28T10:35:15+01:00",
          "2024-03-28T10:37:19+01:00",
          "2024-03-28T10:39:15+01:00",
          "2024-03-28T10:52:45+01:00",
          "2024-03-28T10:54:45+01:00",
          "2024-03-28T10:56:45+01:00",
          "2024-03-28T10:58:45+01:00",
          "2024-03-28T11:00:45+01:00",
          "2024-03-28T11:02:45+01:00",
          "2024-03-28T11:04:45+01:00",
          "2024-03-28T11:06:45+01:00",
          "2024-03-28T11:08:45+01:00",
          "2024-03-28T11:10:45+01:00",
          "2024-03-28T11:12:45+01:00",
          "2024-03-28T11:14:45+01:00",
          "2024-03-28T11:16:45+01:00",
          "2024-03-28T11:18:45+01:00",
          "2024-03-28T11:20:45+01:00",
          "2024-03-28T11:22:45+01:00",
          "2024-03-28T11:24:45+01:00",
          "2024-03-28T11:26:45+01:00",
          "2024-03-28T11:28:45+01:00",
          "2024-03-28T11:30:45+01:00",
          "2024-03-28T11:32:45+01:00",
          "2024-03-28T11:34:45+01:00",
          "2024-03-28T11:36:45+01:00",
          "2024-03-28T11:38:45+01:00",
          "2024-03-28T11:40:45+01:00",
          "2024-03-28T11:42:46+01:00",
          "2024-03-28T11:44:45+01:00",
          "2024-03-28T11:46:45+01:00",
          "2024-03-28T11:48:45+01:00",
          "2024-03-28T11:50:45+01:00",
          "2024-03-28T11:52:45+01:00",
          "2024-03-28T11:54:45+01:00",
          "2024-03-28T11:56:45+01:00",
          "2024-03-28T11:58:45+01:00",
          "2024-03-28T12:00:45+01:00",
          "2024-03-28T12:02:45+01:00",
          "2024-03-28T12:04:45+01:00",
          "2024-03-28T12:06:45+01:00",
          "2024-03-28T12:08:45+01:00",
          "2024-03-28T12:10:45+01:00",
          "2024-03-28T12:12:45+01:00",
          "2024-03-28T12:14:45+01:00",
          "2024-03-28T12:16:45+01:00",
          "2024-03-28T12:18:46+01:00",
          "2024-03-28T12:20:45+01:00",
          "2024-03-28T12:22:45+01:00",
          "2024-03-28T12:24:48+01:00",
          "2024-03-28T12:26:45+01:00",
          "2024-03-28T12:28:45+01:00",
          "2024-03-28T12:30:45+01:00",
          "2024-03-28T12:32:45+01:00",
          "2024-03-28T12:34:45+01:00",
          "2024-03-28T12:36:45+01:00",
          "2024-03-28T12:38:45+01:00",
          "2024-03-28T12:40:45+01:00",
          "2024-03-28T12:42:45+01:00",
          "2024-03-28T12:44:45+01:00",
          "2024-03-28T12:46:45+01:00",
          "2024-03-28T12:48:45+01:00",
          "2024-03-28T12:50:45+01:00",
          "2024-03-28T12:52:45+01:00",
          "2024-03-28T12:54:45+01:00",
          "2024-03-28T12:56:45+01:00",
          "2024-03-28T12:58:45+01:00",
          "2024-03-28T13:00:44+01:00",
          "2024-03-28T13:02:44+01:00",
          "2024-03-28T13:04:44+01:00",
          "2024-03-28T13:06:45+01:00",
          "2024-03-28T13:08:45+01:00",
          "2024-03-28T13:10:45+01:00",
          "2024-03-28T13:12:44+01:00",
          "2024-03-28T13:14:44+01:00",
          "2024-03-28T13:16:44+01:00",
          "2024-03-28T13:18:45+01:00",
          "2024-03-28T13:20:44+01:00",
          "2024-03-28T13:22:45+01:00",
          "2024-03-28T13:24:45+01:00",
          "2024-03-28T13:26:45+01:00",
          "2024-03-28T13:28:44+01:00",
          "2024-03-28T13:30:44+01:00",
          "2024-03-28T13:32:45+01:00",
          "2024-03-28T13:34:44+01:00",
          "2024-03-28T13:36:45+01:00",
          "2024-03-28T13:38:45+01:00",
          "2024-03-28T13:40:45+01:00",
          "2024-03-28T13:42:45+01:00",
          "2024-03-28T13:44:45+01:00",
          "2024-03-28T13:46:44+01:00",
          "2024-03-28T13:48:44+01:00",
          "2024-03-28T13:50:45+01:00",
          "2024-03-28T13:52:44+01:00",
          "2024-03-28T13:54:44+01:00",
          "2024-03-28T13:56:44+01:00",
          "2024-03-28T13:58:45+01:00",
          "2024-03-28T14:00:44+01:00"
         ],
         "y": [
          0,
          0,
          0,
          0,
          0,
          0,
          0,
          0,
          0,
          0,
          0,
          0,
          0,
          0,
          0,
          0,
          0,
          0,
          0,
          0,
          0,
          0,
          0,
          0,
          0,
          0,
          0,
          0,
          0,
          0,
          0,
          0,
          0,
          0,
          0,
          0,
          0,
          0,
          0,
          0,
          0,
          0,
          0,
          0,
          0,
          0,
          0,
          0,
          0,
          0,
          0,
          0,
          0,
          0,
          0,
          0,
          0,
          0,
          0,
          0,
          0,
          0,
          0,
          0,
          0,
          0,
          0,
          0,
          0,
          0,
          0,
          0,
          0,
          0,
          0,
          1,
          1,
          1,
          1,
          0,
          0,
          0,
          0,
          0,
          0,
          0,
          0,
          0,
          0,
          0,
          0,
          0,
          0,
          0,
          0,
          1,
          1,
          1,
          1,
          0,
          0,
          0,
          0,
          0,
          0,
          0,
          0,
          0,
          0,
          0,
          0,
          0,
          0,
          0,
          1,
          1,
          0,
          0
         ]
        },
        {
         "mode": "lines",
         "name": "866833046798499",
         "type": "scatter",
         "x": [
          "2024-03-28T09:55:18+01:00",
          "2024-03-28T09:57:18+01:00",
          "2024-03-28T09:59:19+01:00",
          "2024-03-28T10:01:19+01:00",
          "2024-03-28T10:03:18+01:00",
          "2024-03-28T10:06:30+01:00",
          "2024-03-28T10:08:31+01:00",
          "2024-03-28T10:10:34+01:00",
          "2024-03-28T10:12:31+01:00",
          "2024-03-28T10:14:31+01:00",
          "2024-03-28T10:16:31+01:00",
          "2024-03-28T10:18:31+01:00",
          "2024-03-28T10:20:31+01:00",
          "2024-03-28T10:22:31+01:00",
          "2024-03-28T10:24:31+01:00",
          "2024-03-28T10:26:31+01:00",
          "2024-03-28T10:28:31+01:00",
          "2024-03-28T10:30:31+01:00",
          "2024-03-28T10:32:32+01:00",
          "2024-03-28T10:34:31+01:00",
          "2024-03-28T10:36:31+01:00",
          "2024-03-28T10:38:30+01:00",
          "2024-03-28T10:40:30+01:00",
          "2024-03-28T10:48:04+01:00",
          "2024-03-28T10:50:04+01:00",
          "2024-03-28T10:52:04+01:00",
          "2024-03-28T10:54:04+01:00",
          "2024-03-28T10:56:04+01:00",
          "2024-03-28T10:58:04+01:00",
          "2024-03-28T11:00:04+01:00",
          "2024-03-28T11:02:04+01:00",
          "2024-03-28T11:04:04+01:00",
          "2024-03-28T11:06:04+01:00",
          "2024-03-28T11:08:04+01:00",
          "2024-03-28T11:10:04+01:00",
          "2024-03-28T11:12:04+01:00",
          "2024-03-28T11:14:04+01:00",
          "2024-03-28T11:16:04+01:00",
          "2024-03-28T11:18:04+01:00",
          "2024-03-28T11:20:04+01:00",
          "2024-03-28T11:22:04+01:00",
          "2024-03-28T11:24:04+01:00",
          "2024-03-28T11:26:04+01:00",
          "2024-03-28T11:28:05+01:00",
          "2024-03-28T11:30:04+01:00",
          "2024-03-28T11:32:04+01:00",
          "2024-03-28T11:34:04+01:00",
          "2024-03-28T11:36:04+01:00",
          "2024-03-28T11:38:04+01:00",
          "2024-03-28T11:40:04+01:00",
          "2024-03-28T11:42:04+01:00",
          "2024-03-28T11:44:04+01:00",
          "2024-03-28T11:46:04+01:00",
          "2024-03-28T11:48:04+01:00",
          "2024-03-28T11:50:04+01:00",
          "2024-03-28T11:52:07+01:00",
          "2024-03-28T11:54:04+01:00",
          "2024-03-28T11:56:04+01:00",
          "2024-03-28T11:58:04+01:00",
          "2024-03-28T12:00:04+01:00",
          "2024-03-28T12:02:04+01:00",
          "2024-03-28T12:04:04+01:00",
          "2024-03-28T12:06:04+01:00",
          "2024-03-28T12:08:04+01:00",
          "2024-03-28T12:10:04+01:00",
          "2024-03-28T12:12:04+01:00",
          "2024-03-28T12:14:04+01:00",
          "2024-03-28T12:16:04+01:00",
          "2024-03-28T12:18:04+01:00",
          "2024-03-28T12:20:04+01:00",
          "2024-03-28T12:22:04+01:00",
          "2024-03-28T12:24:04+01:00",
          "2024-03-28T12:26:04+01:00",
          "2024-03-28T12:28:04+01:00",
          "2024-03-28T12:30:04+01:00",
          "2024-03-28T12:32:04+01:00",
          "2024-03-28T12:34:04+01:00",
          "2024-03-28T12:36:04+01:00",
          "2024-03-28T12:38:04+01:00",
          "2024-03-28T12:40:04+01:00",
          "2024-03-28T12:42:04+01:00",
          "2024-03-28T12:44:04+01:00",
          "2024-03-28T12:46:04+01:00",
          "2024-03-28T12:48:04+01:00",
          "2024-03-28T12:50:04+01:00",
          "2024-03-28T12:52:07+01:00",
          "2024-03-28T12:54:04+01:00",
          "2024-03-28T12:56:07+01:00",
          "2024-03-28T12:58:04+01:00",
          "2024-03-28T13:00:04+01:00",
          "2024-03-28T13:02:04+01:00",
          "2024-03-28T13:04:04+01:00",
          "2024-03-28T13:06:04+01:00",
          "2024-03-28T13:08:04+01:00",
          "2024-03-28T13:10:04+01:00",
          "2024-03-28T13:12:04+01:00",
          "2024-03-28T13:14:04+01:00",
          "2024-03-28T13:16:04+01:00",
          "2024-03-28T13:18:04+01:00",
          "2024-03-28T13:20:04+01:00",
          "2024-03-28T13:22:04+01:00",
          "2024-03-28T13:24:04+01:00",
          "2024-03-28T13:26:04+01:00",
          "2024-03-28T13:28:04+01:00",
          "2024-03-28T13:30:04+01:00",
          "2024-03-28T13:32:04+01:00",
          "2024-03-28T13:34:04+01:00",
          "2024-03-28T13:36:04+01:00",
          "2024-03-28T13:38:04+01:00",
          "2024-03-28T13:40:04+01:00",
          "2024-03-28T13:42:04+01:00",
          "2024-03-28T13:44:04+01:00",
          "2024-03-28T13:46:04+01:00",
          "2024-03-28T13:48:04+01:00",
          "2024-03-28T13:50:04+01:00",
          "2024-03-28T13:52:04+01:00",
          "2024-03-28T13:54:04+01:00",
          "2024-03-28T13:56:04+01:00",
          "2024-03-28T13:58:04+01:00",
          "2024-03-28T14:00:04+01:00"
         ],
         "y": [
          0,
          0,
          0,
          0,
          0,
          0,
          0,
          0,
          0,
          0,
          0,
          0,
          0,
          0,
          0,
          0,
          0,
          0,
          0,
          0,
          0,
          0,
          0,
          0,
          0,
          0,
          0,
          0,
          0,
          0,
          0,
          0,
          0,
          0,
          0,
          0,
          0,
          0,
          0,
          0,
          0,
          0,
          0,
          0,
          0,
          0,
          0,
          0,
          0,
          0,
          0,
          0,
          0,
          0,
          0,
          0,
          0,
          0,
          0,
          0,
          0,
          0,
          0,
          0,
          0,
          0,
          0,
          0,
          0,
          0,
          0,
          0,
          0,
          0,
          0,
          0,
          0,
          1,
          1,
          1,
          1,
          1,
          0,
          0,
          0,
          0,
          0,
          0,
          0,
          0,
          0,
          0,
          0,
          0,
          0,
          0,
          0,
          1,
          1,
          1,
          1,
          1,
          0,
          0,
          0,
          0,
          0,
          0,
          0,
          0,
          0,
          0,
          0,
          0,
          0,
          0,
          1,
          1,
          1,
          0
         ]
        }
       ],
       "layout": {
        "legend": {
         "title": {
          "text": "2 passage(s) vs time "
         }
        },
        "template": {
         "data": {
          "bar": [
           {
            "error_x": {
             "color": "#2a3f5f"
            },
            "error_y": {
             "color": "#2a3f5f"
            },
            "marker": {
             "line": {
              "color": "#E5ECF6",
              "width": 0.5
             },
             "pattern": {
              "fillmode": "overlay",
              "size": 10,
              "solidity": 0.2
             }
            },
            "type": "bar"
           }
          ],
          "barpolar": [
           {
            "marker": {
             "line": {
              "color": "#E5ECF6",
              "width": 0.5
             },
             "pattern": {
              "fillmode": "overlay",
              "size": 10,
              "solidity": 0.2
             }
            },
            "type": "barpolar"
           }
          ],
          "carpet": [
           {
            "aaxis": {
             "endlinecolor": "#2a3f5f",
             "gridcolor": "white",
             "linecolor": "white",
             "minorgridcolor": "white",
             "startlinecolor": "#2a3f5f"
            },
            "baxis": {
             "endlinecolor": "#2a3f5f",
             "gridcolor": "white",
             "linecolor": "white",
             "minorgridcolor": "white",
             "startlinecolor": "#2a3f5f"
            },
            "type": "carpet"
           }
          ],
          "choropleth": [
           {
            "colorbar": {
             "outlinewidth": 0,
             "ticks": ""
            },
            "type": "choropleth"
           }
          ],
          "contour": [
           {
            "colorbar": {
             "outlinewidth": 0,
             "ticks": ""
            },
            "colorscale": [
             [
              0,
              "#0d0887"
             ],
             [
              0.1111111111111111,
              "#46039f"
             ],
             [
              0.2222222222222222,
              "#7201a8"
             ],
             [
              0.3333333333333333,
              "#9c179e"
             ],
             [
              0.4444444444444444,
              "#bd3786"
             ],
             [
              0.5555555555555556,
              "#d8576b"
             ],
             [
              0.6666666666666666,
              "#ed7953"
             ],
             [
              0.7777777777777778,
              "#fb9f3a"
             ],
             [
              0.8888888888888888,
              "#fdca26"
             ],
             [
              1,
              "#f0f921"
             ]
            ],
            "type": "contour"
           }
          ],
          "contourcarpet": [
           {
            "colorbar": {
             "outlinewidth": 0,
             "ticks": ""
            },
            "type": "contourcarpet"
           }
          ],
          "heatmap": [
           {
            "colorbar": {
             "outlinewidth": 0,
             "ticks": ""
            },
            "colorscale": [
             [
              0,
              "#0d0887"
             ],
             [
              0.1111111111111111,
              "#46039f"
             ],
             [
              0.2222222222222222,
              "#7201a8"
             ],
             [
              0.3333333333333333,
              "#9c179e"
             ],
             [
              0.4444444444444444,
              "#bd3786"
             ],
             [
              0.5555555555555556,
              "#d8576b"
             ],
             [
              0.6666666666666666,
              "#ed7953"
             ],
             [
              0.7777777777777778,
              "#fb9f3a"
             ],
             [
              0.8888888888888888,
              "#fdca26"
             ],
             [
              1,
              "#f0f921"
             ]
            ],
            "type": "heatmap"
           }
          ],
          "heatmapgl": [
           {
            "colorbar": {
             "outlinewidth": 0,
             "ticks": ""
            },
            "colorscale": [
             [
              0,
              "#0d0887"
             ],
             [
              0.1111111111111111,
              "#46039f"
             ],
             [
              0.2222222222222222,
              "#7201a8"
             ],
             [
              0.3333333333333333,
              "#9c179e"
             ],
             [
              0.4444444444444444,
              "#bd3786"
             ],
             [
              0.5555555555555556,
              "#d8576b"
             ],
             [
              0.6666666666666666,
              "#ed7953"
             ],
             [
              0.7777777777777778,
              "#fb9f3a"
             ],
             [
              0.8888888888888888,
              "#fdca26"
             ],
             [
              1,
              "#f0f921"
             ]
            ],
            "type": "heatmapgl"
           }
          ],
          "histogram": [
           {
            "marker": {
             "pattern": {
              "fillmode": "overlay",
              "size": 10,
              "solidity": 0.2
             }
            },
            "type": "histogram"
           }
          ],
          "histogram2d": [
           {
            "colorbar": {
             "outlinewidth": 0,
             "ticks": ""
            },
            "colorscale": [
             [
              0,
              "#0d0887"
             ],
             [
              0.1111111111111111,
              "#46039f"
             ],
             [
              0.2222222222222222,
              "#7201a8"
             ],
             [
              0.3333333333333333,
              "#9c179e"
             ],
             [
              0.4444444444444444,
              "#bd3786"
             ],
             [
              0.5555555555555556,
              "#d8576b"
             ],
             [
              0.6666666666666666,
              "#ed7953"
             ],
             [
              0.7777777777777778,
              "#fb9f3a"
             ],
             [
              0.8888888888888888,
              "#fdca26"
             ],
             [
              1,
              "#f0f921"
             ]
            ],
            "type": "histogram2d"
           }
          ],
          "histogram2dcontour": [
           {
            "colorbar": {
             "outlinewidth": 0,
             "ticks": ""
            },
            "colorscale": [
             [
              0,
              "#0d0887"
             ],
             [
              0.1111111111111111,
              "#46039f"
             ],
             [
              0.2222222222222222,
              "#7201a8"
             ],
             [
              0.3333333333333333,
              "#9c179e"
             ],
             [
              0.4444444444444444,
              "#bd3786"
             ],
             [
              0.5555555555555556,
              "#d8576b"
             ],
             [
              0.6666666666666666,
              "#ed7953"
             ],
             [
              0.7777777777777778,
              "#fb9f3a"
             ],
             [
              0.8888888888888888,
              "#fdca26"
             ],
             [
              1,
              "#f0f921"
             ]
            ],
            "type": "histogram2dcontour"
           }
          ],
          "mesh3d": [
           {
            "colorbar": {
             "outlinewidth": 0,
             "ticks": ""
            },
            "type": "mesh3d"
           }
          ],
          "parcoords": [
           {
            "line": {
             "colorbar": {
              "outlinewidth": 0,
              "ticks": ""
             }
            },
            "type": "parcoords"
           }
          ],
          "pie": [
           {
            "automargin": true,
            "type": "pie"
           }
          ],
          "scatter": [
           {
            "fillpattern": {
             "fillmode": "overlay",
             "size": 10,
             "solidity": 0.2
            },
            "type": "scatter"
           }
          ],
          "scatter3d": [
           {
            "line": {
             "colorbar": {
              "outlinewidth": 0,
              "ticks": ""
             }
            },
            "marker": {
             "colorbar": {
              "outlinewidth": 0,
              "ticks": ""
             }
            },
            "type": "scatter3d"
           }
          ],
          "scattercarpet": [
           {
            "marker": {
             "colorbar": {
              "outlinewidth": 0,
              "ticks": ""
             }
            },
            "type": "scattercarpet"
           }
          ],
          "scattergeo": [
           {
            "marker": {
             "colorbar": {
              "outlinewidth": 0,
              "ticks": ""
             }
            },
            "type": "scattergeo"
           }
          ],
          "scattergl": [
           {
            "marker": {
             "colorbar": {
              "outlinewidth": 0,
              "ticks": ""
             }
            },
            "type": "scattergl"
           }
          ],
          "scattermapbox": [
           {
            "marker": {
             "colorbar": {
              "outlinewidth": 0,
              "ticks": ""
             }
            },
            "type": "scattermapbox"
           }
          ],
          "scatterpolar": [
           {
            "marker": {
             "colorbar": {
              "outlinewidth": 0,
              "ticks": ""
             }
            },
            "type": "scatterpolar"
           }
          ],
          "scatterpolargl": [
           {
            "marker": {
             "colorbar": {
              "outlinewidth": 0,
              "ticks": ""
             }
            },
            "type": "scatterpolargl"
           }
          ],
          "scatterternary": [
           {
            "marker": {
             "colorbar": {
              "outlinewidth": 0,
              "ticks": ""
             }
            },
            "type": "scatterternary"
           }
          ],
          "surface": [
           {
            "colorbar": {
             "outlinewidth": 0,
             "ticks": ""
            },
            "colorscale": [
             [
              0,
              "#0d0887"
             ],
             [
              0.1111111111111111,
              "#46039f"
             ],
             [
              0.2222222222222222,
              "#7201a8"
             ],
             [
              0.3333333333333333,
              "#9c179e"
             ],
             [
              0.4444444444444444,
              "#bd3786"
             ],
             [
              0.5555555555555556,
              "#d8576b"
             ],
             [
              0.6666666666666666,
              "#ed7953"
             ],
             [
              0.7777777777777778,
              "#fb9f3a"
             ],
             [
              0.8888888888888888,
              "#fdca26"
             ],
             [
              1,
              "#f0f921"
             ]
            ],
            "type": "surface"
           }
          ],
          "table": [
           {
            "cells": {
             "fill": {
              "color": "#EBF0F8"
             },
             "line": {
              "color": "white"
             }
            },
            "header": {
             "fill": {
              "color": "#C8D4E3"
             },
             "line": {
              "color": "white"
             }
            },
            "type": "table"
           }
          ]
         },
         "layout": {
          "annotationdefaults": {
           "arrowcolor": "#2a3f5f",
           "arrowhead": 0,
           "arrowwidth": 1
          },
          "autotypenumbers": "strict",
          "coloraxis": {
           "colorbar": {
            "outlinewidth": 0,
            "ticks": ""
           }
          },
          "colorscale": {
           "diverging": [
            [
             0,
             "#8e0152"
            ],
            [
             0.1,
             "#c51b7d"
            ],
            [
             0.2,
             "#de77ae"
            ],
            [
             0.3,
             "#f1b6da"
            ],
            [
             0.4,
             "#fde0ef"
            ],
            [
             0.5,
             "#f7f7f7"
            ],
            [
             0.6,
             "#e6f5d0"
            ],
            [
             0.7,
             "#b8e186"
            ],
            [
             0.8,
             "#7fbc41"
            ],
            [
             0.9,
             "#4d9221"
            ],
            [
             1,
             "#276419"
            ]
           ],
           "sequential": [
            [
             0,
             "#0d0887"
            ],
            [
             0.1111111111111111,
             "#46039f"
            ],
            [
             0.2222222222222222,
             "#7201a8"
            ],
            [
             0.3333333333333333,
             "#9c179e"
            ],
            [
             0.4444444444444444,
             "#bd3786"
            ],
            [
             0.5555555555555556,
             "#d8576b"
            ],
            [
             0.6666666666666666,
             "#ed7953"
            ],
            [
             0.7777777777777778,
             "#fb9f3a"
            ],
            [
             0.8888888888888888,
             "#fdca26"
            ],
            [
             1,
             "#f0f921"
            ]
           ],
           "sequentialminus": [
            [
             0,
             "#0d0887"
            ],
            [
             0.1111111111111111,
             "#46039f"
            ],
            [
             0.2222222222222222,
             "#7201a8"
            ],
            [
             0.3333333333333333,
             "#9c179e"
            ],
            [
             0.4444444444444444,
             "#bd3786"
            ],
            [
             0.5555555555555556,
             "#d8576b"
            ],
            [
             0.6666666666666666,
             "#ed7953"
            ],
            [
             0.7777777777777778,
             "#fb9f3a"
            ],
            [
             0.8888888888888888,
             "#fdca26"
            ],
            [
             1,
             "#f0f921"
            ]
           ]
          },
          "colorway": [
           "#636efa",
           "#EF553B",
           "#00cc96",
           "#ab63fa",
           "#FFA15A",
           "#19d3f3",
           "#FF6692",
           "#B6E880",
           "#FF97FF",
           "#FECB52"
          ],
          "font": {
           "color": "#2a3f5f"
          },
          "geo": {
           "bgcolor": "white",
           "lakecolor": "white",
           "landcolor": "#E5ECF6",
           "showlakes": true,
           "showland": true,
           "subunitcolor": "white"
          },
          "hoverlabel": {
           "align": "left"
          },
          "hovermode": "closest",
          "mapbox": {
           "style": "light"
          },
          "paper_bgcolor": "white",
          "plot_bgcolor": "#E5ECF6",
          "polar": {
           "angularaxis": {
            "gridcolor": "white",
            "linecolor": "white",
            "ticks": ""
           },
           "bgcolor": "#E5ECF6",
           "radialaxis": {
            "gridcolor": "white",
            "linecolor": "white",
            "ticks": ""
           }
          },
          "scene": {
           "xaxis": {
            "backgroundcolor": "#E5ECF6",
            "gridcolor": "white",
            "gridwidth": 2,
            "linecolor": "white",
            "showbackground": true,
            "ticks": "",
            "zerolinecolor": "white"
           },
           "yaxis": {
            "backgroundcolor": "#E5ECF6",
            "gridcolor": "white",
            "gridwidth": 2,
            "linecolor": "white",
            "showbackground": true,
            "ticks": "",
            "zerolinecolor": "white"
           },
           "zaxis": {
            "backgroundcolor": "#E5ECF6",
            "gridcolor": "white",
            "gridwidth": 2,
            "linecolor": "white",
            "showbackground": true,
            "ticks": "",
            "zerolinecolor": "white"
           }
          },
          "shapedefaults": {
           "line": {
            "color": "#2a3f5f"
           }
          },
          "ternary": {
           "aaxis": {
            "gridcolor": "white",
            "linecolor": "white",
            "ticks": ""
           },
           "baxis": {
            "gridcolor": "white",
            "linecolor": "white",
            "ticks": ""
           },
           "bgcolor": "#E5ECF6",
           "caxis": {
            "gridcolor": "white",
            "linecolor": "white",
            "ticks": ""
           }
          },
          "title": {
           "x": 0.05
          },
          "xaxis": {
           "automargin": true,
           "gridcolor": "white",
           "linecolor": "white",
           "ticks": "",
           "title": {
            "standoff": 15
           },
           "zerolinecolor": "white",
           "zerolinewidth": 2
          },
          "yaxis": {
           "automargin": true,
           "gridcolor": "white",
           "linecolor": "white",
           "ticks": "",
           "title": {
            "standoff": 15
           },
           "zerolinecolor": "white",
           "zerolinewidth": 2
          }
         }
        },
        "xaxis": {
         "title": {
          "text": "Time "
         }
        },
        "yaxis": {
         "title": {
          "text": "2 passage(s)"
         }
        }
       }
      }
     },
     "metadata": {},
     "output_type": "display_data"
    }
   ],
   "source": [
    "graphe_capteurs(indicateur=\"2 passage(s)\",df=df_capteur_entreprise)"
   ]
  },
  {
   "cell_type": "code",
   "execution_count": 14,
   "metadata": {},
   "outputs": [
    {
     "data": {
      "application/vnd.plotly.v1+json": {
       "config": {
        "plotlyServerURL": "https://plot.ly"
       },
       "data": [
        {
         "mode": "lines",
         "name": "866356067393040",
         "type": "scatter",
         "x": [
          "2024-03-28T09:55:52+01:00",
          "2024-03-28T09:57:53+01:00",
          "2024-03-28T09:59:52+01:00",
          "2024-03-28T10:01:53+01:00",
          "2024-03-28T10:03:52+01:00",
          "2024-03-28T10:05:53+01:00",
          "2024-03-28T10:07:53+01:00",
          "2024-03-28T10:09:53+01:00",
          "2024-03-28T10:11:52+01:00",
          "2024-03-28T10:13:52+01:00",
          "2024-03-28T10:15:53+01:00",
          "2024-03-28T10:17:53+01:00",
          "2024-03-28T10:19:52+01:00",
          "2024-03-28T10:21:53+01:00",
          "2024-03-28T10:23:52+01:00",
          "2024-03-28T10:25:52+01:00",
          "2024-03-28T10:27:53+01:00",
          "2024-03-28T10:29:53+01:00",
          "2024-03-28T10:31:52+01:00",
          "2024-03-28T10:33:52+01:00",
          "2024-03-28T10:35:52+01:00",
          "2024-03-28T10:37:52+01:00",
          "2024-03-28T10:39:52+01:00",
          "2024-03-28T10:52:50+01:00",
          "2024-03-28T10:54:56+01:00",
          "2024-03-28T10:56:50+01:00",
          "2024-03-28T10:58:50+01:00",
          "2024-03-28T11:00:50+01:00",
          "2024-03-28T11:02:50+01:00",
          "2024-03-28T11:04:50+01:00",
          "2024-03-28T11:06:50+01:00",
          "2024-03-28T11:08:50+01:00",
          "2024-03-28T11:10:50+01:00",
          "2024-03-28T11:12:50+01:00",
          "2024-03-28T11:14:50+01:00",
          "2024-03-28T11:16:50+01:00",
          "2024-03-28T11:18:53+01:00",
          "2024-03-28T11:20:50+01:00",
          "2024-03-28T11:22:50+01:00",
          "2024-03-28T11:24:50+01:00",
          "2024-03-28T11:26:50+01:00",
          "2024-03-28T11:28:50+01:00",
          "2024-03-28T11:30:50+01:00",
          "2024-03-28T11:32:50+01:00",
          "2024-03-28T11:34:50+01:00",
          "2024-03-28T11:36:50+01:00",
          "2024-03-28T11:38:50+01:00",
          "2024-03-28T11:40:50+01:00",
          "2024-03-28T11:42:50+01:00",
          "2024-03-28T11:44:50+01:00",
          "2024-03-28T11:46:50+01:00",
          "2024-03-28T11:48:50+01:00",
          "2024-03-28T11:50:50+01:00",
          "2024-03-28T11:52:50+01:00",
          "2024-03-28T11:54:50+01:00",
          "2024-03-28T11:56:50+01:00",
          "2024-03-28T11:58:50+01:00",
          "2024-03-28T12:00:50+01:00",
          "2024-03-28T12:02:50+01:00",
          "2024-03-28T12:04:50+01:00",
          "2024-03-28T12:06:50+01:00",
          "2024-03-28T12:08:50+01:00",
          "2024-03-28T12:10:50+01:00",
          "2024-03-28T12:12:50+01:00",
          "2024-03-28T12:14:50+01:00",
          "2024-03-28T12:16:51+01:00",
          "2024-03-28T12:18:50+01:00",
          "2024-03-28T12:20:50+01:00",
          "2024-03-28T12:22:50+01:00",
          "2024-03-28T12:24:53+01:00",
          "2024-03-28T12:26:50+01:00",
          "2024-03-28T12:28:50+01:00",
          "2024-03-28T12:30:50+01:00",
          "2024-03-28T12:32:50+01:00",
          "2024-03-28T12:34:50+01:00",
          "2024-03-28T12:36:50+01:00",
          "2024-03-28T12:38:50+01:00",
          "2024-03-28T12:40:50+01:00",
          "2024-03-28T12:42:50+01:00",
          "2024-03-28T12:44:50+01:00",
          "2024-03-28T12:46:51+01:00",
          "2024-03-28T12:48:50+01:00",
          "2024-03-28T12:50:50+01:00",
          "2024-03-28T12:52:50+01:00",
          "2024-03-28T12:54:50+01:00",
          "2024-03-28T12:56:50+01:00",
          "2024-03-28T12:58:50+01:00",
          "2024-03-28T13:00:51+01:00",
          "2024-03-28T13:02:50+01:00",
          "2024-03-28T13:04:50+01:00",
          "2024-03-28T13:06:50+01:00",
          "2024-03-28T13:08:50+01:00",
          "2024-03-28T13:10:50+01:00",
          "2024-03-28T13:12:50+01:00",
          "2024-03-28T13:14:50+01:00",
          "2024-03-28T13:16:50+01:00",
          "2024-03-28T13:18:50+01:00",
          "2024-03-28T13:20:50+01:00",
          "2024-03-28T13:22:51+01:00",
          "2024-03-28T13:24:50+01:00",
          "2024-03-28T13:26:50+01:00",
          "2024-03-28T13:28:50+01:00",
          "2024-03-28T13:30:50+01:00",
          "2024-03-28T13:32:51+01:00",
          "2024-03-28T13:34:50+01:00",
          "2024-03-28T13:36:50+01:00",
          "2024-03-28T13:38:53+01:00",
          "2024-03-28T13:40:50+01:00",
          "2024-03-28T13:42:50+01:00",
          "2024-03-28T13:44:50+01:00",
          "2024-03-28T13:46:50+01:00",
          "2024-03-28T13:48:50+01:00",
          "2024-03-28T13:50:50+01:00",
          "2024-03-28T13:52:50+01:00",
          "2024-03-28T13:54:50+01:00",
          "2024-03-28T13:56:51+01:00",
          "2024-03-28T13:58:50+01:00",
          "2024-03-28T14:00:50+01:00"
         ],
         "y": [
          0,
          0,
          0,
          0,
          0,
          0,
          0,
          0,
          0,
          0,
          0,
          0,
          0,
          0,
          0,
          0,
          0,
          0,
          0,
          0,
          0,
          0,
          0,
          0,
          0,
          0,
          0,
          0,
          0,
          0,
          0,
          0,
          0,
          0,
          0,
          0,
          0,
          0,
          0,
          0,
          0,
          0,
          0,
          0,
          0,
          0,
          0,
          0,
          0,
          0,
          0,
          0,
          1,
          1,
          1,
          0,
          0,
          0,
          0,
          0,
          0,
          0,
          0,
          0,
          0,
          0,
          0,
          0,
          0,
          0,
          0,
          0,
          0,
          0,
          0,
          0,
          0,
          0,
          0,
          0,
          0,
          0,
          0,
          0,
          0,
          0,
          0,
          0,
          0,
          0,
          0,
          0,
          0,
          0,
          0,
          0,
          0,
          0,
          0,
          0,
          0,
          0,
          0,
          0,
          0,
          0,
          0,
          0,
          0,
          0,
          0,
          0,
          0,
          0,
          0,
          0,
          0,
          0
         ]
        },
        {
         "mode": "lines",
         "name": "866833046777873",
         "type": "scatter",
         "x": [
          "2024-03-28T09:57:16+01:00",
          "2024-03-28T09:59:16+01:00",
          "2024-03-28T10:01:15+01:00",
          "2024-03-28T10:03:16+01:00",
          "2024-03-28T10:05:16+01:00",
          "2024-03-28T10:07:16+01:00",
          "2024-03-28T10:09:16+01:00",
          "2024-03-28T10:11:15+01:00",
          "2024-03-28T10:13:16+01:00",
          "2024-03-28T10:15:16+01:00",
          "2024-03-28T10:17:16+01:00",
          "2024-03-28T10:19:15+01:00",
          "2024-03-28T10:21:16+01:00",
          "2024-03-28T10:23:15+01:00",
          "2024-03-28T10:25:15+01:00",
          "2024-03-28T10:27:15+01:00",
          "2024-03-28T10:29:15+01:00",
          "2024-03-28T10:31:15+01:00",
          "2024-03-28T10:33:15+01:00",
          "2024-03-28T10:35:16+01:00",
          "2024-03-28T10:37:16+01:00",
          "2024-03-28T10:39:16+01:00",
          "2024-03-28T10:41:15+01:00",
          "2024-03-28T10:47:57+01:00",
          "2024-03-28T10:49:57+01:00",
          "2024-03-28T10:51:57+01:00",
          "2024-03-28T10:53:57+01:00",
          "2024-03-28T10:55:57+01:00",
          "2024-03-28T10:57:57+01:00",
          "2024-03-28T10:59:57+01:00",
          "2024-03-28T11:01:57+01:00",
          "2024-03-28T11:03:57+01:00",
          "2024-03-28T11:05:57+01:00",
          "2024-03-28T11:07:57+01:00",
          "2024-03-28T11:09:57+01:00",
          "2024-03-28T11:11:57+01:00",
          "2024-03-28T11:13:57+01:00",
          "2024-03-28T11:15:57+01:00",
          "2024-03-28T11:17:57+01:00",
          "2024-03-28T11:19:57+01:00",
          "2024-03-28T11:21:57+01:00",
          "2024-03-28T11:23:57+01:00",
          "2024-03-28T11:25:57+01:00",
          "2024-03-28T11:27:57+01:00",
          "2024-03-28T11:29:57+01:00",
          "2024-03-28T11:31:57+01:00",
          "2024-03-28T11:33:57+01:00",
          "2024-03-28T11:35:57+01:00",
          "2024-03-28T11:37:57+01:00",
          "2024-03-28T11:39:57+01:00",
          "2024-03-28T11:41:57+01:00",
          "2024-03-28T11:43:57+01:00",
          "2024-03-28T11:45:57+01:00",
          "2024-03-28T11:47:57+01:00",
          "2024-03-28T11:49:57+01:00",
          "2024-03-28T11:51:57+01:00",
          "2024-03-28T11:53:57+01:00",
          "2024-03-28T11:55:57+01:00",
          "2024-03-28T11:57:57+01:00",
          "2024-03-28T11:59:57+01:00",
          "2024-03-28T12:01:57+01:00",
          "2024-03-28T12:03:57+01:00",
          "2024-03-28T12:05:57+01:00",
          "2024-03-28T12:07:57+01:00",
          "2024-03-28T12:09:57+01:00",
          "2024-03-28T12:11:57+01:00",
          "2024-03-28T12:13:57+01:00",
          "2024-03-28T12:15:57+01:00",
          "2024-03-28T12:17:57+01:00",
          "2024-03-28T12:19:57+01:00",
          "2024-03-28T12:21:57+01:00",
          "2024-03-28T12:23:57+01:00",
          "2024-03-28T12:25:57+01:00",
          "2024-03-28T12:27:57+01:00",
          "2024-03-28T12:29:57+01:00",
          "2024-03-28T12:31:57+01:00",
          "2024-03-28T12:33:57+01:00",
          "2024-03-28T12:35:57+01:00",
          "2024-03-28T12:37:57+01:00",
          "2024-03-28T12:39:57+01:00",
          "2024-03-28T12:41:57+01:00",
          "2024-03-28T12:43:57+01:00",
          "2024-03-28T12:45:57+01:00",
          "2024-03-28T12:47:57+01:00",
          "2024-03-28T12:49:57+01:00",
          "2024-03-28T12:51:57+01:00",
          "2024-03-28T12:53:57+01:00",
          "2024-03-28T12:55:57+01:00",
          "2024-03-28T12:57:57+01:00",
          "2024-03-28T12:59:57+01:00",
          "2024-03-28T13:01:57+01:00",
          "2024-03-28T13:03:57+01:00",
          "2024-03-28T13:05:57+01:00",
          "2024-03-28T13:07:57+01:00",
          "2024-03-28T13:09:57+01:00",
          "2024-03-28T13:11:57+01:00",
          "2024-03-28T13:13:57+01:00",
          "2024-03-28T13:15:57+01:00",
          "2024-03-28T13:17:57+01:00",
          "2024-03-28T13:19:57+01:00",
          "2024-03-28T13:21:56+01:00",
          "2024-03-28T13:23:57+01:00",
          "2024-03-28T13:25:57+01:00",
          "2024-03-28T13:27:56+01:00",
          "2024-03-28T13:29:57+01:00",
          "2024-03-28T13:31:57+01:00",
          "2024-03-28T13:33:56+01:00",
          "2024-03-28T13:36:01+01:00",
          "2024-03-28T13:37:57+01:00",
          "2024-03-28T13:39:57+01:00",
          "2024-03-28T13:41:57+01:00",
          "2024-03-28T13:43:56+01:00",
          "2024-03-28T13:45:57+01:00",
          "2024-03-28T13:47:56+01:00",
          "2024-03-28T13:49:56+01:00",
          "2024-03-28T13:51:57+01:00",
          "2024-03-28T13:53:57+01:00",
          "2024-03-28T13:55:56+01:00",
          "2024-03-28T13:57:56+01:00",
          "2024-03-28T13:59:56+01:00"
         ],
         "y": [
          0,
          0,
          0,
          0,
          0,
          0,
          0,
          0,
          0,
          0,
          0,
          0,
          0,
          0,
          0,
          0,
          0,
          0,
          0,
          0,
          0,
          0,
          0,
          0,
          0,
          0,
          0,
          0,
          0,
          0,
          0,
          0,
          0,
          0,
          0,
          0,
          0,
          0,
          0,
          0,
          0,
          0,
          0,
          0,
          0,
          0,
          0,
          0,
          0,
          0,
          0,
          0,
          0,
          0,
          0,
          1,
          1,
          0,
          0,
          0,
          0,
          0,
          0,
          0,
          0,
          0,
          0,
          0,
          0,
          0,
          0,
          0,
          0,
          0,
          0,
          0,
          0,
          0,
          0,
          0,
          0,
          0,
          0,
          0,
          0,
          0,
          0,
          0,
          0,
          0,
          0,
          0,
          0,
          0,
          0,
          0,
          0,
          0,
          0,
          0,
          0,
          0,
          0,
          0,
          0,
          0,
          0,
          0,
          0,
          0,
          0,
          0,
          0,
          0,
          0,
          0,
          0,
          0,
          0,
          0
         ]
        },
        {
         "mode": "lines",
         "name": "866833046778889",
         "type": "scatter",
         "x": [
          "2024-03-28T09:55:15+01:00",
          "2024-03-28T09:57:15+01:00",
          "2024-03-28T09:59:15+01:00",
          "2024-03-28T10:01:15+01:00",
          "2024-03-28T10:03:15+01:00",
          "2024-03-28T10:05:19+01:00",
          "2024-03-28T10:07:15+01:00",
          "2024-03-28T10:09:15+01:00",
          "2024-03-28T10:11:15+01:00",
          "2024-03-28T10:13:15+01:00",
          "2024-03-28T10:15:15+01:00",
          "2024-03-28T10:17:15+01:00",
          "2024-03-28T10:19:15+01:00",
          "2024-03-28T10:21:15+01:00",
          "2024-03-28T10:23:15+01:00",
          "2024-03-28T10:25:15+01:00",
          "2024-03-28T10:27:15+01:00",
          "2024-03-28T10:29:15+01:00",
          "2024-03-28T10:31:15+01:00",
          "2024-03-28T10:33:15+01:00",
          "2024-03-28T10:35:15+01:00",
          "2024-03-28T10:37:19+01:00",
          "2024-03-28T10:39:15+01:00",
          "2024-03-28T10:52:45+01:00",
          "2024-03-28T10:54:45+01:00",
          "2024-03-28T10:56:45+01:00",
          "2024-03-28T10:58:45+01:00",
          "2024-03-28T11:00:45+01:00",
          "2024-03-28T11:02:45+01:00",
          "2024-03-28T11:04:45+01:00",
          "2024-03-28T11:06:45+01:00",
          "2024-03-28T11:08:45+01:00",
          "2024-03-28T11:10:45+01:00",
          "2024-03-28T11:12:45+01:00",
          "2024-03-28T11:14:45+01:00",
          "2024-03-28T11:16:45+01:00",
          "2024-03-28T11:18:45+01:00",
          "2024-03-28T11:20:45+01:00",
          "2024-03-28T11:22:45+01:00",
          "2024-03-28T11:24:45+01:00",
          "2024-03-28T11:26:45+01:00",
          "2024-03-28T11:28:45+01:00",
          "2024-03-28T11:30:45+01:00",
          "2024-03-28T11:32:45+01:00",
          "2024-03-28T11:34:45+01:00",
          "2024-03-28T11:36:45+01:00",
          "2024-03-28T11:38:45+01:00",
          "2024-03-28T11:40:45+01:00",
          "2024-03-28T11:42:46+01:00",
          "2024-03-28T11:44:45+01:00",
          "2024-03-28T11:46:45+01:00",
          "2024-03-28T11:48:45+01:00",
          "2024-03-28T11:50:45+01:00",
          "2024-03-28T11:52:45+01:00",
          "2024-03-28T11:54:45+01:00",
          "2024-03-28T11:56:45+01:00",
          "2024-03-28T11:58:45+01:00",
          "2024-03-28T12:00:45+01:00",
          "2024-03-28T12:02:45+01:00",
          "2024-03-28T12:04:45+01:00",
          "2024-03-28T12:06:45+01:00",
          "2024-03-28T12:08:45+01:00",
          "2024-03-28T12:10:45+01:00",
          "2024-03-28T12:12:45+01:00",
          "2024-03-28T12:14:45+01:00",
          "2024-03-28T12:16:45+01:00",
          "2024-03-28T12:18:46+01:00",
          "2024-03-28T12:20:45+01:00",
          "2024-03-28T12:22:45+01:00",
          "2024-03-28T12:24:48+01:00",
          "2024-03-28T12:26:45+01:00",
          "2024-03-28T12:28:45+01:00",
          "2024-03-28T12:30:45+01:00",
          "2024-03-28T12:32:45+01:00",
          "2024-03-28T12:34:45+01:00",
          "2024-03-28T12:36:45+01:00",
          "2024-03-28T12:38:45+01:00",
          "2024-03-28T12:40:45+01:00",
          "2024-03-28T12:42:45+01:00",
          "2024-03-28T12:44:45+01:00",
          "2024-03-28T12:46:45+01:00",
          "2024-03-28T12:48:45+01:00",
          "2024-03-28T12:50:45+01:00",
          "2024-03-28T12:52:45+01:00",
          "2024-03-28T12:54:45+01:00",
          "2024-03-28T12:56:45+01:00",
          "2024-03-28T12:58:45+01:00",
          "2024-03-28T13:00:44+01:00",
          "2024-03-28T13:02:44+01:00",
          "2024-03-28T13:04:44+01:00",
          "2024-03-28T13:06:45+01:00",
          "2024-03-28T13:08:45+01:00",
          "2024-03-28T13:10:45+01:00",
          "2024-03-28T13:12:44+01:00",
          "2024-03-28T13:14:44+01:00",
          "2024-03-28T13:16:44+01:00",
          "2024-03-28T13:18:45+01:00",
          "2024-03-28T13:20:44+01:00",
          "2024-03-28T13:22:45+01:00",
          "2024-03-28T13:24:45+01:00",
          "2024-03-28T13:26:45+01:00",
          "2024-03-28T13:28:44+01:00",
          "2024-03-28T13:30:44+01:00",
          "2024-03-28T13:32:45+01:00",
          "2024-03-28T13:34:44+01:00",
          "2024-03-28T13:36:45+01:00",
          "2024-03-28T13:38:45+01:00",
          "2024-03-28T13:40:45+01:00",
          "2024-03-28T13:42:45+01:00",
          "2024-03-28T13:44:45+01:00",
          "2024-03-28T13:46:44+01:00",
          "2024-03-28T13:48:44+01:00",
          "2024-03-28T13:50:45+01:00",
          "2024-03-28T13:52:44+01:00",
          "2024-03-28T13:54:44+01:00",
          "2024-03-28T13:56:44+01:00",
          "2024-03-28T13:58:45+01:00",
          "2024-03-28T14:00:44+01:00"
         ],
         "y": [
          0,
          0,
          0,
          0,
          0,
          0,
          0,
          0,
          0,
          0,
          0,
          0,
          0,
          0,
          0,
          0,
          0,
          0,
          0,
          0,
          0,
          0,
          0,
          0,
          0,
          0,
          0,
          0,
          0,
          0,
          0,
          0,
          0,
          0,
          0,
          0,
          0,
          0,
          0,
          0,
          0,
          0,
          0,
          0,
          0,
          0,
          0,
          0,
          0,
          0,
          0,
          0,
          1,
          1,
          1,
          0,
          0,
          0,
          0,
          0,
          0,
          0,
          0,
          0,
          0,
          0,
          0,
          0,
          0,
          0,
          0,
          0,
          0,
          0,
          0,
          0,
          0,
          0,
          0,
          0,
          0,
          0,
          0,
          0,
          0,
          0,
          0,
          0,
          0,
          0,
          0,
          0,
          0,
          0,
          0,
          0,
          0,
          0,
          0,
          0,
          0,
          0,
          0,
          0,
          0,
          0,
          0,
          0,
          0,
          0,
          0,
          0,
          0,
          0,
          0,
          0,
          0,
          0
         ]
        },
        {
         "mode": "lines",
         "name": "866833046798499",
         "type": "scatter",
         "x": [
          "2024-03-28T09:55:18+01:00",
          "2024-03-28T09:57:18+01:00",
          "2024-03-28T09:59:19+01:00",
          "2024-03-28T10:01:19+01:00",
          "2024-03-28T10:03:18+01:00",
          "2024-03-28T10:06:30+01:00",
          "2024-03-28T10:08:31+01:00",
          "2024-03-28T10:10:34+01:00",
          "2024-03-28T10:12:31+01:00",
          "2024-03-28T10:14:31+01:00",
          "2024-03-28T10:16:31+01:00",
          "2024-03-28T10:18:31+01:00",
          "2024-03-28T10:20:31+01:00",
          "2024-03-28T10:22:31+01:00",
          "2024-03-28T10:24:31+01:00",
          "2024-03-28T10:26:31+01:00",
          "2024-03-28T10:28:31+01:00",
          "2024-03-28T10:30:31+01:00",
          "2024-03-28T10:32:32+01:00",
          "2024-03-28T10:34:31+01:00",
          "2024-03-28T10:36:31+01:00",
          "2024-03-28T10:38:30+01:00",
          "2024-03-28T10:40:30+01:00",
          "2024-03-28T10:48:04+01:00",
          "2024-03-28T10:50:04+01:00",
          "2024-03-28T10:52:04+01:00",
          "2024-03-28T10:54:04+01:00",
          "2024-03-28T10:56:04+01:00",
          "2024-03-28T10:58:04+01:00",
          "2024-03-28T11:00:04+01:00",
          "2024-03-28T11:02:04+01:00",
          "2024-03-28T11:04:04+01:00",
          "2024-03-28T11:06:04+01:00",
          "2024-03-28T11:08:04+01:00",
          "2024-03-28T11:10:04+01:00",
          "2024-03-28T11:12:04+01:00",
          "2024-03-28T11:14:04+01:00",
          "2024-03-28T11:16:04+01:00",
          "2024-03-28T11:18:04+01:00",
          "2024-03-28T11:20:04+01:00",
          "2024-03-28T11:22:04+01:00",
          "2024-03-28T11:24:04+01:00",
          "2024-03-28T11:26:04+01:00",
          "2024-03-28T11:28:05+01:00",
          "2024-03-28T11:30:04+01:00",
          "2024-03-28T11:32:04+01:00",
          "2024-03-28T11:34:04+01:00",
          "2024-03-28T11:36:04+01:00",
          "2024-03-28T11:38:04+01:00",
          "2024-03-28T11:40:04+01:00",
          "2024-03-28T11:42:04+01:00",
          "2024-03-28T11:44:04+01:00",
          "2024-03-28T11:46:04+01:00",
          "2024-03-28T11:48:04+01:00",
          "2024-03-28T11:50:04+01:00",
          "2024-03-28T11:52:07+01:00",
          "2024-03-28T11:54:04+01:00",
          "2024-03-28T11:56:04+01:00",
          "2024-03-28T11:58:04+01:00",
          "2024-03-28T12:00:04+01:00",
          "2024-03-28T12:02:04+01:00",
          "2024-03-28T12:04:04+01:00",
          "2024-03-28T12:06:04+01:00",
          "2024-03-28T12:08:04+01:00",
          "2024-03-28T12:10:04+01:00",
          "2024-03-28T12:12:04+01:00",
          "2024-03-28T12:14:04+01:00",
          "2024-03-28T12:16:04+01:00",
          "2024-03-28T12:18:04+01:00",
          "2024-03-28T12:20:04+01:00",
          "2024-03-28T12:22:04+01:00",
          "2024-03-28T12:24:04+01:00",
          "2024-03-28T12:26:04+01:00",
          "2024-03-28T12:28:04+01:00",
          "2024-03-28T12:30:04+01:00",
          "2024-03-28T12:32:04+01:00",
          "2024-03-28T12:34:04+01:00",
          "2024-03-28T12:36:04+01:00",
          "2024-03-28T12:38:04+01:00",
          "2024-03-28T12:40:04+01:00",
          "2024-03-28T12:42:04+01:00",
          "2024-03-28T12:44:04+01:00",
          "2024-03-28T12:46:04+01:00",
          "2024-03-28T12:48:04+01:00",
          "2024-03-28T12:50:04+01:00",
          "2024-03-28T12:52:07+01:00",
          "2024-03-28T12:54:04+01:00",
          "2024-03-28T12:56:07+01:00",
          "2024-03-28T12:58:04+01:00",
          "2024-03-28T13:00:04+01:00",
          "2024-03-28T13:02:04+01:00",
          "2024-03-28T13:04:04+01:00",
          "2024-03-28T13:06:04+01:00",
          "2024-03-28T13:08:04+01:00",
          "2024-03-28T13:10:04+01:00",
          "2024-03-28T13:12:04+01:00",
          "2024-03-28T13:14:04+01:00",
          "2024-03-28T13:16:04+01:00",
          "2024-03-28T13:18:04+01:00",
          "2024-03-28T13:20:04+01:00",
          "2024-03-28T13:22:04+01:00",
          "2024-03-28T13:24:04+01:00",
          "2024-03-28T13:26:04+01:00",
          "2024-03-28T13:28:04+01:00",
          "2024-03-28T13:30:04+01:00",
          "2024-03-28T13:32:04+01:00",
          "2024-03-28T13:34:04+01:00",
          "2024-03-28T13:36:04+01:00",
          "2024-03-28T13:38:04+01:00",
          "2024-03-28T13:40:04+01:00",
          "2024-03-28T13:42:04+01:00",
          "2024-03-28T13:44:04+01:00",
          "2024-03-28T13:46:04+01:00",
          "2024-03-28T13:48:04+01:00",
          "2024-03-28T13:50:04+01:00",
          "2024-03-28T13:52:04+01:00",
          "2024-03-28T13:54:04+01:00",
          "2024-03-28T13:56:04+01:00",
          "2024-03-28T13:58:04+01:00",
          "2024-03-28T14:00:04+01:00"
         ],
         "y": [
          0,
          0,
          0,
          0,
          0,
          0,
          0,
          0,
          0,
          0,
          0,
          0,
          0,
          0,
          0,
          0,
          0,
          0,
          0,
          0,
          0,
          0,
          0,
          0,
          0,
          0,
          0,
          0,
          0,
          0,
          0,
          0,
          0,
          0,
          0,
          0,
          0,
          0,
          0,
          0,
          0,
          0,
          0,
          0,
          0,
          0,
          0,
          0,
          0,
          0,
          0,
          0,
          0,
          0,
          0,
          1,
          1,
          0,
          0,
          0,
          0,
          0,
          0,
          0,
          0,
          0,
          0,
          0,
          0,
          0,
          0,
          0,
          0,
          0,
          0,
          0,
          0,
          0,
          0,
          0,
          0,
          0,
          0,
          0,
          0,
          0,
          0,
          0,
          0,
          0,
          0,
          0,
          0,
          0,
          0,
          0,
          0,
          0,
          0,
          0,
          0,
          0,
          0,
          0,
          0,
          0,
          0,
          0,
          0,
          0,
          0,
          0,
          0,
          0,
          0,
          0,
          0,
          0,
          0,
          0
         ]
        }
       ],
       "layout": {
        "legend": {
         "title": {
          "text": "3 passage(s) vs time "
         }
        },
        "template": {
         "data": {
          "bar": [
           {
            "error_x": {
             "color": "#2a3f5f"
            },
            "error_y": {
             "color": "#2a3f5f"
            },
            "marker": {
             "line": {
              "color": "#E5ECF6",
              "width": 0.5
             },
             "pattern": {
              "fillmode": "overlay",
              "size": 10,
              "solidity": 0.2
             }
            },
            "type": "bar"
           }
          ],
          "barpolar": [
           {
            "marker": {
             "line": {
              "color": "#E5ECF6",
              "width": 0.5
             },
             "pattern": {
              "fillmode": "overlay",
              "size": 10,
              "solidity": 0.2
             }
            },
            "type": "barpolar"
           }
          ],
          "carpet": [
           {
            "aaxis": {
             "endlinecolor": "#2a3f5f",
             "gridcolor": "white",
             "linecolor": "white",
             "minorgridcolor": "white",
             "startlinecolor": "#2a3f5f"
            },
            "baxis": {
             "endlinecolor": "#2a3f5f",
             "gridcolor": "white",
             "linecolor": "white",
             "minorgridcolor": "white",
             "startlinecolor": "#2a3f5f"
            },
            "type": "carpet"
           }
          ],
          "choropleth": [
           {
            "colorbar": {
             "outlinewidth": 0,
             "ticks": ""
            },
            "type": "choropleth"
           }
          ],
          "contour": [
           {
            "colorbar": {
             "outlinewidth": 0,
             "ticks": ""
            },
            "colorscale": [
             [
              0,
              "#0d0887"
             ],
             [
              0.1111111111111111,
              "#46039f"
             ],
             [
              0.2222222222222222,
              "#7201a8"
             ],
             [
              0.3333333333333333,
              "#9c179e"
             ],
             [
              0.4444444444444444,
              "#bd3786"
             ],
             [
              0.5555555555555556,
              "#d8576b"
             ],
             [
              0.6666666666666666,
              "#ed7953"
             ],
             [
              0.7777777777777778,
              "#fb9f3a"
             ],
             [
              0.8888888888888888,
              "#fdca26"
             ],
             [
              1,
              "#f0f921"
             ]
            ],
            "type": "contour"
           }
          ],
          "contourcarpet": [
           {
            "colorbar": {
             "outlinewidth": 0,
             "ticks": ""
            },
            "type": "contourcarpet"
           }
          ],
          "heatmap": [
           {
            "colorbar": {
             "outlinewidth": 0,
             "ticks": ""
            },
            "colorscale": [
             [
              0,
              "#0d0887"
             ],
             [
              0.1111111111111111,
              "#46039f"
             ],
             [
              0.2222222222222222,
              "#7201a8"
             ],
             [
              0.3333333333333333,
              "#9c179e"
             ],
             [
              0.4444444444444444,
              "#bd3786"
             ],
             [
              0.5555555555555556,
              "#d8576b"
             ],
             [
              0.6666666666666666,
              "#ed7953"
             ],
             [
              0.7777777777777778,
              "#fb9f3a"
             ],
             [
              0.8888888888888888,
              "#fdca26"
             ],
             [
              1,
              "#f0f921"
             ]
            ],
            "type": "heatmap"
           }
          ],
          "heatmapgl": [
           {
            "colorbar": {
             "outlinewidth": 0,
             "ticks": ""
            },
            "colorscale": [
             [
              0,
              "#0d0887"
             ],
             [
              0.1111111111111111,
              "#46039f"
             ],
             [
              0.2222222222222222,
              "#7201a8"
             ],
             [
              0.3333333333333333,
              "#9c179e"
             ],
             [
              0.4444444444444444,
              "#bd3786"
             ],
             [
              0.5555555555555556,
              "#d8576b"
             ],
             [
              0.6666666666666666,
              "#ed7953"
             ],
             [
              0.7777777777777778,
              "#fb9f3a"
             ],
             [
              0.8888888888888888,
              "#fdca26"
             ],
             [
              1,
              "#f0f921"
             ]
            ],
            "type": "heatmapgl"
           }
          ],
          "histogram": [
           {
            "marker": {
             "pattern": {
              "fillmode": "overlay",
              "size": 10,
              "solidity": 0.2
             }
            },
            "type": "histogram"
           }
          ],
          "histogram2d": [
           {
            "colorbar": {
             "outlinewidth": 0,
             "ticks": ""
            },
            "colorscale": [
             [
              0,
              "#0d0887"
             ],
             [
              0.1111111111111111,
              "#46039f"
             ],
             [
              0.2222222222222222,
              "#7201a8"
             ],
             [
              0.3333333333333333,
              "#9c179e"
             ],
             [
              0.4444444444444444,
              "#bd3786"
             ],
             [
              0.5555555555555556,
              "#d8576b"
             ],
             [
              0.6666666666666666,
              "#ed7953"
             ],
             [
              0.7777777777777778,
              "#fb9f3a"
             ],
             [
              0.8888888888888888,
              "#fdca26"
             ],
             [
              1,
              "#f0f921"
             ]
            ],
            "type": "histogram2d"
           }
          ],
          "histogram2dcontour": [
           {
            "colorbar": {
             "outlinewidth": 0,
             "ticks": ""
            },
            "colorscale": [
             [
              0,
              "#0d0887"
             ],
             [
              0.1111111111111111,
              "#46039f"
             ],
             [
              0.2222222222222222,
              "#7201a8"
             ],
             [
              0.3333333333333333,
              "#9c179e"
             ],
             [
              0.4444444444444444,
              "#bd3786"
             ],
             [
              0.5555555555555556,
              "#d8576b"
             ],
             [
              0.6666666666666666,
              "#ed7953"
             ],
             [
              0.7777777777777778,
              "#fb9f3a"
             ],
             [
              0.8888888888888888,
              "#fdca26"
             ],
             [
              1,
              "#f0f921"
             ]
            ],
            "type": "histogram2dcontour"
           }
          ],
          "mesh3d": [
           {
            "colorbar": {
             "outlinewidth": 0,
             "ticks": ""
            },
            "type": "mesh3d"
           }
          ],
          "parcoords": [
           {
            "line": {
             "colorbar": {
              "outlinewidth": 0,
              "ticks": ""
             }
            },
            "type": "parcoords"
           }
          ],
          "pie": [
           {
            "automargin": true,
            "type": "pie"
           }
          ],
          "scatter": [
           {
            "fillpattern": {
             "fillmode": "overlay",
             "size": 10,
             "solidity": 0.2
            },
            "type": "scatter"
           }
          ],
          "scatter3d": [
           {
            "line": {
             "colorbar": {
              "outlinewidth": 0,
              "ticks": ""
             }
            },
            "marker": {
             "colorbar": {
              "outlinewidth": 0,
              "ticks": ""
             }
            },
            "type": "scatter3d"
           }
          ],
          "scattercarpet": [
           {
            "marker": {
             "colorbar": {
              "outlinewidth": 0,
              "ticks": ""
             }
            },
            "type": "scattercarpet"
           }
          ],
          "scattergeo": [
           {
            "marker": {
             "colorbar": {
              "outlinewidth": 0,
              "ticks": ""
             }
            },
            "type": "scattergeo"
           }
          ],
          "scattergl": [
           {
            "marker": {
             "colorbar": {
              "outlinewidth": 0,
              "ticks": ""
             }
            },
            "type": "scattergl"
           }
          ],
          "scattermapbox": [
           {
            "marker": {
             "colorbar": {
              "outlinewidth": 0,
              "ticks": ""
             }
            },
            "type": "scattermapbox"
           }
          ],
          "scatterpolar": [
           {
            "marker": {
             "colorbar": {
              "outlinewidth": 0,
              "ticks": ""
             }
            },
            "type": "scatterpolar"
           }
          ],
          "scatterpolargl": [
           {
            "marker": {
             "colorbar": {
              "outlinewidth": 0,
              "ticks": ""
             }
            },
            "type": "scatterpolargl"
           }
          ],
          "scatterternary": [
           {
            "marker": {
             "colorbar": {
              "outlinewidth": 0,
              "ticks": ""
             }
            },
            "type": "scatterternary"
           }
          ],
          "surface": [
           {
            "colorbar": {
             "outlinewidth": 0,
             "ticks": ""
            },
            "colorscale": [
             [
              0,
              "#0d0887"
             ],
             [
              0.1111111111111111,
              "#46039f"
             ],
             [
              0.2222222222222222,
              "#7201a8"
             ],
             [
              0.3333333333333333,
              "#9c179e"
             ],
             [
              0.4444444444444444,
              "#bd3786"
             ],
             [
              0.5555555555555556,
              "#d8576b"
             ],
             [
              0.6666666666666666,
              "#ed7953"
             ],
             [
              0.7777777777777778,
              "#fb9f3a"
             ],
             [
              0.8888888888888888,
              "#fdca26"
             ],
             [
              1,
              "#f0f921"
             ]
            ],
            "type": "surface"
           }
          ],
          "table": [
           {
            "cells": {
             "fill": {
              "color": "#EBF0F8"
             },
             "line": {
              "color": "white"
             }
            },
            "header": {
             "fill": {
              "color": "#C8D4E3"
             },
             "line": {
              "color": "white"
             }
            },
            "type": "table"
           }
          ]
         },
         "layout": {
          "annotationdefaults": {
           "arrowcolor": "#2a3f5f",
           "arrowhead": 0,
           "arrowwidth": 1
          },
          "autotypenumbers": "strict",
          "coloraxis": {
           "colorbar": {
            "outlinewidth": 0,
            "ticks": ""
           }
          },
          "colorscale": {
           "diverging": [
            [
             0,
             "#8e0152"
            ],
            [
             0.1,
             "#c51b7d"
            ],
            [
             0.2,
             "#de77ae"
            ],
            [
             0.3,
             "#f1b6da"
            ],
            [
             0.4,
             "#fde0ef"
            ],
            [
             0.5,
             "#f7f7f7"
            ],
            [
             0.6,
             "#e6f5d0"
            ],
            [
             0.7,
             "#b8e186"
            ],
            [
             0.8,
             "#7fbc41"
            ],
            [
             0.9,
             "#4d9221"
            ],
            [
             1,
             "#276419"
            ]
           ],
           "sequential": [
            [
             0,
             "#0d0887"
            ],
            [
             0.1111111111111111,
             "#46039f"
            ],
            [
             0.2222222222222222,
             "#7201a8"
            ],
            [
             0.3333333333333333,
             "#9c179e"
            ],
            [
             0.4444444444444444,
             "#bd3786"
            ],
            [
             0.5555555555555556,
             "#d8576b"
            ],
            [
             0.6666666666666666,
             "#ed7953"
            ],
            [
             0.7777777777777778,
             "#fb9f3a"
            ],
            [
             0.8888888888888888,
             "#fdca26"
            ],
            [
             1,
             "#f0f921"
            ]
           ],
           "sequentialminus": [
            [
             0,
             "#0d0887"
            ],
            [
             0.1111111111111111,
             "#46039f"
            ],
            [
             0.2222222222222222,
             "#7201a8"
            ],
            [
             0.3333333333333333,
             "#9c179e"
            ],
            [
             0.4444444444444444,
             "#bd3786"
            ],
            [
             0.5555555555555556,
             "#d8576b"
            ],
            [
             0.6666666666666666,
             "#ed7953"
            ],
            [
             0.7777777777777778,
             "#fb9f3a"
            ],
            [
             0.8888888888888888,
             "#fdca26"
            ],
            [
             1,
             "#f0f921"
            ]
           ]
          },
          "colorway": [
           "#636efa",
           "#EF553B",
           "#00cc96",
           "#ab63fa",
           "#FFA15A",
           "#19d3f3",
           "#FF6692",
           "#B6E880",
           "#FF97FF",
           "#FECB52"
          ],
          "font": {
           "color": "#2a3f5f"
          },
          "geo": {
           "bgcolor": "white",
           "lakecolor": "white",
           "landcolor": "#E5ECF6",
           "showlakes": true,
           "showland": true,
           "subunitcolor": "white"
          },
          "hoverlabel": {
           "align": "left"
          },
          "hovermode": "closest",
          "mapbox": {
           "style": "light"
          },
          "paper_bgcolor": "white",
          "plot_bgcolor": "#E5ECF6",
          "polar": {
           "angularaxis": {
            "gridcolor": "white",
            "linecolor": "white",
            "ticks": ""
           },
           "bgcolor": "#E5ECF6",
           "radialaxis": {
            "gridcolor": "white",
            "linecolor": "white",
            "ticks": ""
           }
          },
          "scene": {
           "xaxis": {
            "backgroundcolor": "#E5ECF6",
            "gridcolor": "white",
            "gridwidth": 2,
            "linecolor": "white",
            "showbackground": true,
            "ticks": "",
            "zerolinecolor": "white"
           },
           "yaxis": {
            "backgroundcolor": "#E5ECF6",
            "gridcolor": "white",
            "gridwidth": 2,
            "linecolor": "white",
            "showbackground": true,
            "ticks": "",
            "zerolinecolor": "white"
           },
           "zaxis": {
            "backgroundcolor": "#E5ECF6",
            "gridcolor": "white",
            "gridwidth": 2,
            "linecolor": "white",
            "showbackground": true,
            "ticks": "",
            "zerolinecolor": "white"
           }
          },
          "shapedefaults": {
           "line": {
            "color": "#2a3f5f"
           }
          },
          "ternary": {
           "aaxis": {
            "gridcolor": "white",
            "linecolor": "white",
            "ticks": ""
           },
           "baxis": {
            "gridcolor": "white",
            "linecolor": "white",
            "ticks": ""
           },
           "bgcolor": "#E5ECF6",
           "caxis": {
            "gridcolor": "white",
            "linecolor": "white",
            "ticks": ""
           }
          },
          "title": {
           "x": 0.05
          },
          "xaxis": {
           "automargin": true,
           "gridcolor": "white",
           "linecolor": "white",
           "ticks": "",
           "title": {
            "standoff": 15
           },
           "zerolinecolor": "white",
           "zerolinewidth": 2
          },
          "yaxis": {
           "automargin": true,
           "gridcolor": "white",
           "linecolor": "white",
           "ticks": "",
           "title": {
            "standoff": 15
           },
           "zerolinecolor": "white",
           "zerolinewidth": 2
          }
         }
        },
        "xaxis": {
         "title": {
          "text": "Time "
         }
        },
        "yaxis": {
         "title": {
          "text": "3 passage(s)"
         }
        }
       }
      }
     },
     "metadata": {},
     "output_type": "display_data"
    }
   ],
   "source": [
    "graphe_capteurs(indicateur=\"3 passage(s)\",df=df_capteur_entreprise)"
   ]
  },
  {
   "cell_type": "code",
   "execution_count": 15,
   "metadata": {},
   "outputs": [
    {
     "data": {
      "image/png": "[encoded data removed]",
      "text/plain": [
       "<Figure size 640x480 with 2 Axes>"
      ]
     },
     "metadata": {},
     "output_type": "display_data"
    },
    {
     "data": {
      "image/png": "[encoded data removed]",
      "text/plain": [
       "<Figure size 640x480 with 2 Axes>"
      ]
     },
     "metadata": {},
     "output_type": "display_data"
    },
    {
     "data": {
      "image/png": "[encoded data removed]",
      "text/plain": [
       "<Figure size 640x480 with 2 Axes>"
      ]
     },
     "metadata": {},
     "output_type": "display_data"
    },
    {
     "data": {
      "image/png": "[encoded data removed]",
      "text/plain": [
       "<Figure size 640x480 with 2 Axes>"
      ]
     },
     "metadata": {},
     "output_type": "display_data"
    }
   ],
   "source": [
    "correlation_pm25(df_capteur_entreprise,local_maximum=False)"
   ]
  }
 ],
 "metadata": {
  "kernelspec": {
   "display_name": "Python 3",
   "language": "python",
   "name": "python3"
  },
  "language_info": {
   "codemirror_mode": {
    "name": "ipython",
    "version": 3
   },
   "file_extension": ".py",
   "mimetype": "text/x-python",
   "name": "python",
   "nbconvert_exporter": "python",
   "pygments_lexer": "ipython3",
   "version": "3.11.8"
  }
 },
 "nbformat": 4,
 "nbformat_minor": 2
}
