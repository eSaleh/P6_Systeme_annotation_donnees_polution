{
 "cells": [
  {
   "cell_type": "markdown",
   "metadata": {},
   "source": [
    "Fonction qui permet de prendre des photos avec un délais en secondes cf doc : https://docs.python.org/3/library/time.html#time.sleep"
   ]
  },
  {
   "cell_type": "code",
   "execution_count": 1,
   "metadata": {},
   "outputs": [
    {
     "ename": "FileNotFoundError",
     "evalue": "Could not find module 'libmmal.so' (or one of its dependencies). Try using the full path with constructor syntax.",
     "output_type": "error",
     "traceback": [
      "\u001b[1;31m---------------------------------------------------------------------------\u001b[0m",
      "\u001b[1;31mFileNotFoundError\u001b[0m                         Traceback (most recent call last)",
      "Cell \u001b[1;32mIn[1], line 2\u001b[0m\n\u001b[0;32m      1\u001b[0m \u001b[38;5;28;01mimport\u001b[39;00m \u001b[38;5;21;01mtime\u001b[39;00m\n\u001b[1;32m----> 2\u001b[0m \u001b[38;5;28;01mimport\u001b[39;00m \u001b[38;5;21;01mpicamera\u001b[39;00m\n",
      "File \u001b[1;32m~\\AppData\\Local\\Packages\\PythonSoftwareFoundation.Python.3.11_qbz5n2kfra8p0\\LocalCache\\local-packages\\Python311\\site-packages\\picamera\\__init__.py:72\u001b[0m\n\u001b[0;32m     69\u001b[0m \u001b[38;5;66;03m# Make Py2's str equivalent to Py3's\u001b[39;00m\n\u001b[0;32m     70\u001b[0m \u001b[38;5;28mstr\u001b[39m \u001b[38;5;241m=\u001b[39m \u001b[38;5;28mtype\u001b[39m(\u001b[38;5;124m'\u001b[39m\u001b[38;5;124m'\u001b[39m)\n\u001b[1;32m---> 72\u001b[0m \u001b[38;5;28;01mfrom\u001b[39;00m \u001b[38;5;21;01mpicamera\u001b[39;00m\u001b[38;5;21;01m.\u001b[39;00m\u001b[38;5;21;01mexc\u001b[39;00m \u001b[38;5;28;01mimport\u001b[39;00m (\n\u001b[0;32m     73\u001b[0m     PiCameraWarning,\n\u001b[0;32m     74\u001b[0m     PiCameraDeprecated,\n\u001b[0;32m     75\u001b[0m     PiCameraFallback,\n\u001b[0;32m     76\u001b[0m     PiCameraAlphaStripping,\n\u001b[0;32m     77\u001b[0m     PiCameraResizerEncoding,\n\u001b[0;32m     78\u001b[0m     PiCameraError,\n\u001b[0;32m     79\u001b[0m     PiCameraRuntimeError,\n\u001b[0;32m     80\u001b[0m     PiCameraClosed,\n\u001b[0;32m     81\u001b[0m     PiCameraNotRecording,\n\u001b[0;32m     82\u001b[0m     PiCameraAlreadyRecording,\n\u001b[0;32m     83\u001b[0m     PiCameraValueError,\n\u001b[0;32m     84\u001b[0m     PiCameraMMALError,\n\u001b[0;32m     85\u001b[0m     mmal_check,\n\u001b[0;32m     86\u001b[0m     )\n\u001b[0;32m     87\u001b[0m \u001b[38;5;28;01mfrom\u001b[39;00m \u001b[38;5;21;01mpicamera\u001b[39;00m\u001b[38;5;21;01m.\u001b[39;00m\u001b[38;5;21;01mcamera\u001b[39;00m \u001b[38;5;28;01mimport\u001b[39;00m PiCamera\n\u001b[0;32m     88\u001b[0m \u001b[38;5;28;01mfrom\u001b[39;00m \u001b[38;5;21;01mpicamera\u001b[39;00m\u001b[38;5;21;01m.\u001b[39;00m\u001b[38;5;21;01mframes\u001b[39;00m \u001b[38;5;28;01mimport\u001b[39;00m PiVideoFrame, PiVideoFrameType\n",
      "File \u001b[1;32m~\\AppData\\Local\\Packages\\PythonSoftwareFoundation.Python.3.11_qbz5n2kfra8p0\\LocalCache\\local-packages\\Python311\\site-packages\\picamera\\exc.py:41\u001b[0m\n\u001b[0;32m     37\u001b[0m \u001b[38;5;66;03m# Make Py2's str equivalent to Py3's\u001b[39;00m\n\u001b[0;32m     38\u001b[0m \u001b[38;5;28mstr\u001b[39m \u001b[38;5;241m=\u001b[39m \u001b[38;5;28mtype\u001b[39m(\u001b[38;5;124m'\u001b[39m\u001b[38;5;124m'\u001b[39m)\n\u001b[1;32m---> 41\u001b[0m \u001b[38;5;28;01mimport\u001b[39;00m \u001b[38;5;21;01mpicamera\u001b[39;00m\u001b[38;5;21;01m.\u001b[39;00m\u001b[38;5;21;01mmmal\u001b[39;00m \u001b[38;5;28;01mas\u001b[39;00m \u001b[38;5;21;01mmmal\u001b[39;00m\n\u001b[0;32m     44\u001b[0m \u001b[38;5;28;01mclass\u001b[39;00m \u001b[38;5;21;01mPiCameraWarning\u001b[39;00m(\u001b[38;5;167;01mWarning\u001b[39;00m):\n\u001b[0;32m     45\u001b[0m \u001b[38;5;250m    \u001b[39m\u001b[38;5;124;03m\"\"\"\u001b[39;00m\n\u001b[0;32m     46\u001b[0m \u001b[38;5;124;03m    Base class for PiCamera warnings.\u001b[39;00m\n\u001b[0;32m     47\u001b[0m \u001b[38;5;124;03m    \"\"\"\u001b[39;00m\n",
      "File \u001b[1;32m~\\AppData\\Local\\Packages\\PythonSoftwareFoundation.Python.3.11_qbz5n2kfra8p0\\LocalCache\\local-packages\\Python311\\site-packages\\picamera\\mmal.py:47\u001b[0m\n\u001b[0;32m     44\u001b[0m \u001b[38;5;28;01mimport\u001b[39;00m \u001b[38;5;21;01mctypes\u001b[39;00m \u001b[38;5;28;01mas\u001b[39;00m \u001b[38;5;21;01mct\u001b[39;00m\n\u001b[0;32m     45\u001b[0m \u001b[38;5;28;01mimport\u001b[39;00m \u001b[38;5;21;01mwarnings\u001b[39;00m\n\u001b[1;32m---> 47\u001b[0m _lib \u001b[38;5;241m=\u001b[39m \u001b[43mct\u001b[49m\u001b[38;5;241;43m.\u001b[39;49m\u001b[43mCDLL\u001b[49m\u001b[43m(\u001b[49m\u001b[38;5;124;43m'\u001b[39;49m\u001b[38;5;124;43mlibmmal.so\u001b[39;49m\u001b[38;5;124;43m'\u001b[39;49m\u001b[43m)\u001b[49m\n\u001b[0;32m     49\u001b[0m \u001b[38;5;66;03m# vcos_platform.h ############################################################\u001b[39;00m\n\u001b[0;32m     51\u001b[0m VCOS_UNSIGNED \u001b[38;5;241m=\u001b[39m ct\u001b[38;5;241m.\u001b[39mc_uint32\n",
      "File \u001b[1;32mC:\\Program Files\\WindowsApps\\PythonSoftwareFoundation.Python.3.11_3.11.2288.0_x64__qbz5n2kfra8p0\\Lib\\ctypes\\__init__.py:376\u001b[0m, in \u001b[0;36mCDLL.__init__\u001b[1;34m(self, name, mode, handle, use_errno, use_last_error, winmode)\u001b[0m\n\u001b[0;32m    373\u001b[0m \u001b[38;5;28mself\u001b[39m\u001b[38;5;241m.\u001b[39m_FuncPtr \u001b[38;5;241m=\u001b[39m _FuncPtr\n\u001b[0;32m    375\u001b[0m \u001b[38;5;28;01mif\u001b[39;00m handle \u001b[38;5;129;01mis\u001b[39;00m \u001b[38;5;28;01mNone\u001b[39;00m:\n\u001b[1;32m--> 376\u001b[0m     \u001b[38;5;28mself\u001b[39m\u001b[38;5;241m.\u001b[39m_handle \u001b[38;5;241m=\u001b[39m \u001b[43m_dlopen\u001b[49m\u001b[43m(\u001b[49m\u001b[38;5;28;43mself\u001b[39;49m\u001b[38;5;241;43m.\u001b[39;49m\u001b[43m_name\u001b[49m\u001b[43m,\u001b[49m\u001b[43m \u001b[49m\u001b[43mmode\u001b[49m\u001b[43m)\u001b[49m\n\u001b[0;32m    377\u001b[0m \u001b[38;5;28;01melse\u001b[39;00m:\n\u001b[0;32m    378\u001b[0m     \u001b[38;5;28mself\u001b[39m\u001b[38;5;241m.\u001b[39m_handle \u001b[38;5;241m=\u001b[39m handle\n",
      "\u001b[1;31mFileNotFoundError\u001b[0m: Could not find module 'libmmal.so' (or one of its dependencies). Try using the full path with constructor syntax."
     ]
    }
   ],
   "source": [
    "import time\n",
    "import picamera"
   ]
  },
  {
   "cell_type": "code",
   "execution_count": null,
   "metadata": {},
   "outputs": [],
   "source": [
    "picamera.__version__"
   ]
  },
  {
   "cell_type": "code",
   "execution_count": null,
   "metadata": {},
   "outputs": [],
   "source": [
    "import time\n",
    "import picamera\n",
    "\n",
    "def capture_image(output_file):\n",
    "    with picamera.PiCamera() as camera:\n",
    "        # Optional: Set camera resolution\n",
    "        # camera.resolution = (1280, 720)\n",
    "        \n",
    "        # Optional: Set camera rotation (0, 90, 180, or 270 degrees)\n",
    "        # camera.rotation = 90\n",
    "        \n",
    "        # Capture an image\n",
    "        camera.start_preview()\n",
    "        # Add a delay if needed to let the camera adjust to lighting conditions\n",
    "        time.sleep(2)\n",
    "        camera.capture(output_file)\n",
    "        camera.stop_preview()\n",
    "\n",
    "if __name__ == \"__main__\":\n",
    "    output_file = \"image.jpg\"  # Change this to the desired output filename\n",
    "    capture_image(output_file)\n",
    "    print(f\"Image captured and saved as {output_file}\")\n"
   ]
  },
  {
   "cell_type": "markdown",
   "metadata": {},
   "source": [
    "La même chose mais pour une vidéo"
   ]
  },
  {
   "cell_type": "code",
   "execution_count": null,
   "metadata": {},
   "outputs": [],
   "source": [
    "import picamera\n",
    "from time import sleep\n",
    "\n",
    "def capture_video(output_file, duration):\n",
    "    with picamera.PiCamera() as camera:\n",
    "        # Optional: Set camera resolution\n",
    "        # camera.resolution = (1280, 720)\n",
    "        \n",
    "        # Optional: Set camera rotation (0, 90, 180, or 270 degrees)\n",
    "        # camera.rotation = 90\n",
    "        \n",
    "        camera.start_recording(output_file)\n",
    "        sleep(duration)\n",
    "        camera.stop_recording()\n",
    "\n",
    "if __name__ == \"__main__\":\n",
    "    output_file = \"video.h264\"  # Change this to the desired output filename\n",
    "    duration = 10  # Change this to the desired duration of the video in seconds\n",
    "    capture_video(output_file, duration)\n",
    "    print(f\"Video captured and saved as {output_file}\")\n"
   ]
  },
  {
   "cell_type": "markdown",
   "metadata": {},
   "source": [
    "Un premier système d'annotation utilisant yolov3"
   ]
  },
  {
   "cell_type": "code",
   "execution_count": null,
   "metadata": {},
   "outputs": [],
   "source": [
    "import cv2\n",
    "import numpy as np\n",
    "import picamera\n",
    "import picamera.array\n",
    "\n",
    "def track_objects(camera_resolution=(640, 480)):\n",
    "    # Charger le modèle de détection d'objets (exemple : YOLOv3)\n",
    "    net = cv2.dnn.readNet(\"yolov3.weights\", \"yolov3.cfg\")\n",
    "    classes = []\n",
    "    with open(\"coco.names\", \"r\") as f:\n",
    "        classes = [line.strip() for line in f.readlines()]\n",
    "    layer_names = net.getLayerNames()\n",
    "    output_layers = [layer_names[i[0] - 1] for i in net.getUnconnectedOutLayers()]\n",
    "\n",
    "    # Initialiser le suivi de Centroid\n",
    "    trackers = cv2.MultiTracker_create()\n",
    "\n",
    "    with picamera.PiCamera() as camera:\n",
    "        camera.resolution = camera_resolution\n",
    "        with picamera.array.PiRGBArray(camera) as stream:\n",
    "            for frame in camera.capture_continuous(stream, format='bgr', use_video_port=True):\n",
    "                img = frame.array\n",
    "\n",
    "                if len(trackers.getObjects()) == 0:\n",
    "                    # Pas de suivi en cours, détecter les objets\n",
    "                    blob = cv2.dnn.blobFromImage(img, 0.00392, (416, 416), (0, 0, 0), True, crop=False)\n",
    "                    net.setInput(blob)\n",
    "                    outs = net.forward(output_layers)\n",
    "\n",
    "                    # Traiter les détections\n",
    "                    boxes = []\n",
    "                    for out in outs:\n",
    "                        for detection in out:\n",
    "                            scores = detection[5:]\n",
    "                            class_id = np.argmax(scores)\n",
    "                            confidence = scores[class_id]\n",
    "                            if confidence > 0.5:\n",
    "                                # Récupérer les coordonnées de la boîte englobante\n",
    "                                center_x = int(detection[0] * camera_resolution[0])\n",
    "                                center_y = int(detection[1] * camera_resolution[1])\n",
    "                                w = int(detection[2] * camera_resolution[0])\n",
    "                                h = int(detection[3] * camera_resolution[1])\n",
    "\n",
    "                                boxes.append((center_x - w // 2, center_y - h // 2, w, h))\n",
    "\n",
    "                    # Initialiser les trackers pour les boîtes englobantes détectées\n",
    "                    for box in boxes:\n",
    "                        tracker = cv2.TrackerCSRT_create()\n",
    "                        trackers.add(tracker, img, (box[0], box[1], box[2], box[3]))\n",
    "\n",
    "                # Actualiser le suivi pour chaque objet\n",
    "                (success, boxes) = trackers.update(img)\n",
    "                for box in boxes:\n",
    "                    (x, y, w, h) = [int(v) for v in box]\n",
    "                    cv2.rectangle(img, (x, y), (x + w, y + h), (0, 255, 0), 2)\n",
    "\n",
    "                # Afficher le flux vidéo avec les boîtes englobantes\n",
    "                cv2.imshow('Camera', img)\n",
    "                if cv2.waitKey(1) & 0xFF == ord('q'):\n",
    "                    break\n",
    "\n",
    "                stream.truncate(0)\n",
    "\n",
    "    cv2.destroyAllWindows()\n",
    "\n",
    "if __name__ == \"__main__\":\n",
    "    track_objects()\n"
   ]
  },
  {
   "cell_type": "markdown",
   "metadata": {},
   "source": [
    "Dans cet exemple :\n",
    "\n",
    "    Nous avons utilisé le suivi de Centroid pour suivre les objets détectés dans le flux vidéo.\n",
    "    Lorsqu'aucun objet n'est suivi, nous détectons les objets à l'aide de YOLOv3 et initialisons les trackers pour ces objets.\n",
    "    Les trackers sont ensuite mis à jour à chaque image du flux vidéo pour suivre les objets détectés.\n",
    "\n",
    "Assurez-vous d'avoir téléchargé les fichiers du modèle YOLOv3 (yolov3.weights, yolov3.cfg, coco.names) et d'avoir les bibliothèques OpenCV et picamera installées sur votre Raspberry Pi. Vous devrez peut-être ajuster les chemins des fichiers du modèle et les paramètres de résolution de la caméra en fonction de vos besoins."
   ]
  }
 ],
 "metadata": {
  "kernelspec": {
   "display_name": "Python 3",
   "language": "python",
   "name": "python3"
  },
  "language_info": {
   "codemirror_mode": {
    "name": "ipython",
    "version": 3
   },
   "file_extension": ".py",
   "mimetype": "text/x-python",
   "name": "python",
   "nbconvert_exporter": "python",
   "pygments_lexer": "ipython3",
   "version": "3.11.8"
  }
 },
 "nbformat": 4,
 "nbformat_minor": 2
}
